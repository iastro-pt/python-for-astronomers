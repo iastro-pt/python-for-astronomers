{
 "metadata": {
  "name": "",
  "signature": "sha256:4b9a0be867f44655ce95dd1e6094dd27a2dd2841900db3cec2aca7e459d4c65d"
 },
 "nbformat": 3,
 "nbformat_minor": 0,
 "worksheets": [
  {
   "cells": [
    {
     "cell_type": "heading",
     "level": 1,
     "metadata": {},
     "source": [
      "Scripting with python"
     ]
    },
    {
     "cell_type": "markdown",
     "metadata": {},
     "source": [
      "For this IPython notebook are not a good choice. We refer the reader to [here](https://github.com/j-faria/python-for-astronomers/blob/master/scripting.md) instead. Don't worry, it will be good :)"
     ]
    }
   ],
   "metadata": {}
  }
 ]
}