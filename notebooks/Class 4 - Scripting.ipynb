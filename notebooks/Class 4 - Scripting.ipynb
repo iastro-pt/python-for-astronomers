{
 "metadata": {
  "name": "",
  "signature": "sha256:14c13d6faacaac4e77468909f6eff507845e401614da3d97937349f2ae491402"
 },
 "nbformat": 3,
 "nbformat_minor": 0,
 "worksheets": [
  {
   "cells": [
    {
     "cell_type": "heading",
     "level": 1,
     "metadata": {},
     "source": [
      "Scripting with python"
     ]
    },
    {
     "cell_type": "markdown",
     "metadata": {},
     "source": [
      "Python can be used for scripts to glue together external software, visualisation, and processing of data.\n",
      "\n",
      "Here is presented some useful tools to make scripts work with user input using flags (like in the shell), coloring you shell in fancy colors, catch exception etc.\n",
      "\n",
      "\n",
      "Let us define a problem (this is a real-life problem):\n",
      "We want to format data files for MOOG to read it. Here `.` of the columns have to be at the right place. The procedure will follow some simple steps:\n",
      "\n",
      "   1. The script take an unformatted data file as input.\n",
      "   2. The script somehow transform the input file to a MOOG readable file.\n",
      "   3. If no output file is specified, it could be saved in the same basename as the input file, but with the extension .moog."
     ]
    },
    {
     "cell_type": "code",
     "collapsed": false,
     "input": [
      "import argparse\n",
      "from clint.textui import puts, colored, indent\n",
      "from progressbar import ProgressBar"
     ],
     "language": "python",
     "metadata": {},
     "outputs": [],
     "prompt_number": 1
    },
    {
     "cell_type": "markdown",
     "metadata": {},
     "source": [
      "The `argparse` module is for user input and can automatically generate a help text with the `-h, --help` flags.\n",
      "\n",
      "The `clint` module can be installed with `pip install clint` and allows to color text. Why? Because it is awesome, but also increase readability if implememted correctly.\n",
      "\n",
      "The `progressbar` module is what it sounds like (install with `pip install progressbar`). A progressbar that shows how far a loop is. No longer need to\n",
      "\n",
      "    for i in range(1e4):\n",
      "       print i, '/', 1e4\n",
      "\n",
      "to see how long in a loop you are. It is simple to use (but probably only for long long processes)."
     ]
    },
    {
     "cell_type": "code",
     "collapsed": false,
     "input": [
      "progress = ProgressBar()\n",
      "import time\n",
      "from numpy import random\n",
      "for i in progress(range(1000)):\n",
      "    time.sleep(random.random()*0.001)"
     ],
     "language": "python",
     "metadata": {},
     "outputs": [
      {
       "output_type": "stream",
       "stream": "stderr",
       "text": [
        "  0% |                                                                        |\r",
        "  1% |                                                                        |\r",
        "  2% |#                                                                       |\r",
        "  3% |##                                                                      |\r",
        "  4% |##                                                                      |\r",
        "  5% |###                                                                     |\r",
        "  6% |####                                                                    |\r",
        "  7% |#####                                                                   |\r",
        "  8% |#####                                                                   |\r",
        "  9% |######                                                                  |\r"
       ]
      },
      {
       "output_type": "stream",
       "stream": "stderr",
       "text": [
        " 10% |#######                                                                 |\r",
        " 11% |#######                                                                 |\r",
        " 12% |########                                                                |\r",
        " 13% |#########                                                               |\r",
        " 14% |##########                                                              |\r",
        " 15% |##########                                                              |\r",
        " 16% |###########                                                             |\r",
        " 17% |############                                                            |\r",
        " 18% |############                                                            |\r",
        " 19% |#############                                                           |\r"
       ]
      },
      {
       "output_type": "stream",
       "stream": "stderr",
       "text": [
        " 20% |##############                                                          |\r",
        " 21% |###############                                                         |\r",
        " 22% |###############                                                         |\r",
        " 23% |################                                                        |\r",
        " 24% |#################                                                       |\r",
        " 25% |##################                                                      |\r",
        " 26% |##################                                                      |\r",
        " 27% |###################                                                     |\r",
        " 28% |####################                                                    |\r",
        " 29% |####################                                                    |\r"
       ]
      },
      {
       "output_type": "stream",
       "stream": "stderr",
       "text": [
        " 30% |#####################                                                   |\r",
        " 31% |######################                                                  |\r",
        " 32% |#######################                                                 |\r",
        " 33% |#######################                                                 |\r",
        " 34% |########################                                                |\r",
        " 35% |#########################                                               |\r",
        " 36% |#########################                                               |\r",
        " 37% |##########################                                              |\r",
        " 38% |###########################                                             |\r",
        " 39% |############################                                            |\r"
       ]
      },
      {
       "output_type": "stream",
       "stream": "stderr",
       "text": [
        " 40% |############################                                            |\r",
        " 41% |#############################                                           |\r",
        " 42% |##############################                                          |\r",
        " 43% |##############################                                          |\r",
        " 44% |###############################                                         |\r",
        " 45% |################################                                        |\r",
        " 46% |#################################                                       |\r",
        " 47% |#################################                                       |\r",
        " 48% |##################################                                      |\r",
        " 49% |###################################                                     |\r"
       ]
      },
      {
       "output_type": "stream",
       "stream": "stderr",
       "text": [
        " 50% |####################################                                    |\r",
        " 51% |####################################                                    |\r",
        " 52% |#####################################                                   |\r",
        " 53% |######################################                                  |\r",
        " 54% |######################################                                  |\r",
        " 55% |#######################################                                 |\r",
        " 56% |########################################                                |\r",
        " 57% |#########################################                               |\r",
        " 58% |#########################################                               |\r"
       ]
      },
      {
       "output_type": "stream",
       "stream": "stderr",
       "text": [
        " 59% |##########################################                              |\r",
        " 60% |###########################################                             |\r",
        " 61% |###########################################                             |\r",
        " 62% |############################################                            |\r",
        " 63% |#############################################                           |\r",
        " 64% |##############################################                          |\r",
        " 65% |##############################################                          |\r",
        " 66% |###############################################                         |\r",
        " 67% |################################################                        |\r"
       ]
      },
      {
       "output_type": "stream",
       "stream": "stderr",
       "text": [
        " 68% |################################################                        |\r",
        " 69% |#################################################                       |\r",
        " 70% |##################################################                      |\r",
        " 71% |###################################################                     |\r",
        " 72% |###################################################                     |\r",
        " 73% |####################################################                    |\r",
        " 74% |#####################################################                   |\r",
        " 75% |######################################################                  |\r",
        " 76% |######################################################                  |\r",
        " 77% |#######################################################                 |\r"
       ]
      },
      {
       "output_type": "stream",
       "stream": "stderr",
       "text": [
        " 78% |########################################################                |\r",
        " 79% |########################################################                |\r",
        " 80% |#########################################################               |\r",
        " 81% |##########################################################              |\r",
        " 82% |###########################################################             |\r",
        " 83% |###########################################################             |\r",
        " 84% |############################################################            |\r",
        " 85% |#############################################################           |\r",
        " 86% |#############################################################           |\r"
       ]
      },
      {
       "output_type": "stream",
       "stream": "stderr",
       "text": [
        " 87% |##############################################################          |\r",
        " 88% |###############################################################         |\r",
        " 89% |################################################################        |\r",
        " 90% |################################################################        |\r",
        " 91% |#################################################################       |\r",
        " 92% |##################################################################      |\r",
        " 93% |##################################################################      |\r",
        " 94% |###################################################################     |\r",
        " 95% |####################################################################    |\r"
       ]
      },
      {
       "output_type": "stream",
       "stream": "stderr",
       "text": [
        " 96% |#####################################################################   |\r",
        " 97% |#####################################################################   |\r",
        " 98% |######################################################################  |\r",
        " 99% |####################################################################### |\r",
        "100% |########################################################################|\r\n"
       ]
      }
     ],
     "prompt_number": 2
    },
    {
     "cell_type": "heading",
     "level": 2,
     "metadata": {},
     "source": [
      "argparse"
     ]
    },
    {
     "cell_type": "markdown",
     "metadata": {},
     "source": [
      "This module is a must for scripting! Especially if others needs to use your script and you don't want them to read the source code (nobody wants to read source code!).\n",
      "\n",
      "The big advantage is the generated help text known from shell commands (try run `ls --help`). Here is the beginning of the above script"
     ]
    },
    {
     "cell_type": "code",
     "collapsed": false,
     "input": [
      "parser = argparse.ArgumentParser(description='MOOG creator/converter for different routines.')  # The object is created\n",
      "\n",
      "# Let's add an argument (the input file).\n",
      "# This argument shoud be envoked with either -i or --input and be required.\n",
      "# An help text is provided\n",
      "# Note: input is an builtin python function, therefore we call it infile instead. You can call it input, but you shouldn't!!!\n",
      "parser.add_argument('-i', '--infile', required=True,\n",
      "                    help='Input data file')\n",
      "\n",
      "# Add an argument for the output file\n",
      "parser.add_argument('-o', '--output', default=None,\n",
      "                    help='Output file, if not an extension is specified it will be .moog')\n",
      "\n",
      "# Let's also add an header, but remember the help text is envoked with -h or --help.\n",
      "parser.add_argument('-H', '--header', default=None,\n",
      "                    help='The header for the file. If non is given, a standard header will be provided.')\n",
      "\n",
      "# Finally the arguments will be stored in the vaiable given below \"args\"\n",
      "args = parser.parse_args()\n",
      "\n",
      "print 'The input file:', args.infile\n",
      "print 'The output file:', args.output"
     ],
     "language": "python",
     "metadata": {},
     "outputs": [
      {
       "output_type": "stream",
       "stream": "stderr",
       "text": [
        "usage: -c [-h] -i INFILE [-o OUTPUT] [-H HEADER]\n",
        "-c: error: argument -i/--infile is required\n"
       ]
      },
      {
       "ename": "SystemExit",
       "evalue": "2",
       "output_type": "pyerr",
       "traceback": [
        "An exception has occurred, use %tb to see the full traceback.\n",
        "\u001b[1;31mSystemExit\u001b[0m\u001b[1;31m:\u001b[0m 2\n"
       ]
      },
      {
       "output_type": "stream",
       "stream": "stderr",
       "text": [
        "To exit: use 'exit', 'quit', or Ctrl-D.\n"
       ]
      }
     ],
     "prompt_number": 9
    }
   ],
   "metadata": {}
  }
 ]
}