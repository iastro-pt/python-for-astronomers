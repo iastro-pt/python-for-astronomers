{
 "cells": [
  {
   "cell_type": "markdown",
   "metadata": {},
   "source": [
    "# Class 1"
   ]
  },
  {
   "cell_type": "markdown",
   "metadata": {},
   "source": [
    "The most creative and \"pythonic\" solutions will be in this notebook. So please send us your solution. Remember to add a docstring to **ALL** your functions. This is good practise if other people are going to use your software later on."
   ]
  },
  {
   "cell_type": "markdown",
   "metadata": {},
   "source": [
    "## Vowels"
   ]
  },
  {
   "cell_type": "markdown",
   "metadata": {},
   "source": [
    "Write a function that takes a character (i.e. a string of length 1) and returns `True` if it is a vowel, `False` otherwise.\n",
    "\n",
    "To be clear vowels are the following letter (a, e, i, o, u, y)"
   ]
  },
  {
   "cell_type": "markdown",
   "metadata": {},
   "source": [
    "**Extra:** your function can give an error if you give it a parameter that is not a string. You can use the `assert` statement, to make sure you are dealing with a string. And maybe a second `assert` to make sure the string is of length 1."
   ]
  },
  {
   "cell_type": "code",
   "execution_count": 1,
   "metadata": {
    "collapsed": false
   },
   "outputs": [],
   "source": [
    "def vowel(char):\n",
    "    pass"
   ]
  },
  {
   "cell_type": "code",
   "execution_count": 2,
   "metadata": {
    "collapsed": false
   },
   "outputs": [
    {
     "name": "stdout",
     "output_type": "stream",
     "text": [
      "None\n",
      "None\n",
      "None\n",
      "None\n",
      "None\n"
     ]
    }
   ],
   "source": [
    "print vowel('a')  # -> True\n",
    "print vowel('g')  # -> False\n",
    "## Advanced\n",
    "print vowel(42)   # -> Not a str\n",
    "print vowel('ab') # -> more than 1 character\n",
    "print vowel('y')  # -> True, \"Sometimes a vowel\""
   ]
  },
  {
   "cell_type": "markdown",
   "metadata": {},
   "source": [
    "## Histogram"
   ]
  },
  {
   "cell_type": "markdown",
   "metadata": {},
   "source": [
    "Define a procedure histogram() that takes a list of integers and prints a histogram to the screen. "
   ]
  },
  {
   "cell_type": "markdown",
   "metadata": {},
   "source": [
    "**Extra:** The function could also take a user-defined character to make the histogram"
   ]
  },
  {
   "cell_type": "code",
   "execution_count": 7,
   "metadata": {
    "collapsed": false
   },
   "outputs": [],
   "source": [
    "def histogram(numbers):\n",
    "    pass\n",
    "\n",
    "## extra\n",
    "def histogram_adv(numbers, char):\n",
    "    pass"
   ]
  },
  {
   "cell_type": "code",
   "execution_count": 8,
   "metadata": {
    "collapsed": false
   },
   "outputs": [],
   "source": [
    "histogram([4, 9, 7])\n",
    "# should output:\n",
    "# ****\n",
    "# *********\n",
    "# *******"
   ]
  },
  {
   "cell_type": "code",
   "execution_count": 10,
   "metadata": {
    "collapsed": false
   },
   "outputs": [],
   "source": [
    "histogram_adv([3, 1], 7)\n",
    "# should output:\n",
    "# 777\n",
    "# 7"
   ]
  },
  {
   "cell_type": "code",
   "execution_count": null,
   "metadata": {
    "collapsed": false
   },
   "outputs": [],
   "source": [
    "histogram_adv([4, 1, 3], 'gh')  # I have no idea why you ever want to do that\n",
    "# should output:\n",
    "# ghghghgh\n",
    "# gh\n",
    "# ghghgh"
   ]
  },
  {
   "cell_type": "markdown",
   "metadata": {},
   "source": [
    "## Change a parameter file"
   ]
  },
  {
   "cell_type": "markdown",
   "metadata": {},
   "source": [
    "Write a function that can change the parameter file given here (parameter.par). It should be able to change the value of the `stars` parameter.\n",
    "\n",
    "Then use this function in a `for` loop for many different values.\n",
    "\n",
    "A last keyword can be given that change the output name."
   ]
  },
  {
   "cell_type": "markdown",
   "metadata": {},
   "source": [
    "**Extra:** Make a function that takes two inputs. First input is the parameter, second input is the value. Parameters can only be the parameters in the file: `parameter.par`."
   ]
  },
  {
   "cell_type": "code",
   "execution_count": 10,
   "metadata": {
    "collapsed": false
   },
   "outputs": [],
   "source": [
    "# Last keyword is optional and will be overwritten if provided.\n",
    "def parameter_stars(value, output='parameter.par'):\n",
    "    pass\n",
    "\n",
    "## Advanced\n",
    "def parameter_change(parameter, value, output='parameter.par'):\n",
    "    pass"
   ]
  },
  {
   "cell_type": "code",
   "execution_count": 9,
   "metadata": {
    "collapsed": false
   },
   "outputs": [],
   "source": [
    "parameter_stars(300)\n",
    "!cat parameter.par\n",
    "\n",
    "for number in [1, 30, 500, 1e6]:\n",
    "    # write function here...\n",
    "\n",
    "## Advanced\n",
    "parameter_change('lecturer', 'Me, Myself & Irene')\n",
    "!cat parameter.par"
   ]
  },
  {
   "cell_type": "markdown",
   "metadata": {},
   "source": [
    "# Class 2"
   ]
  },
  {
   "cell_type": "markdown",
   "metadata": {},
   "source": [
    "## Monte Carlo estimate for $\\pi$  with numpy"
   ]
  },
  {
   "cell_type": "markdown",
   "metadata": {},
   "source": [
    "Estimate $\\pi$ using a Monte Carlo method. How?\n",
    "\n",
    "Suppose you have a unit circle inscribed in a unit square. The area of the circle is $\\pi R^2 = \\pi$ and the area of the square is $2R \\times 2R = 4R^2 = 4$.\n",
    "\n",
    "So if we divide the area of the circle by the area of the square we get Pi / 4.\n",
    "\n",
    "One can estimate both areas by simulating random points within the unit square and counting which of those fall within the circle. "
   ]
  },
  {
   "cell_type": "code",
   "execution_count": 11,
   "metadata": {
    "collapsed": false
   },
   "outputs": [
    {
     "data": {
      "text/html": [
       "<img src=\"http://polymer.bu.edu/java/java/montepi/fig1.gif\"/>"
      ],
      "text/plain": [
       "<IPython.core.display.Image object>"
      ]
     },
     "execution_count": 11,
     "metadata": {},
     "output_type": "execute_result"
    }
   ],
   "source": [
    "from IPython.display import Image\n",
    "Image(url='http://polymer.bu.edu/java/java/montepi/fig1.gif')"
   ]
  },
  {
   "cell_type": "code",
   "execution_count": 12,
   "metadata": {
    "collapsed": false
   },
   "outputs": [
    {
     "name": "stdout",
     "output_type": "stream",
     "text": [
      "result:   0.0000000000000000\n",
      "real pi:  3.1415926535897931\n"
     ]
    }
   ],
   "source": [
    "from numpy import pi  # this is the real value to which we will compare our estimate\n",
    "\n",
    "# randomly simulate n points over the unit square\n",
    "n = 100000\n",
    "#...\n",
    "#... hint: you might need some function from numpy.random\n",
    "\n",
    "# count the points which fall inside the unit circle\n",
    "#...\n",
    "\n",
    "\n",
    "\n",
    "# estimate of pi\n",
    "pi_estimate = 0\n",
    "\n",
    "print 'result:  ', '%0.16f' % (pi_estimate)\n",
    "print 'real pi: ', '%0.16f' % pi"
   ]
  },
  {
   "cell_type": "markdown",
   "metadata": {},
   "source": [
    "Now try plotting the points inside the unic circle in red and the points outside in blue. You can also play around with the `alpha` parameter for the plot function."
   ]
  },
  {
   "cell_type": "code",
   "execution_count": 14,
   "metadata": {
    "collapsed": false
   },
   "outputs": [
    {
     "name": "stdout",
     "output_type": "stream",
     "text": [
      "Populating the interactive namespace from numpy and matplotlib\n"
     ]
    },
    {
     "data": {
      "image/png": "[encoded data removed]",
      "text/plain": [
       "<matplotlib.figure.Figure at 0x7ffb9b9b4050>"
      ]
     },
     "metadata": {},
     "output_type": "display_data"
    }
   ],
   "source": [
    "# only for the notebook\n",
    "%pylab inline\n",
    "\n",
    "figure()\n",
    "subplot(111)\n",
    "show()"
   ]
  },
  {
   "cell_type": "markdown",
   "metadata": {},
   "source": [
    "## Numerical integral estimate for $\\pi$ using Scipy"
   ]
  },
  {
   "cell_type": "markdown",
   "metadata": {},
   "source": [
    "Monte Carlo methods are great, but it's often useful to actually know some math!\n",
    "\n",
    "Use one of the integral representations from this site http://functions.wolfram.com/Constants/Pi/07/01/01/ to approximate $\\pi$ using Scipy's numerical integration functions"
   ]
  },
  {
   "cell_type": "code",
   "execution_count": 15,
   "metadata": {
    "collapsed": false
   },
   "outputs": [
    {
     "name": "stdout",
     "output_type": "stream",
     "text": [
      "result:   0.0000000000000000\n",
      "real pi:  3.1415926535897931\n"
     ]
    }
   ],
   "source": [
    "from scipy.integrate import *  # change to import only the function you actually need\n",
    "\n",
    "\n",
    "def integrand():\n",
    "    pass\n",
    "\n",
    "pi_estimate = 0\n",
    "\n",
    "print 'result:  ', '%0.16f' % (pi_estimate)\n",
    "print 'real pi: ', '%0.16f' % pi"
   ]
  },
  {
   "cell_type": "markdown",
   "metadata": {},
   "source": [
    "# Class 3"
   ]
  },
  {
   "cell_type": "markdown",
   "metadata": {},
   "source": [
    "### Working a bit with a simple FITS file"
   ]
  },
  {
   "cell_type": "markdown",
   "metadata": {},
   "source": [
    "In this exercise you should try to read the `newfits.fits`, change a header entry and save it again. There are many ways of saving it (take a look at the astropy homepage as linked in the notebook), choose the one you prefer.\n",
    "\n",
    "** Ideas for entries to change **\n",
    "\n",
    "* The `Time` can be set to the actual time _right now_ (Hint: there is a python module for handling time: time and/or datetime).\n",
    "* The `Author` of the fits file.\n",
    "* Some `Comments`.\n",
    "* The `Object`.\n",
    "* Etc."
   ]
  },
  {
   "cell_type": "markdown",
   "metadata": {},
   "source": [
    "### Make a time series of a spectral line"
   ]
  },
  {
   "cell_type": "markdown",
   "metadata": {},
   "source": [
    "This is in principle an easy exercise. Make three theoritical spectral lines (Guassians are fine for this) and add some noise.\n",
    "\n",
    "This represent the rest frame. Now assume the spectra are from a single star in a binary system (we can not see the other companion in the spectra), and make a timeseries of 10 datapoints with different radial velocities (RV).\n",
    "\n",
    "You must use your own RV semi-amplitude and period of the system (not important for once).\n",
    "\n",
    "Present the 10 spectra (and maybe a RV phase curve as well) in some different ways.\n",
    "\n",
    "** Ideas for presenting the data **\n",
    "\n",
    "* Try one where you present it as ugly as possible without any loss of information (this is for comparison).\n",
    "* Try to make the best plot possible.\n",
    "\n",
    "You can present everything in 1 plot or divide it into several, it is completely up to you (we are very different in how we present our data).\n",
    "\n",
    "** Extra **\n",
    "\n",
    "You can maybe try to fit the RV phase curve with a `sin` function (look at the astropy fitting package) and recover the RV semi-amplitude. Assume the period known so you can make the phase curve (hint: just let time go from 0 to 1)."
   ]
  }
 ],
 "metadata": {
  "kernelspec": {
   "display_name": "Python 2",
   "language": "python",
   "name": "python2"
  },
  "language_info": {
   "codemirror_mode": {
    "name": "ipython",
    "version": 2
   },
   "file_extension": ".py",
   "mimetype": "text/x-python",
   "name": "python",
   "nbconvert_exporter": "python",
   "pygments_lexer": "ipython2",
   "version": "2.7.12"
  }
 },
 "nbformat": 4,
 "nbformat_minor": 0
}
