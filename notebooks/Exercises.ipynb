{
 "metadata": {
  "name": "",
  "signature": "sha256:043f16bb15d00a2362e241dff40c65441d79574227144a6affc44a1e5542304c"
 },
 "nbformat": 3,
 "nbformat_minor": 0,
 "worksheets": [
  {
   "cells": [
    {
     "cell_type": "heading",
     "level": 1,
     "metadata": {},
     "source": [
      "Class 1"
     ]
    },
    {
     "cell_type": "markdown",
     "metadata": {},
     "source": [
      "The most creative and \"pythonic\" solutions will be in this notebook. So please send us your solution. Remember to add a docstring to **ALL** your functions. This is good practise if other people are going to use your software later on.\n",
      "\n",
      "The one with most answers in the notebook in the end of the advanced course wins a Christmas gift :)"
     ]
    },
    {
     "cell_type": "heading",
     "level": 2,
     "metadata": {},
     "source": [
      "Vowels"
     ]
    },
    {
     "cell_type": "markdown",
     "metadata": {},
     "source": [
      "Write a function that takes a character (i.e. a string of length 1) and returns `True` if it is a vowel, `False` otherwise.\n",
      "\n",
      "To be clear vowels are the following letter (a, e, i, o, u, y)"
     ]
    },
    {
     "cell_type": "heading",
     "level": 3,
     "metadata": {},
     "source": [
      "Advanced"
     ]
    },
    {
     "cell_type": "markdown",
     "metadata": {},
     "source": [
      "Tell if you try to use a character that is not a string. See advanced example below."
     ]
    },
    {
     "cell_type": "code",
     "collapsed": false,
     "input": [
      "def vowel(char):\n",
      "    if not isinstance(char, str) or len(char) > 1:\n",
      "        raise ValueError('char is not a string or is long than 1')\n",
      "    return char in 'aeiouy'"
     ],
     "language": "python",
     "metadata": {},
     "outputs": [],
     "prompt_number": 2
    },
    {
     "cell_type": "heading",
     "level": 3,
     "metadata": {},
     "source": [
      "Example"
     ]
    },
    {
     "cell_type": "code",
     "collapsed": false,
     "input": [
      "print vowel('a')  # -> True\n",
      "print vowel('g')  # -> False\n",
      "## Advanced\n",
      "print vowel(42)   # -> Not a str\n",
      "print vowel('ab')  # -> more than 1 character\n",
      "print vowel('y')  # -> True, \"Sometimes a vowel\""
     ],
     "language": "python",
     "metadata": {},
     "outputs": [
      {
       "output_type": "stream",
       "stream": "stdout",
       "text": [
        "True\n",
        "False\n"
       ]
      },
      {
       "ename": "ValueError",
       "evalue": "char is not a string or is long than 1",
       "output_type": "pyerr",
       "traceback": [
        "\u001b[1;31m---------------------------------------------------------------------------\u001b[0m\n\u001b[1;31mValueError\u001b[0m                                Traceback (most recent call last)",
        "\u001b[1;32m<ipython-input-3-39d7d6398f0e>\u001b[0m in \u001b[0;36m<module>\u001b[1;34m()\u001b[0m\n\u001b[0;32m      2\u001b[0m \u001b[1;32mprint\u001b[0m \u001b[0mvowel\u001b[0m\u001b[1;33m(\u001b[0m\u001b[1;34m'g'\u001b[0m\u001b[1;33m)\u001b[0m  \u001b[1;31m# -> False\u001b[0m\u001b[1;33m\u001b[0m\u001b[0m\n\u001b[0;32m      3\u001b[0m \u001b[1;31m## Advanced\u001b[0m\u001b[1;33m\u001b[0m\u001b[1;33m\u001b[0m\u001b[0m\n\u001b[1;32m----> 4\u001b[1;33m \u001b[1;32mprint\u001b[0m \u001b[0mvowel\u001b[0m\u001b[1;33m(\u001b[0m\u001b[1;36m42\u001b[0m\u001b[1;33m)\u001b[0m   \u001b[1;31m# -> Not a str\u001b[0m\u001b[1;33m\u001b[0m\u001b[0m\n\u001b[0m\u001b[0;32m      5\u001b[0m \u001b[1;32mprint\u001b[0m \u001b[0mvowel\u001b[0m\u001b[1;33m(\u001b[0m\u001b[1;34m'ab'\u001b[0m\u001b[1;33m)\u001b[0m  \u001b[1;31m# -> more than 1 character\u001b[0m\u001b[1;33m\u001b[0m\u001b[0m\n\u001b[0;32m      6\u001b[0m \u001b[1;32mprint\u001b[0m \u001b[0mvowel\u001b[0m\u001b[1;33m(\u001b[0m\u001b[1;34m'y'\u001b[0m\u001b[1;33m)\u001b[0m  \u001b[1;31m# -> True, \"Sometimes a vowel\"\u001b[0m\u001b[1;33m\u001b[0m\u001b[0m\n",
        "\u001b[1;32m<ipython-input-2-64c256ca0435>\u001b[0m in \u001b[0;36mvowel\u001b[1;34m(char)\u001b[0m\n\u001b[0;32m      1\u001b[0m \u001b[1;32mdef\u001b[0m \u001b[0mvowel\u001b[0m\u001b[1;33m(\u001b[0m\u001b[0mchar\u001b[0m\u001b[1;33m)\u001b[0m\u001b[1;33m:\u001b[0m\u001b[1;33m\u001b[0m\u001b[0m\n\u001b[0;32m      2\u001b[0m     \u001b[1;32mif\u001b[0m \u001b[1;32mnot\u001b[0m \u001b[0misinstance\u001b[0m\u001b[1;33m(\u001b[0m\u001b[0mchar\u001b[0m\u001b[1;33m,\u001b[0m \u001b[0mstr\u001b[0m\u001b[1;33m)\u001b[0m \u001b[1;32mor\u001b[0m \u001b[0mlen\u001b[0m\u001b[1;33m(\u001b[0m\u001b[0mchar\u001b[0m\u001b[1;33m)\u001b[0m \u001b[1;33m>\u001b[0m \u001b[1;36m1\u001b[0m\u001b[1;33m:\u001b[0m\u001b[1;33m\u001b[0m\u001b[0m\n\u001b[1;32m----> 3\u001b[1;33m         \u001b[1;32mraise\u001b[0m \u001b[0mValueError\u001b[0m\u001b[1;33m(\u001b[0m\u001b[1;34m'char is not a string or is long than 1'\u001b[0m\u001b[1;33m)\u001b[0m\u001b[1;33m\u001b[0m\u001b[0m\n\u001b[0m\u001b[0;32m      4\u001b[0m     \u001b[1;32mreturn\u001b[0m \u001b[0mchar\u001b[0m \u001b[1;32min\u001b[0m \u001b[1;34m'aeiouy'\u001b[0m\u001b[1;33m\u001b[0m\u001b[0m\n",
        "\u001b[1;31mValueError\u001b[0m: char is not a string or is long than 1"
       ]
      }
     ],
     "prompt_number": 3
    },
    {
     "cell_type": "markdown",
     "metadata": {},
     "source": [
      "For the advanced you can use `assert` to make sure you are dealing with a string. And maybe a second `assert` to make sure the string is of length 1."
     ]
    },
    {
     "cell_type": "heading",
     "level": 2,
     "metadata": {},
     "source": [
      "Histogram"
     ]
    },
    {
     "cell_type": "markdown",
     "metadata": {},
     "source": [
      "Define a procedure histogram() that takes a list of integers and prints a histogram to the screen. "
     ]
    },
    {
     "cell_type": "heading",
     "level": 3,
     "metadata": {},
     "source": [
      "Advanced"
     ]
    },
    {
     "cell_type": "markdown",
     "metadata": {},
     "source": [
      "The function could also take a user-defined character to make the histogram. See advanced example below."
     ]
    },
    {
     "cell_type": "code",
     "collapsed": false,
     "input": [
      "def histogram(numbers):\n",
      "    pass\n",
      "\n",
      "## Advanced\n",
      "def histogram_adv(numbers, char):\n",
      "    if not isinstance(char, str):\n",
      "        char = str(char)\n",
      "    if hasattr(numbers, '__iter__'):\n",
      "        for number in numbers:\n",
      "            print number * char"
     ],
     "language": "python",
     "metadata": {},
     "outputs": [],
     "prompt_number": 4
    },
    {
     "cell_type": "heading",
     "level": 3,
     "metadata": {},
     "source": [
      "Example"
     ]
    },
    {
     "cell_type": "code",
     "collapsed": false,
     "input": [
      "histogram([4, 9, 7])"
     ],
     "language": "python",
     "metadata": {},
     "outputs": [
      {
       "ename": "NameError",
       "evalue": "name 'histogram' is not defined",
       "output_type": "pyerr",
       "traceback": [
        "\u001b[1;31m---------------------------------------------------------------------------\u001b[0m\n\u001b[1;31mNameError\u001b[0m                                 Traceback (most recent call last)",
        "\u001b[1;32m<ipython-input-1-dd769682ea3c>\u001b[0m in \u001b[0;36m<module>\u001b[1;34m()\u001b[0m\n\u001b[1;32m----> 1\u001b[1;33m \u001b[0mhistogram\u001b[0m\u001b[1;33m(\u001b[0m\u001b[1;33m[\u001b[0m\u001b[1;36m4\u001b[0m\u001b[1;33m,\u001b[0m \u001b[1;36m9\u001b[0m\u001b[1;33m,\u001b[0m \u001b[1;36m7\u001b[0m\u001b[1;33m]\u001b[0m\u001b[1;33m)\u001b[0m\u001b[1;33m\u001b[0m\u001b[0m\n\u001b[0m",
        "\u001b[1;31mNameError\u001b[0m: name 'histogram' is not defined"
       ]
      }
     ],
     "prompt_number": 1
    },
    {
     "cell_type": "code",
     "collapsed": false,
     "input": [
      "****\n",
      "*********\n",
      "*******"
     ],
     "language": "python",
     "metadata": {},
     "outputs": []
    },
    {
     "cell_type": "code",
     "collapsed": false,
     "input": [
      "histogram_adv([3, 1], 7)"
     ],
     "language": "python",
     "metadata": {},
     "outputs": []
    },
    {
     "cell_type": "code",
     "collapsed": false,
     "input": [
      "777\n",
      "7"
     ],
     "language": "python",
     "metadata": {},
     "outputs": []
    },
    {
     "cell_type": "code",
     "collapsed": false,
     "input": [
      "histogram_adv([4, 1, 3], 'gh')  # I have no idea why you ever want to do that."
     ],
     "language": "python",
     "metadata": {},
     "outputs": []
    },
    {
     "cell_type": "code",
     "collapsed": false,
     "input": [
      "ghghghgh\n",
      "gh\n",
      "ghghgh"
     ],
     "language": "python",
     "metadata": {},
     "outputs": []
    },
    {
     "cell_type": "heading",
     "level": 2,
     "metadata": {},
     "source": [
      "Change a parameter file"
     ]
    },
    {
     "cell_type": "markdown",
     "metadata": {},
     "source": [
      "Write a function that can change the parameter file given here (parameter.par). It should be able to change the value of the `stars` parameter.\n",
      "\n",
      "Then use this function in a `for` loop for many different values.\n",
      "\n",
      "A last keyword can be given that change the output name."
     ]
    },
    {
     "cell_type": "heading",
     "level": 3,
     "metadata": {},
     "source": [
      "Advanced"
     ]
    },
    {
     "cell_type": "markdown",
     "metadata": {},
     "source": [
      "Make a function that takes two inputs. First input is the parameter, second input is the value. Parameters can only be the parameters in the file: `parameter.par`."
     ]
    },
    {
     "cell_type": "code",
     "collapsed": false,
     "input": [
      "def parameter_stars(value, output='parameter.par'):  # Last keyword is optional and will be overwritten if provided.\n",
      "    pass\n",
      "\n",
      "## Advanced\n",
      "def parameter_change(parameter, value, output='parameter.par'):\n",
      "    pass"
     ],
     "language": "python",
     "metadata": {},
     "outputs": [],
     "prompt_number": 10
    },
    {
     "cell_type": "heading",
     "level": 3,
     "metadata": {},
     "source": [
      "Example"
     ]
    },
    {
     "cell_type": "code",
     "collapsed": false,
     "input": [
      "parameter_stars(300)\n",
      "!cat parameter.par\n",
      "\n",
      "for number in [1, 30, 500, 1e6]:\n",
      "    # write function here...\n",
      "\n",
      "## Advanced\n",
      "parameter_change('lecturer', 'Me, Myself & Irene')\n",
      "!cat parameter.par"
     ],
     "language": "python",
     "metadata": {},
     "outputs": [],
     "prompt_number": 9
    },
    {
     "cell_type": "heading",
     "level": 1,
     "metadata": {},
     "source": [
      "Class 2"
     ]
    },
    {
     "cell_type": "heading",
     "level": 4,
     "metadata": {},
     "source": [
      "Monte Carlo estimate for $\\pi$ with numpy"
     ]
    },
    {
     "cell_type": "markdown",
     "metadata": {},
     "source": [
      "Estimate $\\pi$ using a Monte Carlo method. How?\n",
      "\n",
      "Suppose you have a unit circle inscribed in a unit square. The area of the circle is $\\pi R^2 = \\pi$ and the area of the square is $2R \\times 2R = 4R^2 = 4$.\n",
      "\n",
      "So if we divide the area of the circle by the area of the square we get Pi / 4.\n",
      "\n",
      "One can estimate both areas by simulating random points within the unit square and counting which of those fall within the circle. "
     ]
    },
    {
     "cell_type": "code",
     "collapsed": false,
     "input": [
      "from IPython.display import Image\n",
      "Image(url='http://polymer.bu.edu/java/java/montepi/fig1.gif')"
     ],
     "language": "python",
     "metadata": {},
     "outputs": [
      {
       "html": [
        "<img src=\"http://polymer.bu.edu/java/java/montepi/fig1.gif\"/>"
       ],
       "metadata": {},
       "output_type": "pyout",
       "prompt_number": 2,
       "text": [
        "<IPython.core.display.Image at 0xb494e58c>"
       ]
      }
     ],
     "prompt_number": 2
    },
    {
     "cell_type": "code",
     "collapsed": false,
     "input": [
      "from numpy import pi  # this is the real value to which we will compare our estimate\n",
      "\n",
      "# randomly simulate n points over the unit square\n",
      "n = 100000\n",
      "#...\n",
      "#... hint: you might need some function from numpy.random\n",
      "\n",
      "# count the points which fall inside the unit circle\n",
      "#...\n",
      "\n",
      "\n",
      "\n",
      "# estimate of pi\n",
      "pi_estimate = 0\n",
      "\n",
      "print 'result:  ', '%0.16f' % (pi_estimate)\n",
      "print 'real pi: ', '%0.16f' % pi"
     ],
     "language": "python",
     "metadata": {},
     "outputs": [
      {
       "output_type": "stream",
       "stream": "stdout",
       "text": [
        "result:   0.0000000000000000\n",
        "real pi:  3.1415926535897931\n"
       ]
      }
     ],
     "prompt_number": 6
    },
    {
     "cell_type": "markdown",
     "metadata": {},
     "source": [
      "Now try plotting the points inside the unic circle in red and the points outside in blue. You can also play around with the `alpha` parameter for the plot function."
     ]
    },
    {
     "cell_type": "code",
     "collapsed": false,
     "input": [
      "# only for the notebook\n",
      "%pylab inline\n",
      "\n",
      "figure()\n",
      "subplot(111)\n",
      "show()"
     ],
     "language": "python",
     "metadata": {},
     "outputs": [
      {
       "output_type": "stream",
       "stream": "stdout",
       "text": [
        "Populating the interactive namespace from numpy and matplotlib\n"
       ]
      },
      {
       "metadata": {},
       "output_type": "display_data",
       "png": "[encoded data removed]",
       "text": [
        "<matplotlib.figure.Figure at 0xa97b2e8c>"
       ]
      }
     ],
     "prompt_number": 12
    },
    {
     "cell_type": "heading",
     "level": 4,
     "metadata": {},
     "source": [
      "Numerical integral estimate for $\\pi$ using Scipy"
     ]
    },
    {
     "cell_type": "markdown",
     "metadata": {},
     "source": [
      "Monte Carlo methods are great, but it's often useful to actually know some math!\n",
      "\n",
      "Use one of the integral representations from this site http://functions.wolfram.com/Constants/Pi/07/01/01/ to approximate $\\pi$ using Scipy's numerical integration functions"
     ]
    },
    {
     "cell_type": "code",
     "collapsed": false,
     "input": [
      "from scipy.integrate import *  # change to the function you actually need\n",
      "\n",
      "\n",
      "def integrand():\n",
      "    pass\n",
      "\n",
      "pi_estimate = 0\n",
      "\n",
      "print 'result:  ', '%0.16f' % (pi_estimate)\n",
      "print 'real pi: ', '%0.16f' % pi"
     ],
     "language": "python",
     "metadata": {},
     "outputs": [
      {
       "output_type": "stream",
       "stream": "stdout",
       "text": [
        "result:   0.0000000000000000\n",
        "real pi:  3.1415926535897931\n"
       ]
      }
     ],
     "prompt_number": 18
    },
    {
     "cell_type": "heading",
     "level": 1,
     "metadata": {},
     "source": [
      "Class 3"
     ]
    },
    {
     "cell_type": "heading",
     "level": 3,
     "metadata": {},
     "source": [
      "Working a bit with a simple FITS file"
     ]
    },
    {
     "cell_type": "markdown",
     "metadata": {},
     "source": [
      "In this exercise you should try to read the `newfits.fits`, change a header entry and save it again. There are many ways of saving it (take a look at the astropy homepage as linked in the notebook), choose the one you prefer.\n",
      "\n",
      "** Ideas for entries to change **\n",
      "\n",
      "* The `Time` can be set to the actual time _right now_ (Hint: there is a python module for handling time: time and/or datetime).\n",
      "* The `Author` of the fits file.\n",
      "* Some `Comments`.\n",
      "* The `Object`.\n",
      "* Etc."
     ]
    },
    {
     "cell_type": "heading",
     "level": 3,
     "metadata": {},
     "source": [
      "Make a time series of a spectral line"
     ]
    },
    {
     "cell_type": "markdown",
     "metadata": {},
     "source": [
      "This is in principle an easy exercise. Make three theoritical spectral lines (Guassians are fine for this) and add some noise.\n",
      "\n",
      "This represent the rest frame. Now assume the spectra are from a single star in a binary system (we can not see the other companion in the spectra), and make a timeseries of 10 datapoints with different radial velocities (RV).\n",
      "\n",
      "You must use your own RV semi-amplitude and period of the system (not important for once).\n",
      "\n",
      "Present the 10 spectra (and maybe a RV phase curve as well) in some different ways.\n",
      "\n",
      "** Ideas for presenting the data **\n",
      "\n",
      "* Try one where you present it as ugly as possible without any loss of information (this is for comparison).\n",
      "* Try to make the best plot possible.\n",
      "\n",
      "You can present everything in 1 plot or divide it into several, it is completely up to you (we are very different in how we present our data).\n",
      "\n",
      "** Extra **\n",
      "\n",
      "You can maybe try to fit the RV phase curve with a `sin` function (look at the astropy fitting package) and recover the RV semi-amplitude. Assume the period known so you can make the phase curve (hint: just let time go from 0 to 1)."
     ]
    }
   ],
   "metadata": {}
  }
 ]
}