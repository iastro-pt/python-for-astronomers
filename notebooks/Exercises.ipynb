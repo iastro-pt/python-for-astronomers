{
 "metadata": {
  "name": "",
  "signature": "sha256:9a3dc281f8ad74779a0729adef10aa8d1cf1ba537dbf452ddfa9d01d48db26bc"
 },
 "nbformat": 3,
 "nbformat_minor": 0,
 "worksheets": [
  {
   "cells": [
    {
     "cell_type": "heading",
     "level": 1,
     "metadata": {},
     "source": [
      "Class 1"
     ]
    },
    {
     "cell_type": "markdown",
     "metadata": {},
     "source": [
      "The most creative and \"pythonic\" solutions will be in this notebook. So please send us your solution. Remember to add a docstring to **ALL** your functions. This is good practise if other people are going to use your software later on.\n",
      "\n",
      "The one with most answers in the notebook in the end of the advanced course wins a Christmas gift :)"
     ]
    },
    {
     "cell_type": "heading",
     "level": 2,
     "metadata": {},
     "source": [
      "Vowels"
     ]
    },
    {
     "cell_type": "markdown",
     "metadata": {},
     "source": [
      "Write a function that takes a character (i.e. a string of length 1) and returns `True` if it is a vowel, `False` otherwise.\n",
      "\n",
      "To be clear vowels are the following letter (a, e, i, o, u, y)"
     ]
    },
    {
     "cell_type": "heading",
     "level": 3,
     "metadata": {},
     "source": [
      "Advanced"
     ]
    },
    {
     "cell_type": "markdown",
     "metadata": {},
     "source": [
      "Tell if you try to use a character that is not a string. See advanced example below."
     ]
    },
    {
     "cell_type": "code",
     "collapsed": false,
     "input": [
      "def vowel(char):\n",
      "    pass"
     ],
     "language": "python",
     "metadata": {},
     "outputs": [],
     "prompt_number": 1
    },
    {
     "cell_type": "heading",
     "level": 3,
     "metadata": {},
     "source": [
      "Example"
     ]
    },
    {
     "cell_type": "code",
     "collapsed": false,
     "input": [
      "print vowel('a')  # -> True\n",
      "print vowel('g')  # -> False\n",
      "## Advanced\n",
      "print vowel(42)   # -> Not a str"
     ],
     "language": "python",
     "metadata": {},
     "outputs": [
      {
       "output_type": "stream",
       "stream": "stdout",
       "text": [
        "None\n",
        "None\n",
        "None\n"
       ]
      }
     ],
     "prompt_number": 2
    },
    {
     "cell_type": "markdown",
     "metadata": {},
     "source": [
      "For the advanced you can use `assert` to make sure you are dealing with a string. And maybe a second `assert` to make sure the string is of length 1."
     ]
    },
    {
     "cell_type": "heading",
     "level": 2,
     "metadata": {},
     "source": [
      "Histogram"
     ]
    },
    {
     "cell_type": "markdown",
     "metadata": {},
     "source": [
      "Define a procedure histogram() that takes a list of integers and prints a histogram to the screen. "
     ]
    },
    {
     "cell_type": "heading",
     "level": 3,
     "metadata": {},
     "source": [
      "Advanced"
     ]
    },
    {
     "cell_type": "markdown",
     "metadata": {},
     "source": [
      "The function could also take a user-defined character to make the histogram. See advanced example below."
     ]
    },
    {
     "cell_type": "code",
     "collapsed": false,
     "input": [
      "def histogram(numbers):\n",
      "    pass\n",
      "\n",
      "## Advanced\n",
      "def histogram_adv(numbers, char):\n",
      "    pass"
     ],
     "language": "python",
     "metadata": {},
     "outputs": [],
     "prompt_number": 7
    },
    {
     "cell_type": "heading",
     "level": 3,
     "metadata": {},
     "source": [
      "Example"
     ]
    },
    {
     "cell_type": "code",
     "collapsed": false,
     "input": [
      "histogram([4, 9, 7])"
     ],
     "language": "python",
     "metadata": {},
     "outputs": []
    },
    {
     "cell_type": "code",
     "collapsed": false,
     "input": [
      "****\n",
      "*********\n",
      "*******"
     ],
     "language": "python",
     "metadata": {},
     "outputs": []
    },
    {
     "cell_type": "code",
     "collapsed": false,
     "input": [
      "histogram_adv([3, 1], 7)"
     ],
     "language": "python",
     "metadata": {},
     "outputs": []
    },
    {
     "cell_type": "code",
     "collapsed": false,
     "input": [
      "777\n",
      "7"
     ],
     "language": "python",
     "metadata": {},
     "outputs": []
    },
    {
     "cell_type": "code",
     "collapsed": false,
     "input": [
      "histogram_adv([4, 1, 3], 'gh')  # I have no idea why you ever want to do that."
     ],
     "language": "python",
     "metadata": {},
     "outputs": []
    },
    {
     "cell_type": "code",
     "collapsed": false,
     "input": [
      "ghghghgh\n",
      "gh\n",
      "ghghgh"
     ],
     "language": "python",
     "metadata": {},
     "outputs": []
    },
    {
     "cell_type": "heading",
     "level": 2,
     "metadata": {},
     "source": [
      "Change a parameter file"
     ]
    },
    {
     "cell_type": "markdown",
     "metadata": {},
     "source": [
      "Write a function that can change the parameter file given here (parameter.par). It should be able to change the value of the `stars` parameter.\n",
      "\n",
      "Then use this function in a `for` loop for many different values.\n",
      "\n",
      "A last keyword can be given that change the output name."
     ]
    },
    {
     "cell_type": "heading",
     "level": 3,
     "metadata": {},
     "source": [
      "Advanced"
     ]
    },
    {
     "cell_type": "markdown",
     "metadata": {},
     "source": [
      "Make a function that takes two inputs. First input is the parameter, second input is the value. Parameters can only be the parameters in the file: `parameter.par`."
     ]
    },
    {
     "cell_type": "code",
     "collapsed": false,
     "input": [
      "def parameter_stars(value, output='parameter.par'):  # Last keyword is optional and will be overwritten if provided.\n",
      "    pass\n",
      "\n",
      "## Advanced\n",
      "def parameter_change(parameter, value, output='parameter.par'):\n",
      "    pass"
     ],
     "language": "python",
     "metadata": {},
     "outputs": [],
     "prompt_number": 10
    },
    {
     "cell_type": "heading",
     "level": 3,
     "metadata": {},
     "source": [
      "Example"
     ]
    },
    {
     "cell_type": "code",
     "collapsed": false,
     "input": [
      "parameter_stars(300)\n",
      "!cat parameter.par\n",
      "\n",
      "for number in [1, 30, 500, 1e6]:\n",
      "    # write function here...\n",
      "\n",
      "## Advanced\n",
      "parameter_change('lecturer', 'Me, Myself & Irene')\n",
      "!cat parameter.par"
     ],
     "language": "python",
     "metadata": {},
     "outputs": [],
     "prompt_number": 9
    }
   ],
   "metadata": {}
  }
 ]
}