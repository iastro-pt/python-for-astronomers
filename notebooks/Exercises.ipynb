{
 "metadata": {
  "name": "",
  "signature": "sha256:919a9d459d0fb63613420a64e7e2963b9461c6372c00fce80a87bc373afb5844"
 },
 "nbformat": 3,
 "nbformat_minor": 0,
 "worksheets": [
  {
   "cells": [
    {
     "cell_type": "markdown",
     "metadata": {},
     "source": [
      "Write a function that takes a character (i.e. a string of length 1) and returns True if it is a vowel, False otherwise."
     ]
    },
    {
     "cell_type": "code",
     "collapsed": false,
     "input": [],
     "language": "python",
     "metadata": {},
     "outputs": [],
     "prompt_number": 1
    },
    {
     "cell_type": "markdown",
     "metadata": {},
     "source": [
      "Define a procedure histogram() that takes a list of integers and prints a histogram to the screen. \n",
      "\n",
      "For example, histogram([4, 9, 7]) should print the following:\n",
      "\n",
      "++++\n",
      "\n",
      "+++++++++\n",
      "\n",
      "+++++++"
     ]
    },
    {
     "cell_type": "code",
     "collapsed": false,
     "input": [],
     "language": "python",
     "metadata": {},
     "outputs": []
    }
   ],
   "metadata": {}
  }
 ]
}