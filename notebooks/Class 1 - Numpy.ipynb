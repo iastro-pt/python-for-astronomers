{
 "metadata": {
  "name": "",
  "signature": "sha256:a12aafd408f4d0ada8c6df21babd543823ad2264f7d3e55d39bd7db8bf17a58c"
 },
 "nbformat": 3,
 "nbformat_minor": 0,
 "worksheets": [
  {
   "cells": [
    {
     "cell_type": "heading",
     "level": 1,
     "metadata": {},
     "source": [
      "Numpy"
     ]
    },
    {
     "cell_type": "markdown",
     "metadata": {},
     "source": [
      "NumPy is the fundamental package for scientific computing with Python. It contains\n",
      "\n",
      " - an N-dimensional *array* object\n",
      " - sophisticated (broadcasting) functions\n",
      " - tools for integrating C/C++ and Fortran code\n",
      " - linear algebra, Fourier transform, and random number capabilities"
     ]
    },
    {
     "cell_type": "code",
     "collapsed": false,
     "input": [
      "import numpy as np  # import numpy (the standard way)"
     ],
     "language": "python",
     "metadata": {},
     "outputs": [],
     "prompt_number": 3
    },
    {
     "cell_type": "code",
     "collapsed": false,
     "input": [
      "from numpy import *  # only used here for convenience, not a very good practice"
     ],
     "language": "python",
     "metadata": {},
     "outputs": [],
     "prompt_number": 4
    },
    {
     "cell_type": "heading",
     "level": 3,
     "metadata": {},
     "source": [
      "Array creation"
     ]
    },
    {
     "cell_type": "markdown",
     "metadata": {},
     "source": [
      "Let's create a few numpy arrays"
     ]
    },
    {
     "cell_type": "code",
     "collapsed": false,
     "input": [
      "a = arange(10)\n",
      "a"
     ],
     "language": "python",
     "metadata": {},
     "outputs": [
      {
       "metadata": {},
       "output_type": "pyout",
       "prompt_number": 5,
       "text": [
        "array([0, 1, 2, 3, 4, 5, 6, 7, 8, 9])"
       ]
      }
     ],
     "prompt_number": 5
    },
    {
     "cell_type": "code",
     "collapsed": false,
     "input": [
      "type(a)"
     ],
     "language": "python",
     "metadata": {},
     "outputs": [
      {
       "metadata": {},
       "output_type": "pyout",
       "prompt_number": 6,
       "text": [
        "numpy.ndarray"
       ]
      }
     ],
     "prompt_number": 6
    },
    {
     "cell_type": "markdown",
     "metadata": {},
     "source": [
      "We can also create an array from a Python list"
     ]
    },
    {
     "cell_type": "code",
     "collapsed": false,
     "input": [
      "b = array([0,4,8,12])\n",
      "b"
     ],
     "language": "python",
     "metadata": {},
     "outputs": [
      {
       "metadata": {},
       "output_type": "pyout",
       "prompt_number": 7,
       "text": [
        "array([ 0,  4,  8, 12])"
       ]
      }
     ],
     "prompt_number": 7
    },
    {
     "cell_type": "markdown",
     "metadata": {},
     "source": [
      "Or from a few handy functions"
     ]
    },
    {
     "cell_type": "code",
     "collapsed": false,
     "input": [
      "zeros(10)"
     ],
     "language": "python",
     "metadata": {},
     "outputs": [
      {
       "metadata": {},
       "output_type": "pyout",
       "prompt_number": 8,
       "text": [
        "array([ 0.,  0.,  0.,  0.,  0.,  0.,  0.,  0.,  0.,  0.])"
       ]
      }
     ],
     "prompt_number": 8
    },
    {
     "cell_type": "code",
     "collapsed": false,
     "input": [
      "ones(3)"
     ],
     "language": "python",
     "metadata": {},
     "outputs": [
      {
       "metadata": {},
       "output_type": "pyout",
       "prompt_number": 9,
       "text": [
        "array([ 1.,  1.,  1.])"
       ]
      }
     ],
     "prompt_number": 9
    },
    {
     "cell_type": "code",
     "collapsed": false,
     "input": [
      "ones_like(a)"
     ],
     "language": "python",
     "metadata": {},
     "outputs": [
      {
       "metadata": {},
       "output_type": "pyout",
       "prompt_number": 10,
       "text": [
        "array([1, 1, 1, 1, 1, 1, 1, 1, 1, 1])"
       ]
      }
     ],
     "prompt_number": 10
    },
    {
     "cell_type": "code",
     "collapsed": false,
     "input": [
      "b = linspace(0, 1, 100)"
     ],
     "language": "python",
     "metadata": {},
     "outputs": [],
     "prompt_number": 11
    },
    {
     "cell_type": "heading",
     "level": 3,
     "metadata": {},
     "source": [
      "Easy arithmetic"
     ]
    },
    {
     "cell_type": "code",
     "collapsed": false,
     "input": [
      "print a\n",
      "print a + 2\n",
      "print a ** 2\n",
      "print a / 10."
     ],
     "language": "python",
     "metadata": {},
     "outputs": [
      {
       "output_type": "stream",
       "stream": "stdout",
       "text": [
        "[ 0  1  2  3  4  5  6  7  8  9 10 11 12 13 14 15 16 17 18 19 20]\n",
        "[ 2  3  4  5  6  7  8  9 10 11 12 13 14 15 16 17 18 19 20 21 22]\n",
        "[  0   1   4   9  16  25  36  49  64  81 100 121 144 169 196 225 256 289\n",
        " 324 361 400]\n",
        "[ 0.   0.1  0.2  0.3  0.4  0.5  0.6  0.7  0.8  0.9  1.   1.1  1.2  1.3  1.4\n",
        "  1.5  1.6  1.7  1.8  1.9  2. ]\n"
       ]
      }
     ],
     "prompt_number": 35
    },
    {
     "cell_type": "heading",
     "level": 3,
     "metadata": {},
     "source": [
      "Index' works in the same way as lists"
     ]
    },
    {
     "cell_type": "code",
     "collapsed": false,
     "input": [
      "print b[2]\n",
      "print b[0::10]\n",
      "print b[-1]"
     ],
     "language": "python",
     "metadata": {},
     "outputs": [
      {
       "output_type": "stream",
       "stream": "stdout",
       "text": [
        "0.020202020202\n",
        "[ 0.          0.1010101   0.2020202   0.3030303   0.4040404   0.50505051\n",
        "  0.60606061  0.70707071  0.80808081  0.90909091]\n",
        "1.0\n"
       ]
      }
     ],
     "prompt_number": 13
    },
    {
     "cell_type": "markdown",
     "metadata": {},
     "source": [
      "For IDL fans, we also have a `where` function"
     ]
    },
    {
     "cell_type": "code",
     "collapsed": false,
     "input": [
      "idx = where(b >= 0.5)\n",
      "print idx"
     ],
     "language": "python",
     "metadata": {},
     "outputs": [
      {
       "output_type": "stream",
       "stream": "stdout",
       "text": [
        "(array([50, 51, 52, 53, 54, 55, 56, 57, 58, 59, 60, 61, 62, 63, 64, 65, 66,\n",
        "       67, 68, 69, 70, 71, 72, 73, 74, 75, 76, 77, 78, 79, 80, 81, 82, 83,\n",
        "       84, 85, 86, 87, 88, 89, 90, 91, 92, 93, 94, 95, 96, 97, 98, 99]),)\n"
       ]
      }
     ],
     "prompt_number": 15
    },
    {
     "cell_type": "code",
     "collapsed": false,
     "input": [
      "print b[idx]"
     ],
     "language": "python",
     "metadata": {},
     "outputs": [
      {
       "output_type": "stream",
       "stream": "stdout",
       "text": [
        "[ 0.50505051  0.51515152  0.52525253  0.53535354  0.54545455  0.55555556\n",
        "  0.56565657  0.57575758  0.58585859  0.5959596   0.60606061  0.61616162\n",
        "  0.62626263  0.63636364  0.64646465  0.65656566  0.66666667  0.67676768\n",
        "  0.68686869  0.6969697   0.70707071  0.71717172  0.72727273  0.73737374\n",
        "  0.74747475  0.75757576  0.76767677  0.77777778  0.78787879  0.7979798\n",
        "  0.80808081  0.81818182  0.82828283  0.83838384  0.84848485  0.85858586\n",
        "  0.86868687  0.87878788  0.88888889  0.8989899   0.90909091  0.91919192\n",
        "  0.92929293  0.93939394  0.94949495  0.95959596  0.96969697  0.97979798\n",
        "  0.98989899  1.        ]\n"
       ]
      }
     ],
     "prompt_number": 16
    },
    {
     "cell_type": "markdown",
     "metadata": {},
     "source": [
      "Or if we want the inverse of our new index"
     ]
    },
    {
     "cell_type": "code",
     "collapsed": false,
     "input": [
      "print b[~idx[0]]  #Note the [0] after idx."
     ],
     "language": "python",
     "metadata": {},
     "outputs": [
      {
       "output_type": "stream",
       "stream": "stdout",
       "text": [
        "[ 0.49494949  0.48484848  0.47474747  0.46464646  0.45454545  0.44444444\n",
        "  0.43434343  0.42424242  0.41414141  0.4040404   0.39393939  0.38383838\n",
        "  0.37373737  0.36363636  0.35353535  0.34343434  0.33333333  0.32323232\n",
        "  0.31313131  0.3030303   0.29292929  0.28282828  0.27272727  0.26262626\n",
        "  0.25252525  0.24242424  0.23232323  0.22222222  0.21212121  0.2020202\n",
        "  0.19191919  0.18181818  0.17171717  0.16161616  0.15151515  0.14141414\n",
        "  0.13131313  0.12121212  0.11111111  0.1010101   0.09090909  0.08080808\n",
        "  0.07070707  0.06060606  0.05050505  0.04040404  0.03030303  0.02020202\n",
        "  0.01010101  0.        ]\n"
       ]
      }
     ],
     "prompt_number": 19
    },
    {
     "cell_type": "heading",
     "level": 3,
     "metadata": {},
     "source": [
      "Mask creations"
     ]
    },
    {
     "cell_type": "code",
     "collapsed": false,
     "input": [
      "a = arange(21)\n",
      "print a\n",
      "print a[(a < 5) | (a > 15)]  # Logical OR (just one value have to be True to return True)\n",
      "print a[(a < 10) & (a > 5)]  # Logical AND (return True if and only if both values are True)"
     ],
     "language": "python",
     "metadata": {},
     "outputs": [
      {
       "output_type": "stream",
       "stream": "stdout",
       "text": [
        "[ 0  1  2  3  4  5  6  7  8  9 10 11 12 13 14 15 16 17 18 19 20]\n",
        "[ 0  1  2  3  4 16 17 18 19 20]\n",
        "[6 7 8 9]\n"
       ]
      }
     ],
     "prompt_number": 33
    },
    {
     "cell_type": "heading",
     "level": 3,
     "metadata": {},
     "source": [
      "A bit of linear algebra"
     ]
    },
    {
     "cell_type": "code",
     "collapsed": false,
     "input": [
      "a = np.array([1, 2, 3])\n",
      "b = np.array([4, 5, 6])\n",
      "M = np.arange(9).reshape(3, 3) + 1\n",
      "\n",
      "print 'Element multiplication', a * b\n",
      "print 'Dot product', np.dot(a, b)\n",
      "print 'Matrix\\n', M\n",
      "print 'Vector', a\n",
      "print 'Product', M * a"
     ],
     "language": "python",
     "metadata": {},
     "outputs": [
      {
       "output_type": "stream",
       "stream": "stdout",
       "text": [
        "Element multiplication [ 4 10 18]\n",
        "Dot product 32\n",
        "Matrix\n",
        "[[1 2 3]\n",
        " [4 5 6]\n",
        " [7 8 9]]\n",
        "Vector [1 2 3]\n",
        "Product [[ 1  4  9]\n",
        " [ 4 10 18]\n",
        " [ 7 16 27]]\n"
       ]
      }
     ],
     "prompt_number": 48
    },
    {
     "cell_type": "code",
     "collapsed": false,
     "input": [
      "## Solve the linear equations: 3 * x0 + x1 = 9 and x0 + 2 * x1 = 8\n",
      "a = np.array([[3,1], [1,2]])\n",
      "b = np.array([9,8])\n",
      "x = np.linalg.solve(a, b)\n",
      "print 'Solution', x\n",
      "\n",
      "print 'Checking the solution', np.allclose(np.dot(a, x), b)"
     ],
     "language": "python",
     "metadata": {},
     "outputs": [
      {
       "output_type": "stream",
       "stream": "stdout",
       "text": [
        "Solution [ 2.  3.]\n",
        "Checking the solution True\n"
       ]
      }
     ],
     "prompt_number": 49
    }
   ],
   "metadata": {}
  }
 ]
}