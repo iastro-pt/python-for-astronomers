{
 "metadata": {
  "name": "",
  "signature": "sha256:284ea994f726b4252f1ed3ca695a11506f3e11d7d1e23a9f89990dd8c23eb1c3"
 },
 "nbformat": 3,
 "nbformat_minor": 0,
 "worksheets": [
  {
   "cells": [
    {
     "cell_type": "heading",
     "level": 1,
     "metadata": {},
     "source": [
      "Input and Output (IO) with Python"
     ]
    },
    {
     "cell_type": "markdown",
     "metadata": {},
     "source": [
      "Python can be used to read many different kind of files.\n",
      "Most common is the CSV files (comma separated values which extend to other data formats as well as tabular separated), but normal text files can also be read.\n",
      "\n",
      "There are two files prepared `data_tabular.dat` and `data_csv.csv`. Let's take a look at them..."
     ]
    },
    {
     "cell_type": "heading",
     "level": 2,
     "metadata": {},
     "source": [
      "numpy.loadtxt"
     ]
    },
    {
     "cell_type": "code",
     "collapsed": false,
     "input": [
      "%pylab inline\n",
      "import numpy as np\n",
      "\n",
      "data_tab = np.loadtxt('data_tabular.dat', delimiter='\\t', comments='#')  # The last two arguments are also the default parameters.\n",
      "data_csv = np.loadtxt('data_csv.csv', delimiter=',')  # Here the delimiter is changed\n",
      "\n",
      "print data_tab"
     ],
     "language": "python",
     "metadata": {},
     "outputs": [
      {
       "output_type": "stream",
       "stream": "stdout",
       "text": [
        "Populating the interactive namespace from numpy and matplotlib\n",
        "[[  7.50423000e+03   4.75800000e-02   1.28520000e-01   6.50996000e+00]\n",
        " [  7.51509000e+03   2.12400000e-02   1.28580000e-01   2.90642000e+00]\n",
        " [  7.51583000e+03   1.07270000e-01   1.18500000e-01   1.35308700e+01]\n",
        " [  7.51590000e+03   1.07320000e-01   1.18980000e-01   1.35926300e+01]\n",
        " [  7.52273000e+03   5.15130000e-01   1.30630000e-01   7.16313100e+01]\n",
        " [  7.52317000e+03   1.03250000e-01   1.22420000e-01   1.34544700e+01]\n",
        " [  7.52329000e+03   1.03100000e-01   1.21790000e-01   1.33659500e+01]\n",
        " [  7.52510000e+03   4.94210000e-01   1.33540000e-01   7.02487800e+01]\n",
        " [  7.53337000e+03   1.23500000e-01   1.39550000e-01   1.83453100e+01]]\n"
       ]
      }
     ],
     "prompt_number": 8
    },
    {
     "cell_type": "heading",
     "level": 2,
     "metadata": {},
     "source": [
      "csv.reader"
     ]
    },
    {
     "cell_type": "markdown",
     "metadata": {},
     "source": [
      "Another popular choice is the `csv` module. Why should I use one of the other?.... Jo\u00e3o? I use both, but I'm not sure why :)\n",
      "\n"
     ]
    },
    {
     "cell_type": "heading",
     "level": 2,
     "metadata": {},
     "source": [
      "builtin open"
     ]
    },
    {
     "cell_type": "markdown",
     "metadata": {},
     "source": [
      "This function should be able to handle it all, but lack the \"one-liner\" for data files.\n",
      "This is probably the way to go, if you want or need to edit a parameter file or something similar.\n",
      "\n",
      "Let us take a look at a parameter file here: `parameter.par`"
     ]
    },
    {
     "cell_type": "code",
     "collapsed": false,
     "input": [
      "!cat parameter.par"
     ],
     "language": "python",
     "metadata": {},
     "outputs": [
      {
       "output_type": "stream",
       "stream": "stdout",
       "text": [
        "Parameter 1 = 42\r\n",
        "Funny info = False\r\n",
        "Universe = imag\r\n",
        "stars=1e6\r\n",
        "lecturer=nuno, joao, daniel\r\n"
       ]
      }
     ],
     "prompt_number": 9
    },
    {
     "cell_type": "markdown",
     "metadata": {},
     "source": [
      "I see three mistake in the parameter file, \n",
      "\n",
      "   - first we must turn on `Funny info` be setting the value to `True`\n",
      "   - second the `Universe` must be set to real\n",
      "   - last, the `lecturer` should be `sergio` instead of `nuno`\n",
      "\n",
      "Let us try to open the file an print every line."
     ]
    },
    {
     "cell_type": "code",
     "collapsed": false,
     "input": [
      "with open('parameter.par', 'rb') as f:\n",
      "    for line in f:\n",
      "        print line,"
     ],
     "language": "python",
     "metadata": {},
     "outputs": [
      {
       "output_type": "stream",
       "stream": "stdout",
       "text": [
        "parameter1 = 42\n",
        "Funny info = False\n",
        "Universe = imag\n",
        "stars = 1e6\n",
        "lecturer = nuno, joao, daniel\n"
       ]
      }
     ],
     "prompt_number": 8
    },
    {
     "cell_type": "markdown",
     "metadata": {},
     "source": [
      "Several things is going on here. The builtin `open` function takes two arguments\n",
      "   1. The filename\n",
      "   2. The mode the file will be read, this can be `w`, `r`, `a`, or `b`\n",
      "Information can be found here:"
     ]
    },
    {
     "cell_type": "code",
     "collapsed": false,
     "input": [
      "print file.__doc__"
     ],
     "language": "python",
     "metadata": {},
     "outputs": [
      {
       "output_type": "stream",
       "stream": "stdout",
       "text": [
        "file(name[, mode[, buffering]]) -> file object\n",
        "\n",
        "Open a file.  The mode can be 'r', 'w' or 'a' for reading (default),\n",
        "writing or appending.  The file will be created if it doesn't exist\n",
        "when opened for writing or appending; it will be truncated when\n",
        "opened for writing.  Add a 'b' to the mode for binary files.\n",
        "Add a '+' to the mode to allow simultaneous reading and writing.\n",
        "If the buffering argument is given, 0 means unbuffered, 1 means line\n",
        "buffered, and larger numbers specify the buffer size.  The preferred way\n",
        "to open a file is with the builtin open() function.\n",
        "Add a 'U' to mode to open the file for input with universal newline\n",
        "support.  Any line ending in the input file will be seen as a '\\n'\n",
        "in Python.  Also, a file so opened gains the attribute 'newlines';\n",
        "the value for this attribute is one of None (no newline read yet),\n",
        "'\\r', '\\n', '\\r\\n' or a tuple containing all the newline types seen.\n",
        "\n",
        "'U' cannot be combined with 'w' or '+' mode.\n",
        "\n"
       ]
      }
     ],
     "prompt_number": 14
    },
    {
     "cell_type": "markdown",
     "metadata": {},
     "source": [
      "Next, we use the other builtin function `with`. When a file is openned with the `with` function it will automatically be closed at the end. The file is saved in the variable `f`.\n",
      "Thereafter we `print` each `line` in `f`. The `,` at the end of the `print` function remove the newline character (try without if you are in doubt)."
     ]
    },
    {
     "cell_type": "code",
     "collapsed": false,
     "input": [
      "with open('parameter.par', 'rb') as f:\n",
      "    for line in f:\n",
      "        par, val = line.split('=')  # A list with first item as the parameter, and second item the value\n",
      "        par, val = par.strip(' '), val.strip(' ')  # Strip whitespaces\n",
      "        print par, val,  # before\n",
      "        if par == 'Funny info':\n",
      "            val = True\n",
      "        elif par == 'Universe':\n",
      "            val = 'real'\n",
      "        elif par == 'lecturer':\n",
      "            val = 'sergio, joao, daniel'\n",
      "        print par, val  # after (also I use of with and without use of the ',' with printing)\n",
      "        "
     ],
     "language": "python",
     "metadata": {},
     "outputs": [
      {
       "output_type": "stream",
       "stream": "stdout",
       "text": [
        "parameter1 42\n",
        "parameter1 42\n",
        "\n",
        "Funny info False\n",
        "Funny info True\n",
        "Universe imag\n",
        "Universe real\n",
        "stars 1e6\n",
        "stars 1e6\n",
        "\n",
        "lecturer nuno, joao, daniel\n",
        "lecturer sergio, joao, daniel\n"
       ]
      }
     ],
     "prompt_number": 17
    },
    {
     "cell_type": "markdown",
     "metadata": {},
     "source": [
      "The updated values can be saved in a string as saved to a file like this:"
     ]
    },
    {
     "cell_type": "code",
     "collapsed": false,
     "input": [
      "new_parameters = ''\n",
      "with open('parameter.par', 'rb') as f:\n",
      "    for line in f:\n",
      "        par, val = line.split('=')  # A list with first item as the parameter, and second item the value\n",
      "        par, val = par.strip(' '), val.strip(' ')  # Strip whitespaces\n",
      "        if par == 'Funny info':\n",
      "            val = 'True\\n'  # Adding a newline character is important (already there when loaded)\n",
      "        elif par == 'Universe':\n",
      "            val = 'real\\n'\n",
      "        elif par == 'lecturer':\n",
      "            val = 'sergio, joao, daniel\\n'\n",
      "        new_parameters += ' = '.join([par, val])\n",
      "\n",
      "with open('new_parameter.txt', 'w') as f:\n",
      "    f.write(new_parameters)\n",
      "\n",
      "!cat new_parameter.txt"
     ],
     "language": "python",
     "metadata": {},
     "outputs": [
      {
       "output_type": "stream",
       "stream": "stdout",
       "text": [
        "parameter1 = 42\r\n",
        "Funny info = True\r\n",
        "Universe = real\r\n",
        "stars = 1e6\r\n",
        "lecturer = sergio, joao, daniel\r\n"
       ]
      }
     ],
     "prompt_number": 28
    },
    {
     "cell_type": "markdown",
     "metadata": {},
     "source": [
      "This is very useful if one wants to change the `stars` parameter many times. The above snippet can be saved as a function with the `def` statement, and the `stars` can be an argument to the function call."
     ]
    }
   ],
   "metadata": {}
  }
 ]
}