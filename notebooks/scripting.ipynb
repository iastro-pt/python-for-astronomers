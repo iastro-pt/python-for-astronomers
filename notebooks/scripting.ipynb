{
 "metadata": {
  "name": "",
  "signature": "sha256:987cdb502acc1a3e078b3b1b6bcb8b381069d3e2f8ae2f97bb7d55a632604789"
 },
 "nbformat": 3,
 "nbformat_minor": 0,
 "worksheets": [
  {
   "cells": [
    {
     "cell_type": "heading",
     "level": 1,
     "metadata": {},
     "source": [
      "Scripting with python"
     ]
    },
    {
     "cell_type": "code",
     "collapsed": false,
     "input": [],
     "language": "python",
     "metadata": {},
     "outputs": []
    }
   ],
   "metadata": {}
  }
 ]
}