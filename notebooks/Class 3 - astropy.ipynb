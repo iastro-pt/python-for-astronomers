{
 "metadata": {
  "name": "",
  "signature": "sha256:77c6600a1ac40991857666b043d63e5f38ac4b42be38a9d1b3aed49b6fb36d7f"
 },
 "nbformat": 3,
 "nbformat_minor": 0,
 "worksheets": [
  {
   "cells": [
    {
     "cell_type": "markdown",
     "metadata": {},
     "source": [
      "In this notebook we will cover some general features of the [astropy](http://astropy.org) packages."
     ]
    },
    {
     "cell_type": "code",
     "collapsed": false,
     "input": [
      "%pylab"
     ],
     "language": "python",
     "metadata": {},
     "outputs": [
      {
       "output_type": "stream",
       "stream": "stderr",
       "text": [
        "UsageError: Invalid GUI request 'gtk3', valid ones are:[None, 'osx', 'qt4', 'qt5', 'qt', 'nbagg', 'inline', 'gtk', 'tk', 'wx']"
       ]
      }
     ],
     "prompt_number": 21
    },
    {
     "cell_type": "heading",
     "level": 1,
     "metadata": {},
     "source": [
      "FITS files"
     ]
    },
    {
     "cell_type": "markdown",
     "metadata": {},
     "source": [
      "This section uses parts from the [astropy documentation on FITS files](http://docs.astropy.org/en/stable/io/fits/index.html).\n",
      "\n",
      "We are able to read fits files, manipulate the header, and save it all again. Note that this library was previously called `pyfits`."
     ]
    },
    {
     "cell_type": "code",
     "collapsed": false,
     "input": [
      "from astropy.io import fits\n",
      "# from astropy.io import fits as pyfits  # for people not really converted yet frm pyfits.\n",
      "hdulist = fits.open('input.fits')\n",
      "hdulist.info()"
     ],
     "language": "python",
     "metadata": {},
     "outputs": [
      {
       "output_type": "stream",
       "stream": "stdout",
       "text": [
        "Filename: input.fits\n",
        "No.    Name         Type      Cards   Dimensions   Format\n",
        "0    PRIMARY     PrimaryHDU     603   ()              \n",
        "1    CHIP1.INT1  BinTableHDU     59   1024R x 9C   [1D, 1D, 1D, 1D, 1D, 1D, 1D, 1D, 1D]   \n",
        "2    CHIP2.INT1  BinTableHDU     59   1024R x 9C   [1D, 1D, 1D, 1D, 1D, 1D, 1D, 1D, 1D]   \n",
        "3    CHIP3.INT1  BinTableHDU     59   1024R x 9C   [1D, 1D, 1D, 1D, 1D, 1D, 1D, 1D, 1D]   \n",
        "4    CHIP4.INT1  BinTableHDU     59   1024R x 9C   [1D, 1D, 1D, 1D, 1D, 1D, 1D, 1D, 1D]   \n"
       ]
      }
     ],
     "prompt_number": 3
    },
    {
     "cell_type": "heading",
     "level": 3,
     "metadata": {},
     "source": [
      "Working with the data"
     ]
    },
    {
     "cell_type": "markdown",
     "metadata": {},
     "source": [
      "This is CRIRES data of a star. The data is saved on four CHIPS, and in each CHIP there is 9 x 1D data arrays. Let's take a closer look at the `dtype` of these arrays."
     ]
    },
    {
     "cell_type": "code",
     "collapsed": false,
     "input": [
      "cols = hdulist[1].columns\n",
      "print cols"
     ],
     "language": "python",
     "metadata": {},
     "outputs": [
      {
       "output_type": "stream",
       "stream": "stdout",
       "text": [
        "ColDefs(\n",
        "    name = 'Extracted_RECT'; format = '1D'\n",
        "    name = 'Extracted_OPT'; format = '1D'\n",
        "    name = 'Error_RECT'; format = '1D'\n",
        "    name = 'Error_OPT'; format = '1D'\n",
        "    name = 'Weight_Norm_RECT'; format = '1D'\n",
        "    name = 'Weight_Norm_OPT'; format = '1D'\n",
        "    name = 'Background_noise'; format = '1D'\n",
        "    name = 'Wavelength'; format = '1D'\n",
        "    name = 'Wavelength_model'; format = '1D'\n",
        ")\n"
       ]
      }
     ],
     "prompt_number": 45
    },
    {
     "cell_type": "markdown",
     "metadata": {},
     "source": [
      "From the CRIRES webpage, I know for plotting purposes we should use the `Extracted_OPT` and the `Wavelength` arrays."
     ]
    },
    {
     "cell_type": "code",
     "collapsed": false,
     "input": [
      "plot(hdulist[1].data['Wavelength'], hdulist.data['Extracted_OPT'])  # I have troubles with GTK3 right now, so not sure if plot is okay..."
     ],
     "language": "python",
     "metadata": {},
     "outputs": [
      {
       "ename": "NameError",
       "evalue": "name 'plot' is not defined",
       "output_type": "pyerr",
       "traceback": [
        "\u001b[1;31m---------------------------------------------------------------------------\u001b[0m\n\u001b[1;31mNameError\u001b[0m                                 Traceback (most recent call last)",
        "\u001b[1;32m<ipython-input-11-b1e1d62e0bc6>\u001b[0m in \u001b[0;36m<module>\u001b[1;34m()\u001b[0m\n\u001b[1;32m----> 1\u001b[1;33m \u001b[0mplot\u001b[0m\u001b[1;33m(\u001b[0m\u001b[0mhdulist\u001b[0m\u001b[1;33m[\u001b[0m\u001b[1;36m1\u001b[0m\u001b[1;33m]\u001b[0m\u001b[1;33m.\u001b[0m\u001b[0mdata\u001b[0m\u001b[1;33m[\u001b[0m\u001b[1;34m'Wavelength'\u001b[0m\u001b[1;33m]\u001b[0m\u001b[1;33m,\u001b[0m \u001b[0mhdulist\u001b[0m\u001b[1;33m.\u001b[0m\u001b[0mdata\u001b[0m\u001b[1;33m[\u001b[0m\u001b[1;34m'Extracted_OPT'\u001b[0m\u001b[1;33m]\u001b[0m\u001b[1;33m)\u001b[0m  \u001b[1;31m# I have troubles with GTK3 right now, so not sure if plot is okay...\u001b[0m\u001b[1;33m\u001b[0m\u001b[0m\n\u001b[0m",
        "\u001b[1;31mNameError\u001b[0m: name 'plot' is not defined"
       ]
      }
     ],
     "prompt_number": 11
    },
    {
     "cell_type": "markdown",
     "metadata": {},
     "source": [
      "If we want to plot all of them, we could do something like"
     ]
    },
    {
     "cell_type": "code",
     "collapsed": false,
     "input": [
      "for spectra in hdulist[1:]:  # We don't want the first one\n",
      "    w, f = spectra.data['Wavelength'], spectra.data['Extracted_OPT']\n",
      "    plot(w, f / np.median(f))  # Bring the spectra to the same level (rude normalize)."
     ],
     "language": "python",
     "metadata": {},
     "outputs": [
      {
       "ename": "NameError",
       "evalue": "name 'plot' is not defined",
       "output_type": "pyerr",
       "traceback": [
        "\u001b[1;31m---------------------------------------------------------------------------\u001b[0m\n\u001b[1;31mNameError\u001b[0m                                 Traceback (most recent call last)",
        "\u001b[1;32m<ipython-input-14-ae88359a4ec9>\u001b[0m in \u001b[0;36m<module>\u001b[1;34m()\u001b[0m\n\u001b[0;32m      1\u001b[0m \u001b[1;32mfor\u001b[0m \u001b[0mspectra\u001b[0m \u001b[1;32min\u001b[0m \u001b[0mhdulist\u001b[0m\u001b[1;33m[\u001b[0m\u001b[1;36m1\u001b[0m\u001b[1;33m:\u001b[0m\u001b[1;33m]\u001b[0m\u001b[1;33m:\u001b[0m  \u001b[1;31m# We don't want the first one\u001b[0m\u001b[1;33m\u001b[0m\u001b[0m\n\u001b[0;32m      2\u001b[0m     \u001b[0mw\u001b[0m\u001b[1;33m,\u001b[0m \u001b[0mf\u001b[0m \u001b[1;33m=\u001b[0m \u001b[0mspectra\u001b[0m\u001b[1;33m.\u001b[0m\u001b[0mdata\u001b[0m\u001b[1;33m[\u001b[0m\u001b[1;34m'Wavelength'\u001b[0m\u001b[1;33m]\u001b[0m\u001b[1;33m,\u001b[0m \u001b[0mspectra\u001b[0m\u001b[1;33m.\u001b[0m\u001b[0mdata\u001b[0m\u001b[1;33m[\u001b[0m\u001b[1;34m'Extracted_OPT'\u001b[0m\u001b[1;33m]\u001b[0m\u001b[1;33m\u001b[0m\u001b[0m\n\u001b[1;32m----> 3\u001b[1;33m     \u001b[0mplot\u001b[0m\u001b[1;33m(\u001b[0m\u001b[0mw\u001b[0m\u001b[1;33m,\u001b[0m \u001b[0mf\u001b[0m \u001b[1;33m/\u001b[0m \u001b[0mnp\u001b[0m\u001b[1;33m.\u001b[0m\u001b[0mmedian\u001b[0m\u001b[1;33m(\u001b[0m\u001b[0mf\u001b[0m\u001b[1;33m)\u001b[0m\u001b[1;33m)\u001b[0m\u001b[1;33m\u001b[0m\u001b[0m\n\u001b[0m",
        "\u001b[1;31mNameError\u001b[0m: name 'plot' is not defined"
       ]
      }
     ],
     "prompt_number": 14
    },
    {
     "cell_type": "heading",
     "level": 3,
     "metadata": {},
     "source": [
      "Working with the header"
     ]
    },
    {
     "cell_type": "code",
     "collapsed": false,
     "input": [
      "header = hdulist[1].header\n",
      "print repr(header[0:10]), '\\n'  # No need to see it all here...\n",
      "print header['NAXIS2']\n",
      "print header.keys()[0:10]  # Easy to loop over the header"
     ],
     "language": "python",
     "metadata": {},
     "outputs": [
      {
       "output_type": "stream",
       "stream": "stdout",
       "text": [
        "XTENSION= 'BINTABLE'           / binary table extension                         \n",
        "BITPIX  =                    8 / 8-bit bytes                                    \n",
        "NAXIS   =                    2 / 2-dimensional binary table                     \n",
        "NAXIS1  =                   72 / width of table in bytes                        \n",
        "NAXIS2  =                 1024 / number of rows in table                        \n",
        "PCOUNT  =                    0 / size of special data area                      \n",
        "GCOUNT  =                    1 / one data group (required keyword)              \n",
        "TFIELDS =                    9 / number of fields in each row                   \n",
        "TTYPE1  = 'Extracted_RECT'     / label for field   1                            \n",
        "TFORM1  = '1D      '           / data format of field: 8-byte DOUBLE             \n",
        "\n",
        "1024\n",
        "['XTENSION', 'BITPIX', 'NAXIS', 'NAXIS1', 'NAXIS2', 'PCOUNT', 'GCOUNT', 'TFIELDS', 'TTYPE1', 'TFORM1']\n"
       ]
      }
     ],
     "prompt_number": 48
    },
    {
     "cell_type": "code",
     "collapsed": false,
     "input": [
      "header['PCOUNT'] = 3.1415  # Updating a header value. Previously use set, but it is depricated.\n",
      "print repr(header[0:10])"
     ],
     "language": "python",
     "metadata": {},
     "outputs": [
      {
       "output_type": "stream",
       "stream": "stdout",
       "text": [
        "XTENSION= 'BINTABLE'           / binary table extension                         \n",
        "BITPIX  =                    8 / 8-bit bytes                                    \n",
        "NAXIS   =                    2 / 2-dimensional binary table                     \n",
        "NAXIS1  =                   72 / width of table in bytes                        \n",
        "NAXIS2  =                 1024 / number of rows in table                        \n",
        "PCOUNT  =               3.1415 / size of special data area                      \n",
        "GCOUNT  =                    1 / one data group (required keyword)              \n",
        "TFIELDS =                    9 / number of fields in each row                   \n",
        "TTYPE1  = 'Extracted_RECT'     / label for field   1                            \n",
        "TFORM1  = '1D      '           / data format of field: 8-byte DOUBLE            \n"
       ]
      }
     ],
     "prompt_number": 50
    },
    {
     "cell_type": "heading",
     "level": 3,
     "metadata": {},
     "source": [
      "Saving data"
     ]
    },
    {
     "cell_type": "markdown",
     "metadata": {},
     "source": [
      "As so many other things, this can be done in many ways. Here is one that never fails."
     ]
    },
    {
     "cell_type": "code",
     "collapsed": false,
     "input": [
      "import numpy as np\n",
      "x = np.linspace(0, 2*np.pi, 100)\n",
      "# Generate some fake noisy data\n",
      "y = np.sin(x) + np.random.random(len(x)) * 0.1\n",
      "\n",
      "# Generate a header (also what splot@IRAF and ARES uses)\n",
      "hdr = fits.Header()\n",
      "hdr['NAXIS1'] = len(x)\n",
      "hdr['CRVAL1'] = x[0]\n",
      "hdr['CDELT1'] = x[1] - x[0]\n",
      "print repr(hdr)\n",
      "\n",
      "# Save the data\n",
      "fits.writeto('newfits.fits', y, hdr, clobber=True)"
     ],
     "language": "python",
     "metadata": {},
     "outputs": [
      {
       "output_type": "stream",
       "stream": "stdout",
       "text": [
        "NAXIS1  =                  100                                                  \n",
        "CRVAL1  =                  0.0                                                  \n",
        "CDELT1  =  0.06346651825433926                                                  \n"
       ]
      }
     ],
     "prompt_number": 58
    },
    {
     "cell_type": "markdown",
     "metadata": {},
     "source": [
      "The last parameter `clobber=True` overwrites existing files. Default this is set to `False`."
     ]
    },
    {
     "cell_type": "heading",
     "level": 2,
     "metadata": {},
     "source": [
      "Modeling and fitting"
     ]
    },
    {
     "cell_type": "markdown",
     "metadata": {},
     "source": [
      "In this section we follow the example on [astropy for modeling](http://docs.astropy.org/en/stable/modeling/index.html)."
     ]
    },
    {
     "cell_type": "code",
     "collapsed": false,
     "input": [
      "from astropy.modeling import models, fitting"
     ],
     "language": "python",
     "metadata": {},
     "outputs": [],
     "prompt_number": 59
    },
    {
     "cell_type": "heading",
     "level": 3,
     "metadata": {},
     "source": [
      "Creating a 1D Gaussian"
     ]
    },
    {
     "cell_type": "code",
     "collapsed": false,
     "input": [
      "g = models.Gaussian1D(amplitude=1.2, mean=0.9, stddev=0.5)\n",
      "print g"
     ],
     "language": "python",
     "metadata": {},
     "outputs": [
      {
       "output_type": "stream",
       "stream": "stdout",
       "text": [
        "Model: Gaussian1D\n",
        "Inputs: 1\n",
        "Outputs: 1\n",
        "Model set size: 1\n",
        "Parameters:\n",
        "    amplitude mean stddev\n",
        "    --------- ---- ------\n",
        "          1.2  0.9    0.5\n"
       ]
      }
     ],
     "prompt_number": 60
    },
    {
     "cell_type": "markdown",
     "metadata": {},
     "source": [
      "We can also acces the values in another way (as attributes)"
     ]
    },
    {
     "cell_type": "code",
     "collapsed": false,
     "input": [
      "print g.amplitude\n",
      "print g.mean\n",
      "print g.stddev"
     ],
     "language": "python",
     "metadata": {},
     "outputs": [
      {
       "output_type": "stream",
       "stream": "stdout",
       "text": [
        "Parameter('amplitude', value=1.2)\n",
        "Parameter('mean', value=0.9)\n",
        "Parameter('stddev', value=0.5)\n"
       ]
      }
     ],
     "prompt_number": 61
    },
    {
     "cell_type": "markdown",
     "metadata": {},
     "source": [
      "We can even change them"
     ]
    },
    {
     "cell_type": "code",
     "collapsed": false,
     "input": [
      "g.amplitude = 0.75"
     ],
     "language": "python",
     "metadata": {},
     "outputs": [],
     "prompt_number": 62
    },
    {
     "cell_type": "markdown",
     "metadata": {},
     "source": [
      "Let's try to evaluate the model in some points"
     ]
    },
    {
     "cell_type": "code",
     "collapsed": false,
     "input": [
      "print g(0.1)\n",
      "print g(3)\n",
      "print g(np.linspace(0, 2, 10))"
     ],
     "language": "python",
     "metadata": {},
     "outputs": [
      {
       "output_type": "stream",
       "stream": "stdout",
       "text": [
        "0.20852797534\n",
        "0.000110811270174\n",
        "[ 0.14842402  0.29925851  0.49522464  0.67262254  0.74981484  0.68604101\n",
        "  0.51518067  0.31752833  0.1606271   0.06669121]\n"
       ]
      }
     ],
     "prompt_number": 66
    },
    {
     "cell_type": "heading",
     "level": 3,
     "metadata": {},
     "source": [
      "Simple 1D model fitting"
     ]
    },
    {
     "cell_type": "code",
     "collapsed": false,
     "input": [
      "# Generate some fake data\n",
      "np.random.seed(0)  # Because there is no such thing as real random in CS\n",
      "x = np.linspace(-5., 5., 200)\n",
      "y = 3 * np.exp(-0.5*(x-1.3)**2 / (0.8**2))  # Creating a gaussian\n",
      "y += np.random.normal(0, 0.2, x.shape)  # Adding some noise to our data\n",
      "\n",
      "# Fit the data using a box model\n",
      "t_init = models.Trapezoid1D(amplitude=1, x_0=0, width=1, slope=0.5)\n",
      "fit_t = fitting.LevMarLSQFitter()\n",
      "t = fit_t(t_init, x, y)\n",
      "\n",
      "# Fit the data using a Gaussian\n",
      "g_init = models.Gaussian1D(amplitude=1, mean=0, stddev=1)\n",
      "fit_g = fitting.LevMarLSQFitter()\n",
      "g = fit_g(g_init, x, y)\n",
      "\n",
      "# Plot the data with the two best fits\n",
      "plt.plot(x, y, 'ko')\n",
      "plt.plot(x, t(x), '-b', lw=2, label='Trapezoid')\n",
      "plt.plot(x, g(x), '-r', lw=2, label='Gaussian')\n",
      "plt.xlabel('Position')\n",
      "plt.ylabel('CCF')\n",
      "plt.legend(loc=2, frameon=False)"
     ],
     "language": "python",
     "metadata": {},
     "outputs": [
      {
       "ename": "NameError",
       "evalue": "name 'plt' is not defined",
       "output_type": "pyerr",
       "traceback": [
        "\u001b[1;31m---------------------------------------------------------------------------\u001b[0m\n\u001b[1;31mNameError\u001b[0m                                 Traceback (most recent call last)",
        "\u001b[1;32m<ipython-input-67-d27cd8f91b94>\u001b[0m in \u001b[0;36m<module>\u001b[1;34m()\u001b[0m\n\u001b[0;32m     16\u001b[0m \u001b[1;33m\u001b[0m\u001b[0m\n\u001b[0;32m     17\u001b[0m \u001b[1;31m# Plot the data with the two best fits\u001b[0m\u001b[1;33m\u001b[0m\u001b[1;33m\u001b[0m\u001b[0m\n\u001b[1;32m---> 18\u001b[1;33m \u001b[0mplt\u001b[0m\u001b[1;33m.\u001b[0m\u001b[0mplot\u001b[0m\u001b[1;33m(\u001b[0m\u001b[0mx\u001b[0m\u001b[1;33m,\u001b[0m \u001b[0my\u001b[0m\u001b[1;33m,\u001b[0m \u001b[1;34m'ko'\u001b[0m\u001b[1;33m)\u001b[0m\u001b[1;33m\u001b[0m\u001b[0m\n\u001b[0m\u001b[0;32m     19\u001b[0m \u001b[0mplt\u001b[0m\u001b[1;33m.\u001b[0m\u001b[0mplot\u001b[0m\u001b[1;33m(\u001b[0m\u001b[0mx\u001b[0m\u001b[1;33m,\u001b[0m \u001b[0mt\u001b[0m\u001b[1;33m(\u001b[0m\u001b[0mx\u001b[0m\u001b[1;33m)\u001b[0m\u001b[1;33m,\u001b[0m \u001b[1;34m'-b'\u001b[0m\u001b[1;33m,\u001b[0m \u001b[0mlw\u001b[0m\u001b[1;33m=\u001b[0m\u001b[1;36m2\u001b[0m\u001b[1;33m,\u001b[0m \u001b[0mlabel\u001b[0m\u001b[1;33m=\u001b[0m\u001b[1;34m'Trapezoid'\u001b[0m\u001b[1;33m)\u001b[0m\u001b[1;33m\u001b[0m\u001b[0m\n\u001b[0;32m     20\u001b[0m \u001b[0mplt\u001b[0m\u001b[1;33m.\u001b[0m\u001b[0mplot\u001b[0m\u001b[1;33m(\u001b[0m\u001b[0mx\u001b[0m\u001b[1;33m,\u001b[0m \u001b[0mg\u001b[0m\u001b[1;33m(\u001b[0m\u001b[0mx\u001b[0m\u001b[1;33m)\u001b[0m\u001b[1;33m,\u001b[0m \u001b[1;34m'-r'\u001b[0m\u001b[1;33m,\u001b[0m \u001b[0mlw\u001b[0m\u001b[1;33m=\u001b[0m\u001b[1;36m2\u001b[0m\u001b[1;33m,\u001b[0m \u001b[0mlabel\u001b[0m\u001b[1;33m=\u001b[0m\u001b[1;34m'Gaussian'\u001b[0m\u001b[1;33m)\u001b[0m\u001b[1;33m\u001b[0m\u001b[0m\n",
        "\u001b[1;31mNameError\u001b[0m: name 'plt' is not defined"
       ]
      }
     ],
     "prompt_number": 67
    }
   ],
   "metadata": {}
  }
 ]
}