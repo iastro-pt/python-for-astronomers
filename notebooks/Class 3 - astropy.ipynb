{
 "cells": [
  {
   "cell_type": "markdown",
   "metadata": {},
   "source": [
    "In this notebook we will cover some general features of the [astropy](http://astropy.org) packages."
   ]
  },
  {
   "cell_type": "code",
   "execution_count": null,
   "metadata": {
    "collapsed": false
   },
   "outputs": [],
   "source": [
    "%pylab inline"
   ]
  },
  {
   "cell_type": "markdown",
   "metadata": {},
   "source": [
    "# FITS files"
   ]
  },
  {
   "cell_type": "markdown",
   "metadata": {},
   "source": [
    "This section uses parts from the [astropy documentation on FITS files](http://docs.astropy.org/en/stable/io/fits/index.html).\n",
    "\n",
    "We are able to read fits files, manipulate the header, and save it all again. Note that this library was previously called `pyfits`."
   ]
  },
  {
   "cell_type": "code",
   "execution_count": null,
   "metadata": {
    "collapsed": false
   },
   "outputs": [],
   "source": [
    "from astropy.io import fits\n",
    "# from astropy.io import fits as pyfits  # for people not really converted yet from pyfits.\n",
    "hdulist = fits.open('input.fits')\n",
    "hdulist.info()"
   ]
  },
  {
   "cell_type": "markdown",
   "metadata": {},
   "source": [
    "### Working with the data"
   ]
  },
  {
   "cell_type": "markdown",
   "metadata": {},
   "source": [
    "This is CRIRES data of a star. The data is saved on four CHIPS, and in each CHIP there is 9 x 1D data arrays. Let's take a closer look at the `dtype` of these arrays."
   ]
  },
  {
   "cell_type": "code",
   "execution_count": null,
   "metadata": {
    "collapsed": false
   },
   "outputs": [],
   "source": [
    "cols = hdulist[1].columns\n",
    "print cols"
   ]
  },
  {
   "cell_type": "markdown",
   "metadata": {},
   "source": [
    "From the CRIRES webpage, I know for plotting purposes we should use the `Extracted_OPT` and the `Wavelength` arrays."
   ]
  },
  {
   "cell_type": "code",
   "execution_count": null,
   "metadata": {
    "collapsed": false
   },
   "outputs": [],
   "source": [
    "plot(hdulist[1].data['Wavelength'], hdulist[1].data['Extracted_OPT'])"
   ]
  },
  {
   "cell_type": "markdown",
   "metadata": {},
   "source": [
    "If we want to plot all of them, we could do something like"
   ]
  },
  {
   "cell_type": "code",
   "execution_count": null,
   "metadata": {
    "collapsed": false
   },
   "outputs": [],
   "source": [
    "for spectra in hdulist[1:]:  # We don't want the first one\n",
    "    w, f = spectra.data['Wavelength'], spectra.data['Extracted_OPT']\n",
    "    plot(w, f / np.median(f))  # Bring the spectra to the same level (rude normalize)."
   ]
  },
  {
   "cell_type": "markdown",
   "metadata": {},
   "source": [
    "### Working with the header"
   ]
  },
  {
   "cell_type": "code",
   "execution_count": null,
   "metadata": {
    "collapsed": false
   },
   "outputs": [],
   "source": [
    "hdr = hdulist[1].header\n",
    "print repr(hdr[0:10]), '\\n'  # No need to see it all here...\n",
    "print hdr['NAXIS2']\n",
    "print hdr[4]\n",
    "print hdr.keys()[0:10]  # Easy to loop over the header"
   ]
  },
  {
   "cell_type": "code",
   "execution_count": null,
   "metadata": {
    "collapsed": false
   },
   "outputs": [],
   "source": [
    "print len(hdr.keys())\n",
    "hdr['PCOUNT'] = 3.1415  # Updating a header value. Previously use set, but it is depricated.\n",
    "print repr(hdr[0:10])"
   ]
  },
  {
   "cell_type": "markdown",
   "metadata": {},
   "source": [
    "### Saving data"
   ]
  },
  {
   "cell_type": "markdown",
   "metadata": {},
   "source": [
    "As so many other things, this can be done in many ways. Here is one that never fails."
   ]
  },
  {
   "cell_type": "code",
   "execution_count": null,
   "metadata": {
    "collapsed": false
   },
   "outputs": [],
   "source": [
    "import numpy as np\n",
    "x = np.linspace(0, 2*np.pi, 100)\n",
    "# Generate some fake noisy data\n",
    "y = np.sin(x) + np.random.random(len(x)) * 0.1\n",
    "\n",
    "# Generate a header (also what splot@IRAF and ARES uses)\n",
    "hdr = fits.Header()\n",
    "print repr(hdr)\n",
    "hdr['NAXIS1'] = len(x)\n",
    "hdr['CRVAL1'] = x[0]\n",
    "hdr['CDELT1'] = x[1] - x[0]\n",
    "print repr(hdr)\n",
    "\n",
    "# Save the data\n",
    "fits.writeto('newfits.fits', y, hdr, clobber=True)"
   ]
  },
  {
   "cell_type": "markdown",
   "metadata": {},
   "source": [
    "The last parameter `clobber=True` overwrites existing files. Default this is set to `False`."
   ]
  },
  {
   "cell_type": "markdown",
   "metadata": {},
   "source": [
    "## Modeling and fitting"
   ]
  },
  {
   "cell_type": "markdown",
   "metadata": {},
   "source": [
    "In this section we follow the example on [astropy for modeling](http://docs.astropy.org/en/stable/modeling/index.html)."
   ]
  },
  {
   "cell_type": "code",
   "execution_count": null,
   "metadata": {
    "collapsed": false
   },
   "outputs": [],
   "source": [
    "from astropy.modeling import models, fitting"
   ]
  },
  {
   "cell_type": "markdown",
   "metadata": {},
   "source": [
    "### Creating a 1D Gaussian model"
   ]
  },
  {
   "cell_type": "code",
   "execution_count": null,
   "metadata": {
    "collapsed": false
   },
   "outputs": [],
   "source": [
    "g = models.Gaussian1D(amplitude=1.2, mean=0.9, stddev=0.5)"
   ]
  },
  {
   "cell_type": "code",
   "execution_count": null,
   "metadata": {
    "collapsed": false
   },
   "outputs": [],
   "source": [
    "print g"
   ]
  },
  {
   "cell_type": "markdown",
   "metadata": {},
   "source": [
    "We can also acces the values in another way (as attributes)"
   ]
  },
  {
   "cell_type": "code",
   "execution_count": null,
   "metadata": {
    "collapsed": false
   },
   "outputs": [],
   "source": [
    "print g.amplitude\n",
    "print g.mean\n",
    "print g.stddev"
   ]
  },
  {
   "cell_type": "markdown",
   "metadata": {},
   "source": [
    "We can even change them"
   ]
  },
  {
   "cell_type": "code",
   "execution_count": null,
   "metadata": {
    "collapsed": false
   },
   "outputs": [],
   "source": [
    "g.amplitude = 0.75"
   ]
  },
  {
   "cell_type": "markdown",
   "metadata": {},
   "source": [
    "Let's try to evaluate the model in some points"
   ]
  },
  {
   "cell_type": "code",
   "execution_count": null,
   "metadata": {
    "collapsed": false
   },
   "outputs": [],
   "source": [
    "print g(0.1)\n",
    "print g(3)\n",
    "print g(np.linspace(0, 2, 10))"
   ]
  },
  {
   "cell_type": "code",
   "execution_count": null,
   "metadata": {
    "collapsed": false
   },
   "outputs": [],
   "source": [
    "x = np.linspace(-2, 2, 1000) + g.mean\n",
    "plot(x, g(x))"
   ]
  },
  {
   "cell_type": "markdown",
   "metadata": {},
   "source": [
    "### Simple 1D model fitting"
   ]
  },
  {
   "cell_type": "code",
   "execution_count": null,
   "metadata": {
    "collapsed": false
   },
   "outputs": [],
   "source": [
    "# Generate some fake data\n",
    "np.random.seed(0)  # Because there is no such thing as real random in CS\n",
    "\n",
    "x = np.linspace(-5., 5., 200)\n",
    "y = 3 * np.exp(-0.5*(x-1.3)**2 / (0.8**2))  # Creating a gaussian\n",
    "y += np.random.normal(0, 0.2, x.shape)  # Adding some noise to our data\n",
    "\n",
    "# Fit the data using a box (trapezoid) model\n",
    "t_init = models.Trapezoid1D(amplitude=1, x_0=0, width=1, slope=0.5)\n",
    "fit_t = fitting.LevMarLSQFitter()\n",
    "t = fit_t(t_init, x, y)\n",
    "\n",
    "# Fit the data using a Gaussian\n",
    "g_init = models.Gaussian1D(amplitude=1, mean=0, stddev=1)\n",
    "fit_g = fitting.LevMarLSQFitter()\n",
    "g = fit_g(g_init, x, y)\n",
    "\n",
    "## Plot the data together with the two best fits\n",
    "plt.plot(x, y, 'k.')\n",
    "\n",
    "plt.plot(x, t(x), '-b', lw=2, label='Trapezoid')\n",
    "plt.plot(x, t_init(x), '--r', alpha=0.6) # initial guess\n",
    "\n",
    "plt.plot(x, g(x), '-r', lw=2, label='Gaussian')\n",
    "plt.plot(x, g_init(x), '--b', alpha=0.6) # initial guess\n",
    "\n",
    "plt.xlabel('Position')\n",
    "plt.ylabel('CCF')\n",
    "\n",
    "plt.legend(loc=2, frameon=False)"
   ]
  }
 ],
 "metadata": {
  "kernelspec": {
   "display_name": "Python 2",
   "language": "python",
   "name": "python2"
  },
  "language_info": {
   "codemirror_mode": {
    "name": "ipython",
    "version": 2
   },
   "file_extension": ".py",
   "mimetype": "text/x-python",
   "name": "python",
   "nbconvert_exporter": "python",
   "pygments_lexer": "ipython2",
   "version": "2.7.12"
  }
 },
 "nbformat": 4,
 "nbformat_minor": 0
}
