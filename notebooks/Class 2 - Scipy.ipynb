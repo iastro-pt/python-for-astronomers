{
 "metadata": {
  "name": "",
<<<<<<< HEAD
  "signature": "sha256:68e48ad19ed729753018037238a058ad01545913c7da79197cd458cd8cbd33f8"
=======
  "signature": "sha256:1f7782d081a2b689bdb38bcf337bc8a76c7aaefbd6a7fedfca90eab2c6e33e60"
>>>>>>> d3ebaafb4b3da0ab210ff080b9bf5c9af2ba8f02
 },
 "nbformat": 3,
 "nbformat_minor": 0,
 "worksheets": [
  {
   "cells": [
    {
     "cell_type": "heading",
     "level": 1,
     "metadata": {},
     "source": [
      "Scipy"
     ]
    },
    {
     "cell_type": "markdown",
     "metadata": {},
     "source": [
      "For more information about Scipy, see http://docs.scipy.org/doc/scipy-0.14.0/reference/tutorial/index.html"
     ]
    },
    {
     "cell_type": "markdown",
     "metadata": {},
     "source": [
      "SciPy is a collection of mathematical algorithms and convenience functions built on the Numpy extension of Python. It adds significant power to the interactive Python session by providing the user with high-level commands and classes for manipulating and visualizing data. With SciPy an interactive Python session becomes a data-processing and system-prototyping environment rivaling sytems such as MATLAB, IDL, Octave, R-Lab, and SciLab."
     ]
    },
    {
     "cell_type": "code",
     "collapsed": false,
     "input": [
      "%pylab inline"
     ],
     "language": "python",
     "metadata": {},
     "outputs": []
    },
    {
     "cell_type": "code",
     "collapsed": false,
     "input": [
      "import numpy as np\n",
      "import scipy as sp\n",
      "import matplotlib as mpl\n",
      "import matplotlib.pyplot as plt"
     ],
     "language": "python",
     "metadata": {},
     "outputs": []
    },
    {
     "cell_type": "markdown",
     "metadata": {},
     "source": [
      "SciPy is organized into subpackages covering different scientific computing domains. These are summarized in the following table:\n",
      "\n",
      "* cluster - Clustering algorithms\n",
      "* constants - Physical and mathematical constants\n",
      "* fftpack - Fast Fourier Transform routines\n",
      "* integrate - Integration and ordinary differential equation solvers\n",
      "* interpolate - Interpolation and smoothing splines\n",
      "* io - Input and Output\n",
      "* linalg - Linear algebra\n",
      "* ndimage - N-dimensional image processing\n",
      "* odr - Orthogonal distance regression\n",
      "* optimize - Optimization and root-finding routines\n",
      "* signal - Signal processing\n",
      "* sparse - Sparse matrices and associated routines\n",
      "* spatial - Spatial data structures and algorithms\n",
      "* special - Special functions\n",
      "* stats - Statistical distributions and functions\n",
      "* weave - C/C++ integration"
     ]
    },
    {
     "cell_type": "markdown",
     "metadata": {},
     "source": [
      "Each of the Scipy sub-packages needs to be imported separately"
     ]
    },
    {
     "cell_type": "code",
     "collapsed": false,
     "input": [
      "from scipy import linalg\n",
      "from scipy import stats"
     ],
     "language": "python",
     "metadata": {},
     "outputs": []
    },
    {
     "cell_type": "code",
     "collapsed": false,
     "input": [
      "from scipy import misc  # miscelaneous simple functions"
     ],
     "language": "python",
     "metadata": {},
     "outputs": []
    },
    {
     "cell_type": "code",
     "collapsed": false,
     "input": [
      "misc.factorial(100)"
     ],
     "language": "python",
     "metadata": {},
     "outputs": []
    },
    {
     "cell_type": "code",
     "collapsed": false,
     "input": [
      "misc.comb(10, 2)"
     ],
     "language": "python",
     "metadata": {},
     "outputs": []
    },
    {
     "cell_type": "heading",
     "level": 2,
     "metadata": {},
     "source": [
      "Special functions (scipy.special)"
     ]
    },
    {
     "cell_type": "markdown",
     "metadata": {},
     "source": [
      "The main feature of the scipy.special package is the definition of numerous special functions of mathematical physics. Available functions include airy, elliptic, bessel, gamma, beta, hypergeometric, parabolic cylinder, mathieu, spheroidal wave, struve, and kelvin."
     ]
    },
    {
     "cell_type": "code",
     "collapsed": false,
     "input": [
      "from scipy import special"
     ],
     "language": "python",
     "metadata": {},
     "outputs": []
    },
    {
     "cell_type": "code",
     "collapsed": false,
     "input": [
      "dir(special)"
     ],
     "language": "python",
     "metadata": {},
     "outputs": []
    },
    {
     "cell_type": "markdown",
     "metadata": {},
     "source": [
      "Example of Bessel functions: vibrational modes of a thin circular drum head anchored at the edge"
     ]
    },
    {
     "cell_type": "code",
     "collapsed": false,
     "input": [
      "from scipy import *\n",
      "from scipy.special import jn, jn_zeros\n",
      "from mpl_toolkits.mplot3d import Axes3D\n",
      "from matplotlib import cm\n",
      "\n",
      "def drumhead_height(n, k, distance, angle, t):\n",
      "   nth_zero = jn_zeros(n, k)\n",
      "   return cos(t)*cos(n*angle)*jn(n, distance*nth_zero)\n",
      "theta = r_[0:2*pi:50j]\n",
      "radius = r_[0:1:50j]\n",
      "x = array([r*cos(theta) for r in radius])\n",
      "y = array([r*sin(theta) for r in radius])\n",
      "z = array([drumhead_height(1, 1, r, theta, 0.5) for r in radius])\n",
      "\n",
      "fig = plt.figure()\n",
      "ax = Axes3D(fig)\n",
      "ax.plot_surface(x, y, z, rstride=1, cstride=1, cmap=cm.jet)\n",
      "ax.set_xlabel('X')\n",
      "ax.set_ylabel('Y')\n",
      "ax.set_zlabel('Z')\n",
      "plt.show()"
     ],
     "language": "python",
     "metadata": {},
     "outputs": []
    },
    {
     "cell_type": "heading",
     "level": 2,
     "metadata": {},
     "source": [
      "Integration (scipy.integrate)"
     ]
    },
    {
     "cell_type": "code",
     "collapsed": false,
     "input": [
      "from scipy.integrate import quad"
     ],
     "language": "python",
     "metadata": {},
     "outputs": []
    },
    {
     "cell_type": "code",
     "collapsed": false,
     "input": [
      "quad?"
     ],
     "language": "python",
     "metadata": {},
     "outputs": []
    },
    {
     "cell_type": "markdown",
     "metadata": {},
     "source": [
      "Calculate the exponential integral for integer n and non-negative x, n\n",
      "\n",
      "$$E_n (x) = \\int_1^{\\infty} \\frac{e^{-xt}}{t^n} dt$$"
     ]
    },
    {
     "cell_type": "code",
     "collapsed": false,
     "input": [
      "def integrand(t, n, x):\n",
      "    return exp(-x*t) / t**n\n",
      "\n",
      "quad(integrand, 1, Inf, args=(4, 0.5))[0]"
     ],
     "language": "python",
     "metadata": {},
     "outputs": []
    },
    {
     "cell_type": "code",
     "collapsed": false,
     "input": [
      "# note that there is already a function for this\n",
      "special.expn(4, 0.5)"
     ],
     "language": "python",
     "metadata": {},
     "outputs": []
    },
    {
     "cell_type": "heading",
     "level": 2,
     "metadata": {},
     "source": [
      "Optimization (scipy.optimize)"
     ]
    },
    {
     "cell_type": "heading",
     "level": 2,
     "metadata": {},
     "source": [
      "Interpolation (scipy.interpolate)"
     ]
    },
    {
     "cell_type": "heading",
     "level": 2,
     "metadata": {},
     "source": [
      "Fourier Transforms (scipy.fftpack)"
     ]
    },
    {
     "cell_type": "heading",
     "level": 2,
     "metadata": {},
     "source": [
      "Signal Processing (scipy.signal)"
     ]
    },
    {
     "cell_type": "heading",
     "level": 2,
     "metadata": {},
     "source": [
      "Linear Algebra (scipy.linalg)"
     ]
    },
    {
     "cell_type": "heading",
     "level": 2,
     "metadata": {},
     "source": [
      "Spatial data structures and algorithms (scipy.spatial)"
     ]
    },
    {
     "cell_type": "heading",
     "level": 2,
     "metadata": {},
     "source": [
      "Statistics (scipy.stats)"
     ]
    },
    {
     "cell_type": "heading",
     "level": 3,
     "metadata": {},
     "source": [
      "Random variables"
     ]
    },
    {
     "cell_type": "markdown",
     "metadata": {},
     "source": [
      "There are two general distribution classes that have been implemented for encapsulating continuous random variables and discrete random variables . Over 80 continuous random variables (RVs) and 10 discrete random variables have been implemented using these classes\n",
      "\n",
      "The main public methods for continuous RVs are:\n",
      "\n",
      "* rvs: Random Variates\n",
      "* pdf: Probability Density Function\n",
      "* cdf: Cumulative Distribution Function\n",
      "* sf: Survival Function (1-CDF)\n",
      "* ppf: Percent Point Function (Inverse of CDF)\n",
      "* isf: Inverse Survival Function (Inverse of SF)\n",
      "* stats: Return mean, variance, (Fisher\u2019s) skew, or (Fisher\u2019s) kurtosis\n",
      "* moment: non-central moments of the distribution"
     ]
    },
    {
     "cell_type": "code",
     "collapsed": false,
     "input": [
      "from scipy.stats import norm"
     ],
     "language": "python",
     "metadata": {},
     "outputs": []
    },
    {
     "cell_type": "code",
     "collapsed": false,
     "input": [
      "norm.cdf(0)"
     ],
     "language": "python",
     "metadata": {},
     "outputs": []
    },
    {
     "cell_type": "code",
     "collapsed": false,
     "input": [
      "norm.mean(), norm.std(), norm.var()"
     ],
     "language": "python",
     "metadata": {},
     "outputs": []
    },
    {
     "cell_type": "markdown",
     "metadata": {},
     "source": [
      "To generate a set of random variates from the normal distribution"
     ]
    },
    {
     "cell_type": "code",
     "collapsed": false,
     "input": [
      "norm.rvs(size=5)"
     ],
     "language": "python",
     "metadata": {},
     "outputs": []
    },
    {
     "cell_type": "markdown",
     "metadata": {},
     "source": [
      "All continuous distributions take `loc` and `scale` as keyword parameters to adjust the location and scale of the distribution, e.g. for the standard normal distribution the location is the mean and the scale is the standard deviation."
     ]
    },
    {
     "cell_type": "code",
     "collapsed": false,
     "input": [
      "x = norm.rvs(size=300)\n",
      "y = norm.rvs(loc=3, scale=0.1, size=500)\n",
      "\n",
      "plt.figure()\n",
      "n, bins, p = plt.hist(x)\n",
      "n, bins, p = plt.hist(y)\n",
      "plt.show()"
     ],
     "language": "python",
     "metadata": {},
     "outputs": []
    },
    {
     "cell_type": "heading",
     "level": 3,
     "metadata": {},
     "source": [
      "Statistical tests"
     ]
    },
    {
     "cell_type": "code",
     "collapsed": false,
     "input": [
      "x = stats.t.rvs(10, size=10000)  # we set the degrees of freedom of the t distribution to 10"
     ],
     "language": "python",
     "metadata": {},
     "outputs": []
    },
    {
     "cell_type": "markdown",
     "metadata": {},
     "source": [
      "Sample descriptive statistics"
     ]
    },
    {
     "cell_type": "code",
     "collapsed": false,
     "input": [
      "ss = stats.describe(x) \n",
      "ss  # this contains N, min, max, mean, variance, skewness, kurtosis"
     ],
     "language": "python",
     "metadata": {},
     "outputs": []
    },
    {
     "cell_type": "code",
     "collapsed": false,
     "input": [
      "print 'KS-statistic D = %6.3f pvalue = %6.4f' % stats.kstest(x, 't', (10,))"
     ],
     "language": "python",
     "metadata": {},
     "outputs": []
    },
    {
     "cell_type": "markdown",
     "metadata": {},
     "source": [
      "Kolmogorov-Smirnov test for two samples"
     ]
    },
    {
     "cell_type": "code",
     "collapsed": false,
     "input": [
      "rvs1 = stats.norm.rvs(loc=5, scale=10, size=500)\n",
      "rvs2 = stats.norm.rvs(loc=5, scale=10, size=500)\n",
      "rvs3 = stats.norm.rvs(loc=8, scale=10, size=500)  # different mean"
     ],
     "language": "python",
     "metadata": {},
     "outputs": []
    },
    {
     "cell_type": "code",
     "collapsed": false,
     "input": [
      "stats.ks_2samp(rvs1, rvs2)  # cannot reject the null hypothesis since the pvalue is high"
     ],
     "language": "python",
     "metadata": {},
     "outputs": []
    },
    {
     "cell_type": "code",
     "collapsed": false,
     "input": [
      "stats.ks_2samp(rvs1, rvs3)  # can reject the null hypothesis since the pvalue is below 1%"
     ],
     "language": "python",
     "metadata": {},
     "outputs": []
    },
    {
     "cell_type": "heading",
     "level": 3,
     "metadata": {},
     "source": [
      "Kernel Density Estimation"
     ]
    },
    {
     "cell_type": "markdown",
     "metadata": {},
     "source": [
      "A common task in statistics is to estimate the probability density function (PDF) of a random variable from a set of data samples. This task is called density estimation. The most well-known tool to do this is the histogram. A histogram is a useful tool for visualization, but doesn\u2019t use the available data very efficiently. Kernel density estimation (KDE) is a more efficient tool for the same task. The gaussian_kde estimator can be used to estimate the PDF of univariate as well as multivariate data. It works best if the data is unimodal."
     ]
    },
    {
     "cell_type": "code",
     "collapsed": false,
     "input": [
      "x1 = np.random.normal(size=100)  # random data, normal distribution\n",
      "kde1 = stats.gaussian_kde(x1)"
     ],
     "language": "python",
     "metadata": {},
     "outputs": []
    },
    {
     "cell_type": "code",
     "collapsed": false,
     "input": [
      "plt.figure()\n",
      "p = plt.plot(x1, np.zeros(x1.shape), 'k+', ms=20)  # rug plot\n",
      "p = plt.hist(x1, normed=True)  # histogram\n",
      "\n",
      "x_eval = np.linspace(-4, 4, 200)\n",
      "plt.plot(x_eval, kde1(x_eval), 'r-', lw=2)  # kde"
     ],
     "language": "python",
     "metadata": {},
     "outputs": []
    },
    {
     "cell_type": "markdown",
     "metadata": {},
     "source": [
      "`gaussian_kde` can perform multivariate as well as univariate estimation. Let's do the bivariate case. \n",
      "\n",
      "For that we generate some random data with a model in which the two variates are correlated."
     ]
    },
    {
     "cell_type": "code",
     "collapsed": false,
     "input": [
      "def measure(n):\n",
      "    \"\"\"Return two coupled measurements.\"\"\"\n",
      "    m1 = np.random.normal(size=n)\n",
      "    m2 = np.random.normal(scale=0.5, size=n)\n",
      "    return m1+m2, m1-m2\n",
      "\n",
      "m1, m2 = measure(2000)\n",
      "xmin = m1.min()\n",
      "xmax = m1.max()\n",
      "ymin = m2.min()\n",
      "ymax = m2.max()\n",
      "\n",
      "# apply the KDE to the data:\n",
      "X, Y = np.mgrid[xmin:xmax:100j, ymin:ymax:100j]\n",
      "positions = np.vstack([X.ravel(), Y.ravel()])\n",
      "values = np.vstack([m1, m2])\n",
      "kernel = stats.gaussian_kde(values)\n",
      "Z = np.reshape(kernel.evaluate(positions).T, X.shape)"
     ],
     "language": "python",
     "metadata": {},
     "outputs": []
    },
    {
     "cell_type": "code",
     "collapsed": false,
     "input": [
      "# plot the estimated bivariate distribution as a colormap, and plot the individual data points on top.\n",
      "fig = plt.figure(figsize=(8, 6))\n",
      "ax = fig.add_subplot(111)\n",
      "\n",
      "ax.imshow(np.rot90(Z), cmap=plt.cm.terrain,\n",
      "          extent=[xmin, xmax, ymin, ymax])\n",
      "ax.plot(m1, m2, 'k.', markersize=3)\n",
      "\n",
      "ax.set_xlim([xmin, xmax])\n",
      "ax.set_ylim([ymin, ymax])\n",
      "plt.show()"
     ],
     "language": "python",
     "metadata": {},
     "outputs": []
    },
    {
     "cell_type": "code",
     "collapsed": false,
     "input": [],
     "language": "python",
     "metadata": {},
     "outputs": []
    },
    {
     "cell_type": "heading",
     "level": 2,
     "metadata": {},
     "source": [
      "Multidimensional image processing (scipy.ndimage)"
     ]
    },
    {
     "cell_type": "heading",
     "level": 2,
     "metadata": {},
     "source": [
      "File IO (scipy.io)"
     ]
    },
    {
     "cell_type": "heading",
     "level": 2,
     "metadata": {},
     "source": [
      "Weave (scipy.weave)"
     ]
    },
    {
     "cell_type": "code",
     "collapsed": false,
     "input": [
      "# this does not work in the notebook but gives a quick way to use C/C++ code within Python\n",
      "from scipy import weave\n",
      "a = 1\n",
      "weave.inline(r'printf(\"%d\\\\n\",a);',['a'])"
     ],
     "language": "python",
     "metadata": {},
     "outputs": []
    },
    {
     "cell_type": "heading",
     "level": 4,
     "metadata": {},
     "source": [
      "Advanced"
     ]
    },
    {
     "cell_type": "markdown",
     "metadata": {},
     "source": [
      "This example solves Laplace's equation over a 2-d rectangular grid using a simple iterative method. The code finds a two-dimensional function, `u`, where `\u2207^2 u = 0`, given some fixed boundary conditions.\n",
      "We compare implementations in pure Python, numpy and using C/weave"
     ]
    },
    {
     "cell_type": "code",
     "collapsed": false,
     "input": [
      "dx = 0.1\n",
      "dy = 0.1\n",
      "dx2 = dx*dx\n",
      "dy2 = dy*dy\n",
      "\n",
      "\n",
      "def py_update(u):\n",
      "    nx, ny = u.shape\n",
      "    for i in xrange(1,nx-1):\n",
      "        for j in xrange(1, ny-1):\n",
      "            u[i,j] = ((u[i+1, j] + u[i-1, j]) * dy2 +\n",
      "                      (u[i, j+1] + u[i, j-1]) * dx2) / (2*(dx2+dy2))\n",
      "\n",
      "\n",
      "def numpy_update(u):\n",
      "    u[1:-1,1:-1] = ((u[2:,1:-1]+u[:-2,1:-1])*dy2 + \n",
      "                    (u[1:-1,2:] + u[1:-1,:-2])*dx2) / (2*(dx2+dy2))\n",
      "\n",
      "\n",
      "def weave_update(u):\n",
      "    code = \"\"\"\n",
      "    int i, j;\n",
      "    for (i=1; i<Nu[0]-1; i++) {\n",
      "       for (j=1; j<Nu[1]-1; j++) {\n",
      "           U2(i,j) = ((U2(i+1, j) + U2(i-1, j))*dy2 + \\\n",
      "                       (U2(i, j+1) + U2(i, j-1))*dx2) / (2*(dx2+dy2));\n",
      "       }\n",
      "    }\n",
      "    \"\"\"\n",
      "    weave.inline(code, ['u', 'dx2', 'dy2'])\n",
      "\n",
      "\n",
      "def calc(N, Niter=10000, func=py_update, args=()):\n",
      "    u = zeros([N, N])\n",
      "    u[0] = 1\n",
      "    for i in range(Niter):\n",
      "        func(u,*args)\n",
      "    return u"
     ],
     "language": "python",
     "metadata": {},
     "outputs": []
    },
    {
     "cell_type": "code",
     "collapsed": false,
     "input": [
      "N = 15   # NxN grid  (above N=15 might take a long time to run)"
     ],
     "language": "python",
     "metadata": {},
     "outputs": []
    },
    {
     "cell_type": "code",
     "collapsed": false,
     "input": [
      "print 'Time for pure Python'\n",
      "u1 = calc(N, func=py_update)\n",
      "py_result = %timeit -o calc(N, func=py_update)"
     ],
     "language": "python",
     "metadata": {},
     "outputs": []
    },
    {
     "cell_type": "code",
     "collapsed": false,
     "input": [
      "print 'Time for Numpy'\n",
      "u2 = calc(N, func=numpy_update)\n",
      "numpy_result = %timeit -o calc(N, func=numpy_update)"
     ],
     "language": "python",
     "metadata": {},
     "outputs": []
    },
    {
     "cell_type": "code",
     "collapsed": false,
     "input": [
      "print 'Time for weave'\n",
      "u3 = calc(N, func=weave_update)\n",
      "weave_result = %timeit -o calc(N, func=weave_update)"
     ],
     "language": "python",
     "metadata": {},
     "outputs": []
    },
    {
     "cell_type": "markdown",
     "metadata": {},
     "source": [
      "Note that the speedup going from pure Python to numpy is huge (~75x) but C/weave still provides a 2x speedup on top of that"
     ]
    },
    {
     "cell_type": "code",
     "collapsed": false,
     "input": [
      "print np.allclose(u1, u2), np.allclose(u1, u3)"
     ],
     "language": "python",
     "metadata": {},
     "outputs": []
    },
    {
     "cell_type": "code",
     "collapsed": false,
     "input": [
      "speedups = py_result.best / numpy_result.best, numpy_result.best / weave_result.best\n",
      "print 'The speedup going from pure Python to numpy is %dx but C/weave still provides a %dx speedup on top of that' % speedups"
     ],
     "language": "python",
     "metadata": {},
     "outputs": []
    },
    {
     "cell_type": "code",
     "collapsed": false,
     "input": [
      "speedups"
     ],
     "language": "python",
     "metadata": {},
     "outputs": []
    },
    {
     "cell_type": "code",
     "collapsed": false,
     "input": [],
     "language": "python",
     "metadata": {},
     "outputs": []
    }
   ],
   "metadata": {}
  }
 ]
}