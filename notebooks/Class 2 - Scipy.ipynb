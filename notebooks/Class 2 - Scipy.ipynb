{
 "metadata": {
  "name": "",
  "signature": "sha256:68e48ad19ed729753018037238a058ad01545913c7da79197cd458cd8cbd33f8"
 },
 "nbformat": 3,
 "nbformat_minor": 0,
 "worksheets": [
  {
   "cells": [
    {
     "cell_type": "heading",
     "level": 1,
     "metadata": {},
     "source": [
      "Scipy"
     ]
    },
    {
     "cell_type": "markdown",
     "metadata": {},
     "source": [
      "For more information about Scipy, see http://docs.scipy.org/doc/scipy-0.14.0/reference/tutorial/index.html"
     ]
    },
    {
     "cell_type": "markdown",
     "metadata": {},
     "source": [
      "SciPy is a collection of mathematical algorithms and convenience functions built on the Numpy extension of Python. It adds significant power to the interactive Python session by providing the user with high-level commands and classes for manipulating and visualizing data. With SciPy an interactive Python session becomes a data-processing and system-prototyping environment rivaling sytems such as MATLAB, IDL, Octave, R-Lab, and SciLab."
     ]
    },
    {
     "cell_type": "code",
     "collapsed": false,
     "input": [
      "%pylab inline"
     ],
     "language": "python",
     "metadata": {},
     "outputs": [
      {
       "output_type": "stream",
       "stream": "stdout",
       "text": [
        "Populating the interactive namespace from numpy and matplotlib\n"
       ]
      }
     ],
     "prompt_number": 1
    },
    {
     "cell_type": "code",
     "collapsed": false,
     "input": [
      "import numpy as np\n",
      "import scipy as sp\n",
      "import matplotlib as mpl\n",
      "import matplotlib.pyplot as plt"
     ],
     "language": "python",
     "metadata": {},
     "outputs": [],
     "prompt_number": 2
    },
    {
     "cell_type": "markdown",
     "metadata": {},
     "source": [
      "SciPy is organized into subpackages covering different scientific computing domains. These are summarized in the following table:\n",
      "\n",
      "* cluster - Clustering algorithms\n",
      "* constants - Physical and mathematical constants\n",
      "* fftpack - Fast Fourier Transform routines\n",
      "* integrate - Integration and ordinary differential equation solvers\n",
      "* interpolate - Interpolation and smoothing splines\n",
      "* io - Input and Output\n",
      "* linalg - Linear algebra\n",
      "* ndimage - N-dimensional image processing\n",
      "* odr - Orthogonal distance regression\n",
      "* optimize - Optimization and root-finding routines\n",
      "* signal - Signal processing\n",
      "* sparse - Sparse matrices and associated routines\n",
      "* spatial - Spatial data structures and algorithms\n",
      "* special - Special functions\n",
      "* stats - Statistical distributions and functions\n",
      "* weave - C/C++ integration"
     ]
    },
    {
     "cell_type": "markdown",
     "metadata": {},
     "source": [
      "Each of the Scipy sub-packages needs to be imported separately"
     ]
    },
    {
     "cell_type": "code",
     "collapsed": false,
     "input": [
      "from scipy import linalg\n",
      "from scipy import stats"
     ],
     "language": "python",
     "metadata": {},
     "outputs": [],
     "prompt_number": 3
    },
    {
     "cell_type": "code",
     "collapsed": false,
     "input": [
      "from scipy import misc  # miscelaneous simple functions"
     ],
     "language": "python",
     "metadata": {},
     "outputs": [],
     "prompt_number": 4
    },
    {
     "cell_type": "code",
     "collapsed": false,
     "input": [
      "misc.factorial(100)"
     ],
     "language": "python",
     "metadata": {},
     "outputs": [
      {
       "metadata": {},
       "output_type": "pyout",
       "prompt_number": 5,
       "text": [
        "array(9.332621544394415e+157)"
       ]
      }
     ],
     "prompt_number": 5
    },
    {
     "cell_type": "code",
     "collapsed": false,
     "input": [
      "misc.comb(10, 2)"
     ],
     "language": "python",
     "metadata": {},
     "outputs": [
      {
       "metadata": {},
       "output_type": "pyout",
       "prompt_number": 6,
       "text": [
        "45.0"
       ]
      }
     ],
     "prompt_number": 6
    },
    {
     "cell_type": "heading",
     "level": 2,
     "metadata": {},
     "source": [
      "Special functions (scipy.special)"
     ]
    },
    {
     "cell_type": "markdown",
     "metadata": {},
     "source": [
      "The main feature of the scipy.special package is the definition of numerous special functions of mathematical physics. Available functions include airy, elliptic, bessel, gamma, beta, hypergeometric, parabolic cylinder, mathieu, spheroidal wave, struve, and kelvin."
     ]
    },
    {
     "cell_type": "code",
     "collapsed": false,
     "input": [
      "from scipy import special"
     ],
     "language": "python",
     "metadata": {},
     "outputs": [],
     "prompt_number": 7
    },
    {
     "cell_type": "code",
     "collapsed": false,
     "input": [
      "dir(special)"
     ],
     "language": "python",
     "metadata": {},
     "outputs": [
      {
       "metadata": {},
       "output_type": "pyout",
       "prompt_number": 8,
       "text": [
        "['SpecialFunctionWarning',\n",
        " 'Tester',\n",
        " '__all__',\n",
        " '__builtins__',\n",
        " '__doc__',\n",
        " '__file__',\n",
        " '__name__',\n",
        " '__package__',\n",
        " '__path__',\n",
        " '_ufuncs',\n",
        " '_ufuncs_cxx',\n",
        " 'absolute_import',\n",
        " 'agm',\n",
        " 'ai_zeros',\n",
        " 'airy',\n",
        " 'airye',\n",
        " 'assoc_laguerre',\n",
        " 'basic',\n",
        " 'bdtr',\n",
        " 'bdtrc',\n",
        " 'bdtri',\n",
        " 'bdtrik',\n",
        " 'bdtrin',\n",
        " 'bei',\n",
        " 'bei_zeros',\n",
        " 'beip',\n",
        " 'beip_zeros',\n",
        " 'ber',\n",
        " 'ber_zeros',\n",
        " 'bernoulli',\n",
        " 'berp',\n",
        " 'berp_zeros',\n",
        " 'bessel_diff_formula',\n",
        " 'besselpoly',\n",
        " 'beta',\n",
        " 'betainc',\n",
        " 'betaincinv',\n",
        " 'betaln',\n",
        " 'bi_zeros',\n",
        " 'binom',\n",
        " 'boxcox',\n",
        " 'boxcox1p',\n",
        " 'btdtr',\n",
        " 'btdtri',\n",
        " 'btdtria',\n",
        " 'btdtrib',\n",
        " 'c_roots',\n",
        " 'cbrt',\n",
        " 'cg_roots',\n",
        " 'chdtr',\n",
        " 'chdtrc',\n",
        " 'chdtri',\n",
        " 'chdtriv',\n",
        " 'chebyc',\n",
        " 'chebys',\n",
        " 'chebyt',\n",
        " 'chebyu',\n",
        " 'chndtr',\n",
        " 'chndtridf',\n",
        " 'chndtrinc',\n",
        " 'chndtrix',\n",
        " 'clpmn',\n",
        " 'comb',\n",
        " 'cosdg',\n",
        " 'cosm1',\n",
        " 'cotdg',\n",
        " 'dawsn',\n",
        " 'digamma',\n",
        " 'diric',\n",
        " 'division',\n",
        " 'ellipe',\n",
        " 'ellipeinc',\n",
        " 'ellipj',\n",
        " 'ellipk',\n",
        " 'ellipkinc',\n",
        " 'ellipkm1',\n",
        " 'erf',\n",
        " 'erf_zeros',\n",
        " 'erfc',\n",
        " 'erfcinv',\n",
        " 'erfcx',\n",
        " 'erfi',\n",
        " 'erfinv',\n",
        " 'errprint',\n",
        " 'euler',\n",
        " 'eval_chebyc',\n",
        " 'eval_chebys',\n",
        " 'eval_chebyt',\n",
        " 'eval_chebyu',\n",
        " 'eval_gegenbauer',\n",
        " 'eval_genlaguerre',\n",
        " 'eval_hermite',\n",
        " 'eval_hermitenorm',\n",
        " 'eval_jacobi',\n",
        " 'eval_laguerre',\n",
        " 'eval_legendre',\n",
        " 'eval_sh_chebyt',\n",
        " 'eval_sh_chebyu',\n",
        " 'eval_sh_jacobi',\n",
        " 'eval_sh_legendre',\n",
        " 'exp1',\n",
        " 'exp10',\n",
        " 'exp2',\n",
        " 'expi',\n",
        " 'expit',\n",
        " 'expm1',\n",
        " 'expn',\n",
        " 'factorial',\n",
        " 'factorial2',\n",
        " 'factorialk',\n",
        " 'fdtr',\n",
        " 'fdtrc',\n",
        " 'fdtri',\n",
        " 'fdtridfd',\n",
        " 'fresnel',\n",
        " 'fresnel_zeros',\n",
        " 'fresnelc_zeros',\n",
        " 'fresnels_zeros',\n",
        " 'gamma',\n",
        " 'gammainc',\n",
        " 'gammaincc',\n",
        " 'gammainccinv',\n",
        " 'gammaincinv',\n",
        " 'gammaln',\n",
        " 'gammasgn',\n",
        " 'gdtr',\n",
        " 'gdtrc',\n",
        " 'gdtria',\n",
        " 'gdtrib',\n",
        " 'gdtrix',\n",
        " 'gegenbauer',\n",
        " 'genlaguerre',\n",
        " 'h1vp',\n",
        " 'h2vp',\n",
        " 'h_roots',\n",
        " 'hankel1',\n",
        " 'hankel1e',\n",
        " 'hankel2',\n",
        " 'hankel2e',\n",
        " 'he_roots',\n",
        " 'hermite',\n",
        " 'hermitenorm',\n",
        " 'hyp0f1',\n",
        " 'hyp1f1',\n",
        " 'hyp1f2',\n",
        " 'hyp2f0',\n",
        " 'hyp2f1',\n",
        " 'hyp3f0',\n",
        " 'hyperu',\n",
        " 'i0',\n",
        " 'i0e',\n",
        " 'i1',\n",
        " 'i1e',\n",
        " 'it2i0k0',\n",
        " 'it2j0y0',\n",
        " 'it2struve0',\n",
        " 'itairy',\n",
        " 'iti0k0',\n",
        " 'itj0y0',\n",
        " 'itmodstruve0',\n",
        " 'itstruve0',\n",
        " 'iv',\n",
        " 'ive',\n",
        " 'ivp',\n",
        " 'j0',\n",
        " 'j1',\n",
        " 'j_roots',\n",
        " 'jacobi',\n",
        " 'jn',\n",
        " 'jn_zeros',\n",
        " 'jnjnp_zeros',\n",
        " 'jnp_zeros',\n",
        " 'jnyn_zeros',\n",
        " 'js_roots',\n",
        " 'jv',\n",
        " 'jve',\n",
        " 'jvp',\n",
        " 'k0',\n",
        " 'k0e',\n",
        " 'k1',\n",
        " 'k1e',\n",
        " 'kei',\n",
        " 'kei_zeros',\n",
        " 'keip',\n",
        " 'keip_zeros',\n",
        " 'kelvin',\n",
        " 'kelvin_zeros',\n",
        " 'ker',\n",
        " 'ker_zeros',\n",
        " 'kerp',\n",
        " 'kerp_zeros',\n",
        " 'kn',\n",
        " 'kolmogi',\n",
        " 'kolmogorov',\n",
        " 'kv',\n",
        " 'kve',\n",
        " 'kvp',\n",
        " 'l_roots',\n",
        " 'la_roots',\n",
        " 'laguerre',\n",
        " 'lambertw',\n",
        " 'legendre',\n",
        " 'lmbda',\n",
        " 'log1p',\n",
        " 'log_ndtr',\n",
        " 'logit',\n",
        " 'lpmn',\n",
        " 'lpmv',\n",
        " 'lpn',\n",
        " 'lqmn',\n",
        " 'lqn',\n",
        " 'mathieu_a',\n",
        " 'mathieu_b',\n",
        " 'mathieu_cem',\n",
        " 'mathieu_even_coef',\n",
        " 'mathieu_modcem1',\n",
        " 'mathieu_modcem2',\n",
        " 'mathieu_modsem1',\n",
        " 'mathieu_modsem2',\n",
        " 'mathieu_odd_coef',\n",
        " 'mathieu_sem',\n",
        " 'modfresnelm',\n",
        " 'modfresnelp',\n",
        " 'modstruve',\n",
        " 'multigammaln',\n",
        " 'nbdtr',\n",
        " 'nbdtrc',\n",
        " 'nbdtri',\n",
        " 'nbdtrik',\n",
        " 'nbdtrin',\n",
        " 'ncfdtr',\n",
        " 'ncfdtri',\n",
        " 'ncfdtridfd',\n",
        " 'ncfdtridfn',\n",
        " 'ncfdtrinc',\n",
        " 'nctdtr',\n",
        " 'nctdtridf',\n",
        " 'nctdtrinc',\n",
        " 'nctdtrit',\n",
        " 'ndtr',\n",
        " 'ndtri',\n",
        " 'nrdtrimn',\n",
        " 'nrdtrisd',\n",
        " 'obl_ang1',\n",
        " 'obl_ang1_cv',\n",
        " 'obl_cv',\n",
        " 'obl_cv_seq',\n",
        " 'obl_rad1',\n",
        " 'obl_rad1_cv',\n",
        " 'obl_rad2',\n",
        " 'obl_rad2_cv',\n",
        " 'orthogonal',\n",
        " 'p_roots',\n",
        " 'pbdn_seq',\n",
        " 'pbdv',\n",
        " 'pbdv_seq',\n",
        " 'pbvv',\n",
        " 'pbvv_seq',\n",
        " 'pbwa',\n",
        " 'pdtr',\n",
        " 'pdtrc',\n",
        " 'pdtri',\n",
        " 'pdtrik',\n",
        " 'perm',\n",
        " 'poch',\n",
        " 'polygamma',\n",
        " 'print_function',\n",
        " 'pro_ang1',\n",
        " 'pro_ang1_cv',\n",
        " 'pro_cv',\n",
        " 'pro_cv_seq',\n",
        " 'pro_rad1',\n",
        " 'pro_rad1_cv',\n",
        " 'pro_rad2',\n",
        " 'pro_rad2_cv',\n",
        " 'ps_roots',\n",
        " 'psi',\n",
        " 'radian',\n",
        " 'rgamma',\n",
        " 'riccati_jn',\n",
        " 'riccati_yn',\n",
        " 'round',\n",
        " 's',\n",
        " 's_roots',\n",
        " 'sh_chebyt',\n",
        " 'sh_chebyu',\n",
        " 'sh_jacobi',\n",
        " 'sh_legendre',\n",
        " 'shichi',\n",
        " 'sici',\n",
        " 'sinc',\n",
        " 'sindg',\n",
        " 'smirnov',\n",
        " 'smirnovi',\n",
        " 'specfun',\n",
        " 'spence',\n",
        " 'spfun_stats',\n",
        " 'sph_harm',\n",
        " 'sph_in',\n",
        " 'sph_inkn',\n",
        " 'sph_jn',\n",
        " 'sph_jnyn',\n",
        " 'sph_kn',\n",
        " 'sph_yn',\n",
        " 'stdtr',\n",
        " 'stdtridf',\n",
        " 'stdtrit',\n",
        " 'struve',\n",
        " 't_roots',\n",
        " 'tandg',\n",
        " 'test',\n",
        " 'tklmbda',\n",
        " 'ts_roots',\n",
        " 'u_roots',\n",
        " 'us_roots',\n",
        " 'wofz',\n",
        " 'xlog1py',\n",
        " 'xlogy',\n",
        " 'y0',\n",
        " 'y0_zeros',\n",
        " 'y1',\n",
        " 'y1_zeros',\n",
        " 'y1p_zeros',\n",
        " 'yn',\n",
        " 'yn_zeros',\n",
        " 'ynp_zeros',\n",
        " 'yv',\n",
        " 'yve',\n",
        " 'yvp',\n",
        " 'zeta',\n",
        " 'zetac']"
       ]
      }
     ],
     "prompt_number": 8
    },
    {
     "cell_type": "markdown",
     "metadata": {},
     "source": [
      "Example of Bessel functions: vibrational modes of a thin circular drum head anchored at the edge"
     ]
    },
    {
     "cell_type": "code",
     "collapsed": false,
     "input": [
      "from scipy import *\n",
      "from scipy.special import jn, jn_zeros\n",
      "from mpl_toolkits.mplot3d import Axes3D\n",
      "from matplotlib import cm\n",
      "\n",
      "def drumhead_height(n, k, distance, angle, t):\n",
      "   nth_zero = jn_zeros(n, k)\n",
      "   return cos(t)*cos(n*angle)*jn(n, distance*nth_zero)\n",
      "theta = r_[0:2*pi:50j]\n",
      "radius = r_[0:1:50j]\n",
      "x = array([r*cos(theta) for r in radius])\n",
      "y = array([r*sin(theta) for r in radius])\n",
      "z = array([drumhead_height(1, 1, r, theta, 0.5) for r in radius])\n",
      "\n",
      "fig = plt.figure()\n",
      "ax = Axes3D(fig)\n",
      "ax.plot_surface(x, y, z, rstride=1, cstride=1, cmap=cm.jet)\n",
      "ax.set_xlabel('X')\n",
      "ax.set_ylabel('Y')\n",
      "ax.set_zlabel('Z')\n",
      "plt.show()"
     ],
     "language": "python",
     "metadata": {},
     "outputs": [
      {
       "metadata": {},
       "output_type": "display_data",
       "png": "[encoded data removed]",
       "text": [
        "<matplotlib.figure.Figure at 0xaf4ecfec>"
       ]
      }
     ],
     "prompt_number": 9
    },
    {
     "cell_type": "heading",
     "level": 2,
     "metadata": {},
     "source": [
      "Integration (scipy.integrate)"
     ]
    },
    {
     "cell_type": "code",
     "collapsed": false,
     "input": [
      "from scipy.integrate import quad"
     ],
     "language": "python",
     "metadata": {},
     "outputs": [],
     "prompt_number": 10
    },
    {
     "cell_type": "code",
     "collapsed": false,
     "input": [
      "quad?"
     ],
     "language": "python",
     "metadata": {},
     "outputs": [],
     "prompt_number": 14
    },
    {
     "cell_type": "markdown",
     "metadata": {},
     "source": [
      "Calculate the exponential integral for integer n and non-negative x, n\n",
      "\n",
      "$$E_n (x) = \\int_1^{\\infty} \\frac{e^{-xt}}{t^n} dt$$"
     ]
    },
    {
     "cell_type": "code",
     "collapsed": false,
     "input": [
      "def integrand(t, n, x):\n",
      "    return exp(-x*t) / t**n\n",
      "\n",
      "quad(integrand, 1, Inf, args=(4, 0.5))[0]"
     ],
     "language": "python",
     "metadata": {},
     "outputs": [
      {
       "metadata": {},
       "output_type": "pyout",
       "prompt_number": 17,
       "text": [
        "0.1652428258583478"
       ]
      }
     ],
     "prompt_number": 17
    },
    {
     "cell_type": "code",
     "collapsed": false,
     "input": [
      "# note that there is already a function for this\n",
      "special.expn(4, 0.5)"
     ],
     "language": "python",
     "metadata": {},
     "outputs": [
      {
       "metadata": {},
       "output_type": "pyout",
       "prompt_number": 18,
       "text": [
        "0.16524282585834807"
       ]
      }
     ],
     "prompt_number": 18
    },
    {
     "cell_type": "heading",
     "level": 2,
     "metadata": {},
     "source": [
      "Optimization (scipy.optimize)"
     ]
    },
    {
     "cell_type": "heading",
     "level": 2,
     "metadata": {},
     "source": [
      "Interpolation (scipy.interpolate)"
     ]
    },
    {
     "cell_type": "heading",
     "level": 2,
     "metadata": {},
     "source": [
      "Fourier Transforms (scipy.fftpack)"
     ]
    },
    {
     "cell_type": "heading",
     "level": 2,
     "metadata": {},
     "source": [
      "Signal Processing (scipy.signal)"
     ]
    },
    {
     "cell_type": "heading",
     "level": 2,
     "metadata": {},
     "source": [
      "Linear Algebra (scipy.linalg)"
     ]
    },
    {
     "cell_type": "heading",
     "level": 2,
     "metadata": {},
     "source": [
      "Spatial data structures and algorithms (scipy.spatial)"
     ]
    },
    {
     "cell_type": "heading",
     "level": 2,
     "metadata": {},
     "source": [
      "Statistics (scipy.stats)"
     ]
    },
    {
     "cell_type": "heading",
     "level": 3,
     "metadata": {},
     "source": [
      "Random variables"
     ]
    },
    {
     "cell_type": "markdown",
     "metadata": {},
     "source": [
      "There are two general distribution classes that have been implemented for encapsulating continuous random variables and discrete random variables . Over 80 continuous random variables (RVs) and 10 discrete random variables have been implemented using these classes\n",
      "\n",
      "The main public methods for continuous RVs are:\n",
      "\n",
      "* rvs: Random Variates\n",
      "* pdf: Probability Density Function\n",
      "* cdf: Cumulative Distribution Function\n",
      "* sf: Survival Function (1-CDF)\n",
      "* ppf: Percent Point Function (Inverse of CDF)\n",
      "* isf: Inverse Survival Function (Inverse of SF)\n",
      "* stats: Return mean, variance, (Fisher\u2019s) skew, or (Fisher\u2019s) kurtosis\n",
      "* moment: non-central moments of the distribution"
     ]
    },
    {
     "cell_type": "code",
     "collapsed": false,
     "input": [
      "from scipy.stats import norm"
     ],
     "language": "python",
     "metadata": {},
     "outputs": [],
     "prompt_number": 19
    },
    {
     "cell_type": "code",
     "collapsed": false,
     "input": [
      "norm.cdf(0)"
     ],
     "language": "python",
     "metadata": {},
     "outputs": [
      {
       "metadata": {},
       "output_type": "pyout",
       "prompt_number": 21,
       "text": [
        "0.5"
       ]
      }
     ],
     "prompt_number": 21
    },
    {
     "cell_type": "code",
     "collapsed": false,
     "input": [
      "norm.mean(), norm.std(), norm.var()"
     ],
     "language": "python",
     "metadata": {},
     "outputs": [
      {
       "metadata": {},
       "output_type": "pyout",
       "prompt_number": 23,
       "text": [
        "(0.0, 1.0, 1.0)"
       ]
      }
     ],
     "prompt_number": 23
    },
    {
     "cell_type": "markdown",
     "metadata": {},
     "source": [
      "To generate a set of random variates from the normal distribution"
     ]
    },
    {
     "cell_type": "code",
     "collapsed": false,
     "input": [
      "norm.rvs(size=5)"
     ],
     "language": "python",
     "metadata": {},
     "outputs": [
      {
       "metadata": {},
       "output_type": "pyout",
       "prompt_number": 42,
       "text": [
        "array([-2.80812529, -0.39741399,  0.90445173,  0.26041209,  0.68580635])"
       ]
      }
     ],
     "prompt_number": 42
    },
    {
     "cell_type": "markdown",
     "metadata": {},
     "source": [
      "All continuous distributions take `loc` and `scale` as keyword parameters to adjust the location and scale of the distribution, e.g. for the standard normal distribution the location is the mean and the scale is the standard deviation."
     ]
    },
    {
     "cell_type": "code",
     "collapsed": false,
     "input": [
      "x = norm.rvs(size=300)\n",
      "y = norm.rvs(loc=3, scale=0.1, size=500)\n",
      "\n",
      "plt.figure()\n",
      "n, bins, p = plt.hist(x)\n",
      "n, bins, p = plt.hist(y)\n",
      "plt.show()"
     ],
     "language": "python",
     "metadata": {},
     "outputs": [
      {
       "metadata": {},
       "output_type": "display_data",
       "png": "[encoded data removed]",
       "text": [
        "<matplotlib.figure.Figure at 0xac2fc1ac>"
       ]
      }
     ],
     "prompt_number": 43
    },
    {
     "cell_type": "heading",
     "level": 3,
     "metadata": {},
     "source": [
      "Statistical tests"
     ]
    },
    {
     "cell_type": "code",
     "collapsed": false,
     "input": [
      "x = stats.t.rvs(10, size=10000)  # we set the degrees of freedom of the t distribution to 10"
     ],
     "language": "python",
     "metadata": {},
     "outputs": [],
     "prompt_number": 72
    },
    {
     "cell_type": "markdown",
     "metadata": {},
     "source": [
      "Sample descriptive statistics"
     ]
    },
    {
     "cell_type": "code",
     "collapsed": false,
     "input": [
      "ss = stats.describe(x) \n",
      "ss  # this contains N, min, max, mean, variance, skewness, kurtosis"
     ],
     "language": "python",
     "metadata": {},
     "outputs": [
      {
       "metadata": {},
       "output_type": "pyout",
       "prompt_number": 73,
       "text": [
        "(10000,\n",
        " (-6.5732376564468522, 5.9925127252429391),\n",
        " 0.011093780983042829,\n",
        " 1.2313605088495334,\n",
        " 0.005498289601852191,\n",
        " 1.154412459613397)"
       ]
      }
     ],
     "prompt_number": 73
    },
    {
     "cell_type": "code",
     "collapsed": false,
     "input": [
      "print 'KS-statistic D = %6.3f pvalue = %6.4f' % stats.kstest(x, 't', (10,))"
     ],
     "language": "python",
     "metadata": {},
     "outputs": [
      {
       "output_type": "stream",
       "stream": "stdout",
       "text": [
        "KS-statistic D =  0.010 pvalue = 0.3071\n"
       ]
      }
     ],
     "prompt_number": 77
    },
    {
     "cell_type": "markdown",
     "metadata": {},
     "source": [
      "Kolmogorov-Smirnov test for two samples"
     ]
    },
    {
     "cell_type": "code",
     "collapsed": false,
     "input": [
      "rvs1 = stats.norm.rvs(loc=5, scale=10, size=500)\n",
      "rvs2 = stats.norm.rvs(loc=5, scale=10, size=500)\n",
      "rvs3 = stats.norm.rvs(loc=8, scale=10, size=500)  # different mean"
     ],
     "language": "python",
     "metadata": {},
     "outputs": [],
     "prompt_number": 83
    },
    {
     "cell_type": "code",
     "collapsed": false,
     "input": [
      "stats.ks_2samp(rvs1, rvs2)  # cannot reject the null hypothesis since the pvalue is high"
     ],
     "language": "python",
     "metadata": {},
     "outputs": [
      {
       "metadata": {},
       "output_type": "pyout",
       "prompt_number": 84,
       "text": [
        "(0.037999999999999923, 0.8567045353837428)"
       ]
      }
     ],
     "prompt_number": 84
    },
    {
     "cell_type": "code",
     "collapsed": false,
     "input": [
      "stats.ks_2samp(rvs1, rvs3)  # can reject the null hypothesis since the pvalue is below 1%"
     ],
     "language": "python",
     "metadata": {},
     "outputs": [
      {
       "metadata": {},
       "output_type": "pyout",
       "prompt_number": 85,
       "text": [
        "(0.14600000000000002, 3.9599420605401051e-05)"
       ]
      }
     ],
     "prompt_number": 85
    },
    {
     "cell_type": "heading",
     "level": 3,
     "metadata": {},
     "source": [
      "Kernel Density Estimation"
     ]
    },
    {
     "cell_type": "markdown",
     "metadata": {},
     "source": [
      "A common task in statistics is to estimate the probability density function (PDF) of a random variable from a set of data samples. This task is called density estimation. The most well-known tool to do this is the histogram. A histogram is a useful tool for visualization, but doesn\u2019t use the available data very efficiently. Kernel density estimation (KDE) is a more efficient tool for the same task. The gaussian_kde estimator can be used to estimate the PDF of univariate as well as multivariate data. It works best if the data is unimodal."
     ]
    },
    {
     "cell_type": "code",
     "collapsed": false,
     "input": [
      "x1 = np.random.normal(size=100)  # random data, normal distribution\n",
      "kde1 = stats.gaussian_kde(x1)"
     ],
     "language": "python",
     "metadata": {},
     "outputs": [],
     "prompt_number": 101
    },
    {
     "cell_type": "code",
     "collapsed": false,
     "input": [
      "plt.figure()\n",
      "p = plt.plot(x1, np.zeros(x1.shape), 'k+', ms=20)  # rug plot\n",
      "p = plt.hist(x1, normed=True)  # histogram\n",
      "\n",
      "x_eval = np.linspace(-4, 4, 200)\n",
      "plt.plot(x_eval, kde1(x_eval), 'r-', lw=2)  # kde"
     ],
     "language": "python",
     "metadata": {},
     "outputs": [
      {
       "metadata": {},
       "output_type": "pyout",
       "prompt_number": 104,
       "text": [
        "[<matplotlib.lines.Line2D at 0xac126b0c>]"
       ]
      },
      {
       "metadata": {},
       "output_type": "display_data",
       "png": "[encoded data removed]",
       "text": [
        "<matplotlib.figure.Figure at 0xadee9e2c>"
       ]
      }
     ],
     "prompt_number": 104
    },
    {
     "cell_type": "markdown",
     "metadata": {},
     "source": [
      "`gaussian_kde` can perform multivariate as well as univariate estimation. Let's do the bivariate case. \n",
      "\n",
      "For that we generate some random data with a model in which the two variates are correlated."
     ]
    },
    {
     "cell_type": "code",
     "collapsed": false,
     "input": [
      "def measure(n):\n",
      "    \"\"\"Return two coupled measurements.\"\"\"\n",
      "    m1 = np.random.normal(size=n)\n",
      "    m2 = np.random.normal(scale=0.5, size=n)\n",
      "    return m1+m2, m1-m2\n",
      "\n",
      "m1, m2 = measure(2000)\n",
      "xmin = m1.min()\n",
      "xmax = m1.max()\n",
      "ymin = m2.min()\n",
      "ymax = m2.max()\n",
      "\n",
      "# apply the KDE to the data:\n",
      "X, Y = np.mgrid[xmin:xmax:100j, ymin:ymax:100j]\n",
      "positions = np.vstack([X.ravel(), Y.ravel()])\n",
      "values = np.vstack([m1, m2])\n",
      "kernel = stats.gaussian_kde(values)\n",
      "Z = np.reshape(kernel.evaluate(positions).T, X.shape)"
     ],
     "language": "python",
     "metadata": {},
     "outputs": [],
     "prompt_number": 119
    },
    {
     "cell_type": "code",
     "collapsed": false,
     "input": [
      "# plot the estimated bivariate distribution as a colormap, and plot the individual data points on top.\n",
      "fig = plt.figure(figsize=(8, 6))\n",
      "ax = fig.add_subplot(111)\n",
      "\n",
      "ax.imshow(np.rot90(Z), cmap=plt.cm.terrain,\n",
      "          extent=[xmin, xmax, ymin, ymax])\n",
      "ax.plot(m1, m2, 'k.', markersize=3)\n",
      "\n",
      "ax.set_xlim([xmin, xmax])\n",
      "ax.set_ylim([ymin, ymax])\n",
      "plt.show()"
     ],
     "language": "python",
     "metadata": {},
     "outputs": [
      {
       "metadata": {},
       "output_type": "display_data",
       "png": "[encoded data removed]",
       "text": [
        "<matplotlib.figure.Figure at 0xaf4831ac>"
       ]
      }
     ],
     "prompt_number": 120
    },
    {
     "cell_type": "code",
     "collapsed": false,
     "input": [],
     "language": "python",
     "metadata": {},
     "outputs": []
    },
    {
     "cell_type": "heading",
     "level": 2,
     "metadata": {},
     "source": [
      "Multidimensional image processing (scipy.ndimage)"
     ]
    },
    {
     "cell_type": "heading",
     "level": 2,
     "metadata": {},
     "source": [
      "File IO (scipy.io)"
     ]
    },
    {
     "cell_type": "heading",
     "level": 2,
     "metadata": {},
     "source": [
      "Weave (scipy.weave)"
     ]
    },
    {
     "cell_type": "code",
     "collapsed": false,
     "input": [
      "# this does not work in the notebook but gives a quick way to use C/C++ code within Python\n",
      "from scipy import weave\n",
      "a = 1\n",
      "weave.inline(r'printf(\"%d\\\\n\",a);',['a'])"
     ],
     "language": "python",
     "metadata": {},
     "outputs": [],
     "prompt_number": 131
    },
    {
     "cell_type": "heading",
     "level": 4,
     "metadata": {},
     "source": [
      "Advanced"
     ]
    },
    {
     "cell_type": "markdown",
     "metadata": {},
     "source": [
      "This example solves Laplace's equation over a 2-d rectangular grid using a simple iterative method. The code finds a two-dimensional function, u, where \u2207^2 u = 0, given some fixed boundary conditions.\n",
      "We compare implementations in pure Python, numpy and using C/weave"
     ]
    },
    {
     "cell_type": "code",
     "collapsed": false,
     "input": [
      "dx = 0.1\n",
      "dy = 0.1\n",
      "dx2 = dx*dx\n",
      "dy2 = dy*dy\n",
      "\n",
      "def py_update(u):\n",
      "    nx, ny = u.shape\n",
      "    for i in xrange(1,nx-1):\n",
      "        for j in xrange(1, ny-1):\n",
      "            u[i,j] = ((u[i+1, j] + u[i-1, j]) * dy2 +\n",
      "                      (u[i, j+1] + u[i, j-1]) * dx2) / (2*(dx2+dy2))\n",
      "\n",
      "def numpy_update(u):\n",
      "    u[1:-1,1:-1] = ((u[2:,1:-1]+u[:-2,1:-1])*dy2 + \n",
      "                    (u[1:-1,2:] + u[1:-1,:-2])*dx2) / (2*(dx2+dy2))\n",
      "            \n",
      "\n",
      "def weave_update(u):\n",
      "    code = \"\"\"\n",
      "    int i, j;\n",
      "    for (i=1; i<Nu[0]-1; i++) {\n",
      "       for (j=1; j<Nu[1]-1; j++) {\n",
      "           U2(i,j) = ((U2(i+1, j) + U2(i-1, j))*dy2 + \\\n",
      "                       (U2(i, j+1) + U2(i, j-1))*dx2) / (2*(dx2+dy2));\n",
      "       }\n",
      "    }\n",
      "    \"\"\"\n",
      "    weave.inline(code, ['u', 'dx2', 'dy2'])\n",
      "    \n",
      "    \n",
      "def calc(N, Niter=10000, func=py_update, args=()):\n",
      "    u = zeros([N, N])\n",
      "    u[0] = 1\n",
      "    for i in range(Niter):\n",
      "        func(u,*args)\n",
      "    return u\n"
     ],
     "language": "python",
     "metadata": {},
     "outputs": [],
     "prompt_number": 202
    },
    {
     "cell_type": "code",
     "collapsed": false,
     "input": [
      "N = 15   # NxN grid  (above N=15 might take a long time to run)"
     ],
     "language": "python",
     "metadata": {},
     "outputs": [],
     "prompt_number": 223
    },
    {
     "cell_type": "code",
     "collapsed": false,
     "input": [
      "print 'Time for pure Python'\n",
      "u1 = calc(N, func=py_update)\n",
      "py_result = %timeit -o calc(N, func=py_update)"
     ],
     "language": "python",
     "metadata": {},
     "outputs": [
      {
       "output_type": "stream",
       "stream": "stdout",
       "text": [
        "Time for pure Python\n",
        "1 loops, best of 3: 30.1 s per loop"
       ]
      },
      {
       "output_type": "stream",
       "stream": "stdout",
       "text": [
        "\n"
       ]
      }
     ],
     "prompt_number": 224
    },
    {
     "cell_type": "code",
     "collapsed": false,
     "input": [
      "print 'Time for Numpy'\n",
      "u2 = calc(N, func=numpy_update)\n",
      "numpy_result = %timeit -o calc(N, func=numpy_update)"
     ],
     "language": "python",
     "metadata": {},
     "outputs": [
      {
       "output_type": "stream",
       "stream": "stdout",
       "text": [
        "Time for Numpy\n",
        "1 loops, best of 3: 625 ms per loop"
       ]
      },
      {
       "output_type": "stream",
       "stream": "stdout",
       "text": [
        "\n"
       ]
      }
     ],
     "prompt_number": 225
    },
    {
     "cell_type": "code",
     "collapsed": false,
     "input": [
      "print 'Time for weave'\n",
      "u3 = calc(N, func=weave_update)\n",
      "weave_result = %timeit -o calc(N, func=weave_update)"
     ],
     "language": "python",
     "metadata": {},
     "outputs": [
      {
       "output_type": "stream",
       "stream": "stdout",
       "text": [
        "Time for weave\n",
        "10 loops, best of 3: 200 ms per loop"
       ]
      },
      {
       "output_type": "stream",
       "stream": "stdout",
       "text": [
        "\n"
       ]
      }
     ],
     "prompt_number": 226
    },
    {
     "cell_type": "markdown",
     "metadata": {},
     "source": [
      "Note that the speedup going from pure Python to numpy is huge (~75x) but C/weave still provides a 2x speedup on top of that"
     ]
    },
    {
     "cell_type": "code",
     "collapsed": false,
     "input": [
      "print np.allclose(u1, u2), np.allclose(u1, u3)"
     ],
     "language": "python",
     "metadata": {},
     "outputs": [
      {
       "output_type": "stream",
       "stream": "stdout",
       "text": [
        "True True\n"
       ]
      }
     ],
     "prompt_number": 227
    },
    {
     "cell_type": "code",
     "collapsed": false,
     "input": [
      "speedups = py_result.best / numpy_result.best, numpy_result.best / weave_result.best\n",
      "print 'The speedup going from pure Python to numpy is %dx but C/weave still provides a %dx speedup on top of that' % speedups"
     ],
     "language": "python",
     "metadata": {},
     "outputs": [
      {
       "output_type": "stream",
       "stream": "stdout",
       "text": [
        "The speedup going from pure Python to numpy is 48x but C/weave still provides a 3x speedup on top of that\n"
       ]
      }
     ],
     "prompt_number": 228
    },
    {
     "cell_type": "code",
     "collapsed": false,
     "input": [
      "speedups"
     ],
     "language": "python",
     "metadata": {},
     "outputs": [
      {
       "metadata": {},
       "output_type": "pyout",
       "prompt_number": 229,
       "text": [
        "(48.110010514083335, 3.1173628746749444)"
       ]
      }
     ],
     "prompt_number": 229
    },
    {
     "cell_type": "code",
     "collapsed": false,
     "input": [],
     "language": "python",
     "metadata": {},
     "outputs": []
    }
   ],
   "metadata": {}
  }
 ]
}