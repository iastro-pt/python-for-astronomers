{
 "metadata": {
  "name": "",
  "signature": "sha256:4b07ae4a6a0aad84c69ec9fedb3d451f687f0783d0d8be8412d3c7a45b352a13"
 },
 "nbformat": 3,
 "nbformat_minor": 0,
 "worksheets": [
  {
   "cells": [
    {
     "cell_type": "heading",
     "level": 1,
     "metadata": {},
     "source": [
      "Scipy"
     ]
    },
    {
     "cell_type": "markdown",
     "metadata": {},
     "source": [
      "SciPy is a collection of mathematical algorithms and convenience functions built on the Numpy extension of Python. It adds significant power to the interactive Python session by providing the user with high-level commands and classes for manipulating and visualizing data. With SciPy an interactive Python session becomes a data-processing and system-prototyping environment rivaling sytems such as MATLAB, IDL, Octave, R-Lab, and SciLab."
     ]
    },
    {
     "cell_type": "code",
     "collapsed": false,
     "input": [
      "%pylab inline"
     ],
     "language": "python",
     "metadata": {},
     "outputs": [
      {
       "output_type": "stream",
       "stream": "stdout",
       "text": [
        "Populating the interactive namespace from numpy and matplotlib\n"
       ]
      },
      {
       "output_type": "stream",
       "stream": "stderr",
       "text": [
        "WARNING: pylab import has clobbered these variables: ['show_config', 'log2', 'arccos', 'arctanh', 'fft', 'arcsin', 'sqrt', '__version__', 'pylab', 'power', 'log', 'log10', 'linalg', 'test']\n",
        "`%matplotlib` prevents importing * from pylab and numpy\n"
       ]
      }
     ],
     "prompt_number": 26
    },
    {
     "cell_type": "code",
     "collapsed": false,
     "input": [
      "import numpy as np\n",
      "import scipy as sp\n",
      "import matplotlib as mpl\n",
      "import matplotlib.pyplot as plt"
     ],
     "language": "python",
     "metadata": {},
     "outputs": [],
     "prompt_number": 27
    },
    {
     "cell_type": "markdown",
     "metadata": {},
     "source": [
      "SciPy is organized into subpackages covering different scientific computing domains. These are summarized in the following table:\n",
      "\n",
      "* cluster - Clustering algorithms\n",
      "* constants - Physical and mathematical constants\n",
      "* fftpack - Fast Fourier Transform routines\n",
      "* integrate - Integration and ordinary differential equation solvers\n",
      "* interpolate - Interpolation and smoothing splines\n",
      "* io - Input and Output\n",
      "* linalg - Linear algebra\n",
      "* ndimage - N-dimensional image processing\n",
      "* odr - Orthogonal distance regression\n",
      "* optimize - Optimization and root-finding routines\n",
      "* signal - Signal processing\n",
      "* sparse - Sparse matrices and associated routines\n",
      "* spatial - Spatial data structures and algorithms\n",
      "* special - Special functions\n",
      "* stats - Statistical distributions and functions\n",
      "* weave - C/C++ integration"
     ]
    },
    {
     "cell_type": "markdown",
     "metadata": {},
     "source": [
      "Each of the Scipy sub-packages needs to be imported separately"
     ]
    },
    {
     "cell_type": "code",
     "collapsed": false,
     "input": [
      "from scipy import linalg\n",
      "from scipy import stats"
     ],
     "language": "python",
     "metadata": {},
     "outputs": [],
     "prompt_number": 28
    },
    {
     "cell_type": "code",
     "collapsed": false,
     "input": [
      "from scipy import misc  # miscelaneous simple functions"
     ],
     "language": "python",
     "metadata": {},
     "outputs": [],
     "prompt_number": 29
    },
    {
     "cell_type": "code",
     "collapsed": false,
     "input": [
      "misc.factorial(100)"
     ],
     "language": "python",
     "metadata": {},
     "outputs": [
      {
       "metadata": {},
       "output_type": "pyout",
       "prompt_number": 30,
       "text": [
        "array(9.332621544394415e+157)"
       ]
      }
     ],
     "prompt_number": 30
    },
    {
     "cell_type": "code",
     "collapsed": false,
     "input": [
      "misc.comb(10, 2)"
     ],
     "language": "python",
     "metadata": {},
     "outputs": [
      {
       "metadata": {},
       "output_type": "pyout",
       "prompt_number": 31,
       "text": [
        "45.0"
       ]
      }
     ],
     "prompt_number": 31
    },
    {
     "cell_type": "heading",
     "level": 2,
     "metadata": {},
     "source": [
      "Special functions (scipy.special)"
     ]
    },
    {
     "cell_type": "markdown",
     "metadata": {},
     "source": [
      "The main feature of the scipy.special package is the definition of numerous special functions of mathematical physics. Available functions include airy, elliptic, bessel, gamma, beta, hypergeometric, parabolic cylinder, mathieu, spheroidal wave, struve, and kelvin."
     ]
    },
    {
     "cell_type": "code",
     "collapsed": false,
     "input": [
      "from scipy import special"
     ],
     "language": "python",
     "metadata": {},
     "outputs": [],
     "prompt_number": 32
    },
    {
     "cell_type": "code",
     "collapsed": false,
     "input": [
      "dir(special)"
     ],
     "language": "python",
     "metadata": {},
     "outputs": [
      {
       "metadata": {},
       "output_type": "pyout",
       "prompt_number": 33,
       "text": [
        "['SpecialFunctionWarning',\n",
        " 'Tester',\n",
        " '__all__',\n",
        " '__builtins__',\n",
        " '__doc__',\n",
        " '__file__',\n",
        " '__name__',\n",
        " '__package__',\n",
        " '__path__',\n",
        " '_ufuncs',\n",
        " '_ufuncs_cxx',\n",
        " 'absolute_import',\n",
        " 'agm',\n",
        " 'ai_zeros',\n",
        " 'airy',\n",
        " 'airye',\n",
        " 'assoc_laguerre',\n",
        " 'basic',\n",
        " 'bdtr',\n",
        " 'bdtrc',\n",
        " 'bdtri',\n",
        " 'bdtrik',\n",
        " 'bdtrin',\n",
        " 'bei',\n",
        " 'bei_zeros',\n",
        " 'beip',\n",
        " 'beip_zeros',\n",
        " 'ber',\n",
        " 'ber_zeros',\n",
        " 'bernoulli',\n",
        " 'berp',\n",
        " 'berp_zeros',\n",
        " 'bessel_diff_formula',\n",
        " 'besselpoly',\n",
        " 'beta',\n",
        " 'betainc',\n",
        " 'betaincinv',\n",
        " 'betaln',\n",
        " 'bi_zeros',\n",
        " 'binom',\n",
        " 'boxcox',\n",
        " 'boxcox1p',\n",
        " 'btdtr',\n",
        " 'btdtri',\n",
        " 'btdtria',\n",
        " 'btdtrib',\n",
        " 'c_roots',\n",
        " 'cbrt',\n",
        " 'cg_roots',\n",
        " 'chdtr',\n",
        " 'chdtrc',\n",
        " 'chdtri',\n",
        " 'chdtriv',\n",
        " 'chebyc',\n",
        " 'chebys',\n",
        " 'chebyt',\n",
        " 'chebyu',\n",
        " 'chndtr',\n",
        " 'chndtridf',\n",
        " 'chndtrinc',\n",
        " 'chndtrix',\n",
        " 'clpmn',\n",
        " 'comb',\n",
        " 'cosdg',\n",
        " 'cosm1',\n",
        " 'cotdg',\n",
        " 'dawsn',\n",
        " 'digamma',\n",
        " 'diric',\n",
        " 'division',\n",
        " 'ellipe',\n",
        " 'ellipeinc',\n",
        " 'ellipj',\n",
        " 'ellipk',\n",
        " 'ellipkinc',\n",
        " 'ellipkm1',\n",
        " 'erf',\n",
        " 'erf_zeros',\n",
        " 'erfc',\n",
        " 'erfcinv',\n",
        " 'erfcx',\n",
        " 'erfi',\n",
        " 'erfinv',\n",
        " 'errprint',\n",
        " 'euler',\n",
        " 'eval_chebyc',\n",
        " 'eval_chebys',\n",
        " 'eval_chebyt',\n",
        " 'eval_chebyu',\n",
        " 'eval_gegenbauer',\n",
        " 'eval_genlaguerre',\n",
        " 'eval_hermite',\n",
        " 'eval_hermitenorm',\n",
        " 'eval_jacobi',\n",
        " 'eval_laguerre',\n",
        " 'eval_legendre',\n",
        " 'eval_sh_chebyt',\n",
        " 'eval_sh_chebyu',\n",
        " 'eval_sh_jacobi',\n",
        " 'eval_sh_legendre',\n",
        " 'exp1',\n",
        " 'exp10',\n",
        " 'exp2',\n",
        " 'expi',\n",
        " 'expit',\n",
        " 'expm1',\n",
        " 'expn',\n",
        " 'factorial',\n",
        " 'factorial2',\n",
        " 'factorialk',\n",
        " 'fdtr',\n",
        " 'fdtrc',\n",
        " 'fdtri',\n",
        " 'fdtridfd',\n",
        " 'fresnel',\n",
        " 'fresnel_zeros',\n",
        " 'fresnelc_zeros',\n",
        " 'fresnels_zeros',\n",
        " 'gamma',\n",
        " 'gammainc',\n",
        " 'gammaincc',\n",
        " 'gammainccinv',\n",
        " 'gammaincinv',\n",
        " 'gammaln',\n",
        " 'gammasgn',\n",
        " 'gdtr',\n",
        " 'gdtrc',\n",
        " 'gdtria',\n",
        " 'gdtrib',\n",
        " 'gdtrix',\n",
        " 'gegenbauer',\n",
        " 'genlaguerre',\n",
        " 'h1vp',\n",
        " 'h2vp',\n",
        " 'h_roots',\n",
        " 'hankel1',\n",
        " 'hankel1e',\n",
        " 'hankel2',\n",
        " 'hankel2e',\n",
        " 'he_roots',\n",
        " 'hermite',\n",
        " 'hermitenorm',\n",
        " 'hyp0f1',\n",
        " 'hyp1f1',\n",
        " 'hyp1f2',\n",
        " 'hyp2f0',\n",
        " 'hyp2f1',\n",
        " 'hyp3f0',\n",
        " 'hyperu',\n",
        " 'i0',\n",
        " 'i0e',\n",
        " 'i1',\n",
        " 'i1e',\n",
        " 'it2i0k0',\n",
        " 'it2j0y0',\n",
        " 'it2struve0',\n",
        " 'itairy',\n",
        " 'iti0k0',\n",
        " 'itj0y0',\n",
        " 'itmodstruve0',\n",
        " 'itstruve0',\n",
        " 'iv',\n",
        " 'ive',\n",
        " 'ivp',\n",
        " 'j0',\n",
        " 'j1',\n",
        " 'j_roots',\n",
        " 'jacobi',\n",
        " 'jn',\n",
        " 'jn_zeros',\n",
        " 'jnjnp_zeros',\n",
        " 'jnp_zeros',\n",
        " 'jnyn_zeros',\n",
        " 'js_roots',\n",
        " 'jv',\n",
        " 'jve',\n",
        " 'jvp',\n",
        " 'k0',\n",
        " 'k0e',\n",
        " 'k1',\n",
        " 'k1e',\n",
        " 'kei',\n",
        " 'kei_zeros',\n",
        " 'keip',\n",
        " 'keip_zeros',\n",
        " 'kelvin',\n",
        " 'kelvin_zeros',\n",
        " 'ker',\n",
        " 'ker_zeros',\n",
        " 'kerp',\n",
        " 'kerp_zeros',\n",
        " 'kn',\n",
        " 'kolmogi',\n",
        " 'kolmogorov',\n",
        " 'kv',\n",
        " 'kve',\n",
        " 'kvp',\n",
        " 'l_roots',\n",
        " 'la_roots',\n",
        " 'laguerre',\n",
        " 'lambertw',\n",
        " 'legendre',\n",
        " 'lmbda',\n",
        " 'log1p',\n",
        " 'log_ndtr',\n",
        " 'logit',\n",
        " 'lpmn',\n",
        " 'lpmv',\n",
        " 'lpn',\n",
        " 'lqmn',\n",
        " 'lqn',\n",
        " 'mathieu_a',\n",
        " 'mathieu_b',\n",
        " 'mathieu_cem',\n",
        " 'mathieu_even_coef',\n",
        " 'mathieu_modcem1',\n",
        " 'mathieu_modcem2',\n",
        " 'mathieu_modsem1',\n",
        " 'mathieu_modsem2',\n",
        " 'mathieu_odd_coef',\n",
        " 'mathieu_sem',\n",
        " 'modfresnelm',\n",
        " 'modfresnelp',\n",
        " 'modstruve',\n",
        " 'multigammaln',\n",
        " 'nbdtr',\n",
        " 'nbdtrc',\n",
        " 'nbdtri',\n",
        " 'nbdtrik',\n",
        " 'nbdtrin',\n",
        " 'ncfdtr',\n",
        " 'ncfdtri',\n",
        " 'ncfdtridfd',\n",
        " 'ncfdtridfn',\n",
        " 'ncfdtrinc',\n",
        " 'nctdtr',\n",
        " 'nctdtridf',\n",
        " 'nctdtrinc',\n",
        " 'nctdtrit',\n",
        " 'ndtr',\n",
        " 'ndtri',\n",
        " 'nrdtrimn',\n",
        " 'nrdtrisd',\n",
        " 'obl_ang1',\n",
        " 'obl_ang1_cv',\n",
        " 'obl_cv',\n",
        " 'obl_cv_seq',\n",
        " 'obl_rad1',\n",
        " 'obl_rad1_cv',\n",
        " 'obl_rad2',\n",
        " 'obl_rad2_cv',\n",
        " 'orthogonal',\n",
        " 'p_roots',\n",
        " 'pbdn_seq',\n",
        " 'pbdv',\n",
        " 'pbdv_seq',\n",
        " 'pbvv',\n",
        " 'pbvv_seq',\n",
        " 'pbwa',\n",
        " 'pdtr',\n",
        " 'pdtrc',\n",
        " 'pdtri',\n",
        " 'pdtrik',\n",
        " 'perm',\n",
        " 'poch',\n",
        " 'polygamma',\n",
        " 'print_function',\n",
        " 'pro_ang1',\n",
        " 'pro_ang1_cv',\n",
        " 'pro_cv',\n",
        " 'pro_cv_seq',\n",
        " 'pro_rad1',\n",
        " 'pro_rad1_cv',\n",
        " 'pro_rad2',\n",
        " 'pro_rad2_cv',\n",
        " 'ps_roots',\n",
        " 'psi',\n",
        " 'radian',\n",
        " 'rgamma',\n",
        " 'riccati_jn',\n",
        " 'riccati_yn',\n",
        " 'round',\n",
        " 's',\n",
        " 's_roots',\n",
        " 'sh_chebyt',\n",
        " 'sh_chebyu',\n",
        " 'sh_jacobi',\n",
        " 'sh_legendre',\n",
        " 'shichi',\n",
        " 'sici',\n",
        " 'sinc',\n",
        " 'sindg',\n",
        " 'smirnov',\n",
        " 'smirnovi',\n",
        " 'specfun',\n",
        " 'spence',\n",
        " 'spfun_stats',\n",
        " 'sph_harm',\n",
        " 'sph_in',\n",
        " 'sph_inkn',\n",
        " 'sph_jn',\n",
        " 'sph_jnyn',\n",
        " 'sph_kn',\n",
        " 'sph_yn',\n",
        " 'stdtr',\n",
        " 'stdtridf',\n",
        " 'stdtrit',\n",
        " 'struve',\n",
        " 't_roots',\n",
        " 'tandg',\n",
        " 'test',\n",
        " 'tklmbda',\n",
        " 'ts_roots',\n",
        " 'u_roots',\n",
        " 'us_roots',\n",
        " 'wofz',\n",
        " 'xlog1py',\n",
        " 'xlogy',\n",
        " 'y0',\n",
        " 'y0_zeros',\n",
        " 'y1',\n",
        " 'y1_zeros',\n",
        " 'y1p_zeros',\n",
        " 'yn',\n",
        " 'yn_zeros',\n",
        " 'ynp_zeros',\n",
        " 'yv',\n",
        " 'yve',\n",
        " 'yvp',\n",
        " 'zeta',\n",
        " 'zetac']"
       ]
      }
     ],
     "prompt_number": 33
    },
    {
     "cell_type": "markdown",
     "metadata": {},
     "source": [
      "Example of Bessel functions: vibrational modes of a thin circular drum head anchored at the edge"
     ]
    },
    {
     "cell_type": "code",
     "collapsed": false,
     "input": [
      "from scipy import *\n",
      "from scipy.special import jn, jn_zeros\n",
      "from mpl_toolkits.mplot3d import Axes3D\n",
      "from matplotlib import cm\n",
      "\n",
      "def drumhead_height(n, k, distance, angle, t):\n",
      "   nth_zero = jn_zeros(n, k)\n",
      "   return cos(t)*cos(n*angle)*jn(n, distance*nth_zero)\n",
      "theta = r_[0:2*pi:50j]\n",
      "radius = r_[0:1:50j]\n",
      "x = array([r*cos(theta) for r in radius])\n",
      "y = array([r*sin(theta) for r in radius])\n",
      "z = array([drumhead_height(1, 1, r, theta, 0.5) for r in radius])\n",
      "\n",
      "fig = plt.figure()\n",
      "ax = Axes3D(fig)\n",
      "ax.plot_surface(x, y, z, rstride=1, cstride=1, cmap=cm.jet)\n",
      "ax.set_xlabel('X')\n",
      "ax.set_ylabel('Y')\n",
      "ax.set_zlabel('Z')\n",
      "plt.show()"
     ],
     "language": "python",
     "metadata": {},
     "outputs": [
      {
       "metadata": {},
       "output_type": "display_data",
       "png": "[encoded data removed]",
       "text": [
        "<matplotlib.figure.Figure at 0x7f4db4e2cc90>"
       ]
      }
     ],
     "prompt_number": 34
    },
    {
     "cell_type": "heading",
     "level": 2,
     "metadata": {},
     "source": [
      "Integration (scipy.integrate)"
     ]
    },
    {
     "cell_type": "code",
     "collapsed": false,
     "input": [
      "from scipy.integrate import quad"
     ],
     "language": "python",
     "metadata": {},
     "outputs": [],
     "prompt_number": 38
    },
    {
     "cell_type": "code",
     "collapsed": false,
     "input": [
      "quad?"
     ],
     "language": "python",
     "metadata": {},
     "outputs": [],
     "prompt_number": 39
    },
    {
     "cell_type": "code",
     "collapsed": false,
     "input": [
      "def integrand(t, n, x):\n",
      "    return exp(-x*t) / t**n\n",
      "\n",
      "def expint(n, x):\n",
      "    return quad(integrand, 1, Inf, args=(n, x))[0]"
     ],
     "language": "python",
     "metadata": {},
     "outputs": [],
     "prompt_number": 40
    },
    {
     "cell_type": "heading",
     "level": 2,
     "metadata": {},
     "source": [
      "Optimization (scipy.optimize)"
     ]
    },
    {
     "cell_type": "heading",
     "level": 2,
     "metadata": {},
     "source": [
      "Interpolation (scipy.interpolate)"
     ]
    },
    {
     "cell_type": "heading",
     "level": 2,
     "metadata": {},
     "source": [
      "Fourier Transforms (scipy.fftpack)"
     ]
    },
    {
     "cell_type": "heading",
     "level": 2,
     "metadata": {},
     "source": [
      "Signal Processing (scipy.signal)"
     ]
    },
    {
     "cell_type": "heading",
     "level": 2,
     "metadata": {},
     "source": [
      "Linear Algebra (scipy.linalg)"
     ]
    },
    {
     "cell_type": "heading",
     "level": 2,
     "metadata": {},
     "source": [
      "Spatial data structures and algorithms (scipy.spatial)"
     ]
    },
    {
     "cell_type": "heading",
     "level": 2,
     "metadata": {},
     "source": [
      "Statistics (scipy.stats)"
     ]
    },
    {
     "cell_type": "heading",
     "level": 2,
     "metadata": {},
     "source": [
      "Multidimensional image processing (scipy.ndimage)"
     ]
    },
    {
     "cell_type": "heading",
     "level": 2,
     "metadata": {},
     "source": [
      "File IO (scipy.io)"
     ]
    },
    {
     "cell_type": "heading",
     "level": 2,
     "metadata": {},
     "source": [
      "Weave (scipy.weave)"
     ]
    },
    {
     "cell_type": "code",
     "collapsed": false,
     "input": [],
     "language": "python",
     "metadata": {},
     "outputs": []
    }
   ],
   "metadata": {}
  }
 ]
}