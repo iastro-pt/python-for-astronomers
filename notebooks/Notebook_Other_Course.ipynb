{
 "metadata": {
  "name": "Notebook.ipynb"
 },
 "nbformat": 3,
 "nbformat_minor": 0,
 "worksheets": [
  {
   "cells": [
    {
     "cell_type": "markdown",
     "metadata": {},
     "source": [
      "# A Crash Course in Python for Scientists\n",
      "[Rick Muller](http://www.cs.sandia.gov/~rmuller/), Sandia National Laboratories\n",
      "\n",
      "version 0.5, Released 7/3/2013, Alpha\n",
      "\n",
      "Modified by Douglas Applegate, Argelander Institute for Astronomy, University of Bonn, January 2014\n",
      "\n",
      "Further Modified by Carolin Villforth, University of St Andrews, October 2014\n",
      "\n",
      "This work is licensed under a [Creative Commons Attribution-ShareAlike 3.0 Unported License](http://creativecommons.org/licenses/by-sa/3.0/deed.en_US)."
     ]
    },
    {
     "cell_type": "markdown",
     "metadata": {},
     "source": [
      "## Why Python?\n",
      "Python is the programming language of choice for many scientists to a large degree because it offers a great deal of power to analyze and model scientific data with relatively little overhead in terms of learning, installation or development time. It is a language you can pick up in a weekend, and use for the rest of one's life.\n",
      "\n",
      "Benefits:\n",
      "\n",
      "* It's free\n",
      "* It's everywhere\n",
      "* Flexible like a scripting language (bash, perl), but can be nearly as fast as C\n",
      "* No compiling\n",
      "* Automatic memory management (Nearly forget about Segfaults!)\n",
      "* Plenty of scientific libraries\n",
      "* Can call C code (with not too much work)."
     ]
    },
    {
     "cell_type": "markdown",
     "metadata": {},
     "source": [
      "#0. Useful References\n",
      "\n",
      "### Python Language\n",
      "\n",
      "* [Python Tutorial](http://docs.python.org/2/tutorial/) First stop reference for basic tasks (looping, string formating, classes, functions, etc)\n",
      "* [Python Standard Library](http://docs.python.org/2/library/) The definitive reference for everything Python can do out of the box. Many common and not so common tasks are already taken care of. \n",
      "* [Python for Matlab Users](http://mathesaurus.sourceforge.net/matlab-numpy.html)\n",
      "* [Python for IDL Users](http://mathesaurus.sourceforge.net/idl-numpy.html)\n",
      "\n",
      "### Numpy\n",
      "\n",
      "The Numpy library is the math workhorse of Python. Everything is vectorized, so `a*b+c**d` makes sense if a is a number or an n-dimensional array.\n",
      "\n",
      "* [Numpy Example List](http://wiki.scipy.org/Numpy_Example_List_With_Doc) Examples using every Numpy function. Keep close at hand!\n",
      "* [Numpy for Matlab Users](http://wiki.scipy.org/NumPy_for_Matlab_Users) Know Matlab? Then use this translation guide.\n",
      "* [Numpy Reference](http://docs.scipy.org/doc/numpy/reference/) Main documentation\n",
      "\n",
      "### Scipy\n",
      "\n",
      "Scipy gathers many useful odds and ends into one place, such as minimizers, statistical functions, fourier transforms, interpolation, etc.\n",
      "\n",
      "* [Scipy Documentation](http://docs.scipy.org/doc/scipy/reference/)\n",
      "\n",
      "### Plotting with Matplotlib\n",
      "\n",
      "Matplotlib provides Matlab-style plotting for Python. \n",
      "\n",
      "* [Pylab Commands](http://matplotlib.org/api/pyplot_summary.html) Documentation and examples for plotting. Keep close at hand!\n",
      "\n",
      "### Other Useful Documentation\n",
      "\n",
      "* [Astropy](http://docs.astropy.org/en/stable/) Useful tools from the Astronomy Community (FITS files, catalogs, cosmology, VO, etc)\n",
      "* [IPython Notebook](http://ipython.org/ipython-doc/stable/interactive/notebook.html) Documentation for the Notebook interface you are viewing now.\n",
      "* [PyMC](http://pymc-devs.github.io/pymc/) Bayesian Modelling Software and MCMC Sampler\n",
      "\n",
      "### Additional Tutorials and References\n",
      "\n",
      "* [Learning Python the Hard Way](http://learnpythonthehardway.org/book/) Excellent set of basic Python tutorials\n",
      "* [Scientific Python Tutorials](http://jrjohansson.github.io/scientific-python-lectures)\n",
      "* [A collection of Notebooks for using IPython effectively](https://github.com/ipython/ipython/tree/master/examples/notebooks#a-collection-of-notebooks-for-using-ipython-effectively)\n",
      "* [A gallery of interesting IPython Notebooks](https://github.com/ipython/ipython/wiki/A-gallery-of-interesting-IPython-Notebooks)\n"
     ]
    },
    {
     "cell_type": "markdown",
     "metadata": {},
     "source": [
      "# I. Python Overview\n",
      "\n",
      "This section covers some basics. You should feel free to evaluate and alter any of the calculations, otherwise you can just skim through this section. None of this should be particularly confusing if you've programmed before.\n",
      "\n",
      "The lessons that follow make use of the IPython notebooks. There's a good introduction to notebooks [in the IPython notebook documentation](http://ipython.org/notebook.html) that even has a [nice video](http://www.youtube.com/watch?v=H6dLGQw9yFQ#!) on how to use the notebooks. You should probably also flip through the [IPython tutorial](http://ipython.org/ipython-doc/dev/interactive/tutorial.html) in your copious free time.\n",
      "\n",
      "## How to use a Notebook (the thing you are looking at now)\n",
      "\n",
      "Briefly, notebooks have code cells (that are generally followed by result cells) and text cells. The text cells are the stuff that you're reading now. The code cells start with \"In []:\" with some number generally in the brackets. If you put your cursor in the code cell and hit Shift-Enter, the code will run in the Python interpreter and the result will print out in the output cell. You can then change things around and see whether you understand what's going on. If you need to know more, see the [IPython notebook documentation](http://ipython.org/notebook.html) or the [IPython tutorial](http://ipython.org/ipython-doc/dev/interactive/tutorial.html).\n",
      "\n",
      "Useful keyboard shortcuts:\n",
      "\n",
      "* `Shift-Enter` : Execute code cell and move to the next cell.\n",
      "* `Ctrl-Enter`  : Execute code cell, but stay in current cell.\n",
      "* `Ctrl-m h` (Ctrl and m at the same time, then h)   : Show list of other keyboard shortcuts."
     ]
    },
    {
     "cell_type": "markdown",
     "metadata": {},
     "source": [
      "## Using Python as a Calculator"
     ]
    },
    {
     "cell_type": "markdown",
     "metadata": {},
     "source": [
      "Many of the things I used to use a calculator for, I now use Python for:"
     ]
    },
    {
     "cell_type": "code",
     "collapsed": false,
     "input": [
      "2+2"
     ],
     "language": "python",
     "metadata": {},
     "outputs": [
      {
       "output_type": "pyout",
       "prompt_number": 31,
       "text": [
        "4"
       ]
      }
     ],
     "prompt_number": 31
    },
    {
     "cell_type": "code",
     "collapsed": false,
     "input": [
      "(50-5*6)/4"
     ],
     "language": "python",
     "metadata": {},
     "outputs": [
      {
       "output_type": "pyout",
       "prompt_number": 32,
       "text": [
        "5"
       ]
      }
     ],
     "prompt_number": 32
    },
    {
     "cell_type": "markdown",
     "metadata": {},
     "source": [
      "(If you're typing this into an IPython notebook, or otherwise using a notebook file, you hit shift-Enter to evaluate a cell.)"
     ]
    },
    {
     "cell_type": "markdown",
     "metadata": {},
     "source": [
      "There are some gotchas compared to using a normal calculator."
     ]
    },
    {
     "cell_type": "code",
     "collapsed": false,
     "input": [
      "7/3"
     ],
     "language": "python",
     "metadata": {},
     "outputs": [
      {
       "output_type": "pyout",
       "prompt_number": 33,
       "text": [
        "2"
       ]
      }
     ],
     "prompt_number": 33
    },
    {
     "cell_type": "markdown",
     "metadata": {},
     "source": [
      "But if one of the numers is a float, then divison works fine."
     ]
    },
    {
     "cell_type": "code",
     "collapsed": false,
     "input": [
      "7/float(3)"
     ],
     "language": "python",
     "metadata": {},
     "outputs": [
      {
       "output_type": "pyout",
       "prompt_number": 34,
       "text": [
        "2.3333333333333335"
       ]
      }
     ],
     "prompt_number": 34
    },
    {
     "cell_type": "code",
     "collapsed": false,
     "input": [
      "7./3   #Notince the dot after the 7. That makes 7 a float."
     ],
     "language": "python",
     "metadata": {},
     "outputs": [
      {
       "output_type": "pyout",
       "prompt_number": 35,
       "text": [
        "2.3333333333333335"
       ]
      }
     ],
     "prompt_number": 35
    },
    {
     "cell_type": "markdown",
     "metadata": {},
     "source": [
      "In the last few lines, we have sped by a lot of things that we should stop for a moment and explore a little more fully. We've seen, however briefly, two different data types: **integers**, also known as *whole numbers* to the non-programming world, and **floating point numbers**, also known (incorrectly) as *decimal numbers* to the rest of the world.\n",
      "\n",
      "We've also seen the first instance of an **import** statement. Python has a huge number of libraries included with the distribution. To keep things simple, most of these variables and functions are not accessible from a normal Python interactive session. Instead, you have to import the name. For example, there is a **math** module containing many useful functions. To access, say, the square root function, you can either first\n",
      "\n",
      "    from math import sqrt\n",
      "\n",
      "and then"
     ]
    },
    {
     "cell_type": "code",
     "collapsed": false,
     "input": [
      "sqrt(81)"
     ],
     "language": "python",
     "metadata": {},
     "outputs": [
      {
       "output_type": "pyout",
       "prompt_number": 36,
       "text": [
        "9.0"
       ]
      }
     ],
     "prompt_number": 36
    },
    {
     "cell_type": "markdown",
     "metadata": {},
     "source": [
      "or you can simply import the math library itself"
     ]
    },
    {
     "cell_type": "code",
     "collapsed": false,
     "input": [
      "import math\n",
      "math.sqrt(81)"
     ],
     "language": "python",
     "metadata": {},
     "outputs": [
      {
       "output_type": "pyout",
       "prompt_number": 37,
       "text": [
        "9.0"
       ]
      }
     ],
     "prompt_number": 37
    },
    {
     "cell_type": "markdown",
     "metadata": {},
     "source": [
      "You can define variables using the equals (=) sign:"
     ]
    },
    {
     "cell_type": "code",
     "collapsed": false,
     "input": [
      "width = 20\n",
      "length = 30\n",
      "area = length*width\n",
      "area"
     ],
     "language": "python",
     "metadata": {},
     "outputs": [
      {
       "output_type": "pyout",
       "prompt_number": 38,
       "text": [
        "600"
       ]
      }
     ],
     "prompt_number": 38
    },
    {
     "cell_type": "markdown",
     "metadata": {},
     "source": [
      "If you try to access a variable that you haven't yet defined, you get an error:"
     ]
    },
    {
     "cell_type": "code",
     "collapsed": false,
     "input": [
      "volume"
     ],
     "language": "python",
     "metadata": {},
     "outputs": [
      {
       "ename": "NameError",
       "evalue": "name 'volume' is not defined",
       "output_type": "pyerr",
       "traceback": [
        "\u001b[0;31m---------------------------------------------------------------------------\u001b[0m\n\u001b[0;31mNameError\u001b[0m                                 Traceback (most recent call last)",
        "\u001b[0;32m<ipython-input-39-0c7fc58f9268>\u001b[0m in \u001b[0;36m<module>\u001b[0;34m()\u001b[0m\n\u001b[0;32m----> 1\u001b[0;31m \u001b[0mvolume\u001b[0m\u001b[0;34m\u001b[0m\u001b[0m\n\u001b[0m",
        "\u001b[0;31mNameError\u001b[0m: name 'volume' is not defined"
       ]
      }
     ],
     "prompt_number": 39
    },
    {
     "cell_type": "markdown",
     "metadata": {},
     "source": [
      "and you need to define it:"
     ]
    },
    {
     "cell_type": "code",
     "collapsed": false,
     "input": [
      "depth = 10\n",
      "volume = area*depth\n",
      "volume"
     ],
     "language": "python",
     "metadata": {},
     "outputs": [
      {
       "output_type": "pyout",
       "prompt_number": 40,
       "text": [
        "6000"
       ]
      }
     ],
     "prompt_number": 40
    },
    {
     "cell_type": "markdown",
     "metadata": {},
     "source": [
      "You can name a variable *almost* anything you want. It needs to start with an alphabetical character or \"\\_\", can contain alphanumeric charcters plus underscores (\"\\_\"). Certain words, however, are reserved for the language:\n",
      "\n",
      "    and, as, assert, break, class, continue, def, del, elif, else, except, \n",
      "    exec, finally, for, from, global, if, import, in, is, lambda, not, or,\n",
      "    pass, print, raise, return, try, while, with, yield\n",
      "\n",
      "Trying to define a variable using one of these will result in a syntax error:"
     ]
    },
    {
     "cell_type": "code",
     "collapsed": false,
     "input": [
      "return = 0"
     ],
     "language": "python",
     "metadata": {},
     "outputs": [
      {
       "ename": "SyntaxError",
       "evalue": "invalid syntax (<ipython-input-41-2b99136d4ec6>, line 1)",
       "output_type": "pyerr",
       "traceback": [
        "\u001b[0;36m  File \u001b[0;32m\"<ipython-input-41-2b99136d4ec6>\"\u001b[0;36m, line \u001b[0;32m1\u001b[0m\n\u001b[0;31m    return = 0\u001b[0m\n\u001b[0m           ^\u001b[0m\n\u001b[0;31mSyntaxError\u001b[0m\u001b[0;31m:\u001b[0m invalid syntax\n"
       ]
      }
     ],
     "prompt_number": 41
    },
    {
     "cell_type": "markdown",
     "metadata": {},
     "source": [
      "## Strings\n",
      "Strings are lists of printable characters, and can be defined using either single quotes"
     ]
    },
    {
     "cell_type": "code",
     "collapsed": false,
     "input": [
      "'Hello, World!'"
     ],
     "language": "python",
     "metadata": {},
     "outputs": [
      {
       "output_type": "pyout",
       "prompt_number": 42,
       "text": [
        "'Hello, World!'"
       ]
      }
     ],
     "prompt_number": 42
    },
    {
     "cell_type": "markdown",
     "metadata": {},
     "source": [
      "or double quotes"
     ]
    },
    {
     "cell_type": "code",
     "collapsed": false,
     "input": [
      "\"Hello, World!\""
     ],
     "language": "python",
     "metadata": {},
     "outputs": [
      {
       "output_type": "pyout",
       "prompt_number": 43,
       "text": [
        "'Hello, World!'"
       ]
      }
     ],
     "prompt_number": 43
    },
    {
     "cell_type": "markdown",
     "metadata": {},
     "source": [
      "But not both at the same time, unless you want one of the symbols to be part of the string."
     ]
    },
    {
     "cell_type": "code",
     "collapsed": false,
     "input": [
      "\"He's a Rebel\""
     ],
     "language": "python",
     "metadata": {},
     "outputs": [
      {
       "output_type": "pyout",
       "prompt_number": 44,
       "text": [
        "\"He's a Rebel\""
       ]
      }
     ],
     "prompt_number": 44
    },
    {
     "cell_type": "code",
     "collapsed": false,
     "input": [
      "'She asked, \"How are you today?\"'"
     ],
     "language": "python",
     "metadata": {},
     "outputs": [
      {
       "output_type": "pyout",
       "prompt_number": 45,
       "text": [
        "'She asked, \"How are you today?\"'"
       ]
      }
     ],
     "prompt_number": 45
    },
    {
     "cell_type": "markdown",
     "metadata": {},
     "source": [
      "Just like the other two data objects we're familiar with (ints and floats), you can assign a string to a variable"
     ]
    },
    {
     "cell_type": "code",
     "collapsed": false,
     "input": [
      "greeting = \"Hello, World!\""
     ],
     "language": "python",
     "metadata": {},
     "outputs": [],
     "prompt_number": 46
    },
    {
     "cell_type": "markdown",
     "metadata": {},
     "source": [
      "The **print** statement is often used for printing character strings:"
     ]
    },
    {
     "cell_type": "code",
     "collapsed": false,
     "input": [
      "print greeting"
     ],
     "language": "python",
     "metadata": {},
     "outputs": [
      {
       "output_type": "stream",
       "stream": "stdout",
       "text": [
        "Hello, World!\n"
       ]
      }
     ],
     "prompt_number": 47
    },
    {
     "cell_type": "markdown",
     "metadata": {},
     "source": [
      "But it can also print data types other than strings:"
     ]
    },
    {
     "cell_type": "code",
     "collapsed": false,
     "input": [
      "print \"The area is \",area"
     ],
     "language": "python",
     "metadata": {},
     "outputs": [
      {
       "output_type": "stream",
       "stream": "stdout",
       "text": [
        "The area is  600\n"
       ]
      }
     ],
     "prompt_number": 48
    },
    {
     "cell_type": "markdown",
     "metadata": {},
     "source": [
      "In the above snipped, the number 600 (stored in the variable \"area\") is converted into a string before being printed out."
     ]
    },
    {
     "cell_type": "markdown",
     "metadata": {},
     "source": [
      "You can use the + operator to concatenate strings together:"
     ]
    },
    {
     "cell_type": "code",
     "collapsed": false,
     "input": [
      "print \"This \" + \"is \" + \"a \" + \"concatenated \" + \"statement. That is \" + str(7) + \"x too long.\""
     ],
     "language": "python",
     "metadata": {},
     "outputs": [
      {
       "output_type": "stream",
       "stream": "stdout",
       "text": [
        "This is a concatenated statement. That is 7x too long.\n"
       ]
      }
     ],
     "prompt_number": 49
    },
    {
     "cell_type": "markdown",
     "metadata": {},
     "source": [
      "If you have a lot of words to concatenate together, there are other, more efficient ways to do this. But this is fine for linking a few strings together. Notice how we had to tell python to treat 7 as a string."
     ]
    },
    {
     "cell_type": "markdown",
     "metadata": {},
     "source": [
      "## Getting Help\n",
      "\n",
      "Don't know what an object or function does? There are two quick ways to get help about something."
     ]
    },
    {
     "cell_type": "code",
     "collapsed": false,
     "input": [
      "alist = [1,4,'a',[]]\n",
      "help(alist)"
     ],
     "language": "python",
     "metadata": {},
     "outputs": [
      {
       "output_type": "stream",
       "stream": "stdout",
       "text": [
        "Help on list object:\n",
        "\n",
        "class list(object)\n",
        " |  list() -> new empty list\n",
        " |  list(iterable) -> new list initialized from iterable's items\n",
        " |  \n",
        " |  Methods defined here:\n",
        " |  \n",
        " |  __add__(...)\n",
        " |      x.__add__(y) <==> x+y\n",
        " |  \n",
        " |  __contains__(...)\n",
        " |      x.__contains__(y) <==> y in x\n",
        " |  \n",
        " |  __delitem__(...)\n",
        " |      x.__delitem__(y) <==> del x[y]\n",
        " |  \n",
        " |  __delslice__(...)\n",
        " |      x.__delslice__(i, j) <==> del x[i:j]\n",
        " |      \n",
        " |      Use of negative indices is not supported.\n",
        " |  \n",
        " |  __eq__(...)\n",
        " |      x.__eq__(y) <==> x==y\n",
        " |  \n",
        " |  __ge__(...)\n",
        " |      x.__ge__(y) <==> x>=y\n",
        " |  \n",
        " |  __getattribute__(...)\n",
        " |      x.__getattribute__('name') <==> x.name\n",
        " |  \n",
        " |  __getitem__(...)\n",
        " |      x.__getitem__(y) <==> x[y]\n",
        " |  \n",
        " |  __getslice__(...)\n",
        " |      x.__getslice__(i, j) <==> x[i:j]\n",
        " |      \n",
        " |      Use of negative indices is not supported.\n",
        " |  \n",
        " |  __gt__(...)\n",
        " |      x.__gt__(y) <==> x>y\n",
        " |  \n",
        " |  __iadd__(...)\n",
        " |      x.__iadd__(y) <==> x+=y\n",
        " |  \n",
        " |  __imul__(...)\n",
        " |      x.__imul__(y) <==> x*=y\n",
        " |  \n",
        " |  __init__(...)\n",
        " |      x.__init__(...) initializes x; see help(type(x)) for signature\n",
        " |  \n",
        " |  __iter__(...)\n",
        " |      x.__iter__() <==> iter(x)\n",
        " |  \n",
        " |  __le__(...)\n",
        " |      x.__le__(y) <==> x<=y\n",
        " |  \n",
        " |  __len__(...)\n",
        " |      x.__len__() <==> len(x)\n",
        " |  \n",
        " |  __lt__(...)\n",
        " |      x.__lt__(y) <==> x<y\n",
        " |  \n",
        " |  __mul__(...)\n",
        " |      x.__mul__(n) <==> x*n\n",
        " |  \n",
        " |  __ne__(...)\n",
        " |      x.__ne__(y) <==> x!=y\n",
        " |  \n",
        " |  __repr__(...)\n",
        " |      x.__repr__() <==> repr(x)\n",
        " |  \n",
        " |  __reversed__(...)\n",
        " |      L.__reversed__() -- return a reverse iterator over the list\n",
        " |  \n",
        " |  __rmul__(...)\n",
        " |      x.__rmul__(n) <==> n*x\n",
        " |  \n",
        " |  __setitem__(...)\n",
        " |      x.__setitem__(i, y) <==> x[i]=y\n",
        " |  \n",
        " |  __setslice__(...)\n",
        " |      x.__setslice__(i, j, y) <==> x[i:j]=y\n",
        " |      \n",
        " |      Use  of negative indices is not supported.\n",
        " |  \n",
        " |  __sizeof__(...)\n",
        " |      L.__sizeof__() -- size of L in memory, in bytes\n",
        " |  \n",
        " |  append(...)\n",
        " |      L.append(object) -- append object to end\n",
        " |  \n",
        " |  count(...)\n",
        " |      L.count(value) -> integer -- return number of occurrences of value\n",
        " |  \n",
        " |  extend(...)\n",
        " |      L.extend(iterable) -- extend list by appending elements from the iterable\n",
        " |  \n",
        " |  index(...)\n",
        " |      L.index(value, [start, [stop]]) -> integer -- return first index of value.\n",
        " |      Raises ValueError if the value is not present.\n",
        " |  \n",
        " |  insert(...)\n",
        " |      L.insert(index, object) -- insert object before index\n",
        " |  \n",
        " |  pop(...)\n",
        " |      L.pop([index]) -> item -- remove and return item at index (default last).\n",
        " |      Raises IndexError if list is empty or index is out of range.\n",
        " |  \n",
        " |  remove(...)\n",
        " |      L.remove(value) -- remove first occurrence of value.\n",
        " |      Raises ValueError if the value is not present.\n",
        " |  \n",
        " |  reverse(...)\n",
        " |      L.reverse() -- reverse *IN PLACE*\n",
        " |  \n",
        " |  sort(...)\n",
        " |      L.sort(cmp=None, key=None, reverse=False) -- stable sort *IN PLACE*;\n",
        " |      cmp(x, y) -> -1, 0, 1\n",
        " |  \n",
        " |  ----------------------------------------------------------------------\n",
        " |  Data and other attributes defined here:\n",
        " |  \n",
        " |  __hash__ = None\n",
        " |  \n",
        " |  __new__ = <built-in method __new__ of type object>\n",
        " |      T.__new__(S, ...) -> a new object with type S, a subtype of T\n",
        "\n"
       ]
      }
     ],
     "prompt_number": 50
    },
    {
     "cell_type": "code",
     "collapsed": false,
     "input": [
      "help(len)"
     ],
     "language": "python",
     "metadata": {},
     "outputs": [
      {
       "output_type": "stream",
       "stream": "stdout",
       "text": [
        "Help on built-in function len in module __builtin__:\n",
        "\n",
        "len(...)\n",
        "    len(object) -> integer\n",
        "    \n",
        "    Return the number of items of a sequence or mapping.\n",
        "\n"
       ]
      }
     ],
     "prompt_number": 51
    },
    {
     "cell_type": "markdown",
     "metadata": {},
     "source": [
      "Perhaps this is easier. Add a `?` after the function or object, and then use 'ctrl-enter'. A subwindow in the notebook will pop open to give you help."
     ]
    },
    {
     "cell_type": "code",
     "collapsed": false,
     "input": [
      "len?"
     ],
     "language": "python",
     "metadata": {},
     "outputs": [],
     "prompt_number": 52
    },
    {
     "cell_type": "markdown",
     "metadata": {},
     "source": [
      "## Lists\n",
      "Very often in a programming language, one wants to keep a group of similar items together. Python does this using a data type called **lists**."
     ]
    },
    {
     "cell_type": "code",
     "collapsed": false,
     "input": [
      "days_of_the_week = [\"Sunday\",\"Monday\",\"Tuesday\",\"Wednesday\",\"Thursday\",\"Friday\",\"Saturday\"]"
     ],
     "language": "python",
     "metadata": {},
     "outputs": [],
     "prompt_number": 53
    },
    {
     "cell_type": "markdown",
     "metadata": {},
     "source": [
      "You can access members of the list using the **index** of that item:"
     ]
    },
    {
     "cell_type": "code",
     "collapsed": false,
     "input": [
      "days_of_the_week[2]"
     ],
     "language": "python",
     "metadata": {},
     "outputs": [
      {
       "output_type": "pyout",
       "prompt_number": 54,
       "text": [
        "'Tuesday'"
       ]
      }
     ],
     "prompt_number": 54
    },
    {
     "cell_type": "markdown",
     "metadata": {},
     "source": [
      "Python lists, like C, but unlike Fortran, use 0 as the index of the first element of a list. Thus, in this example, the 0 element is \"Sunday\", 1 is \"Monday\", and so on. If you need to access the *n*th element from the end of the list, you can use a negative index. For example, the -1 element of a list is the last element:"
     ]
    },
    {
     "cell_type": "code",
     "collapsed": false,
     "input": [
      "days_of_the_week[-1]"
     ],
     "language": "python",
     "metadata": {},
     "outputs": [
      {
       "output_type": "pyout",
       "prompt_number": 55,
       "text": [
        "'Saturday'"
       ]
      }
     ],
     "prompt_number": 55
    },
    {
     "cell_type": "markdown",
     "metadata": {},
     "source": [
      "You can also get a range of items from the list."
     ]
    },
    {
     "cell_type": "code",
     "collapsed": false,
     "input": [
      "days_of_the_week[2:4]   #start at the 2nd element, and stop before the 4th."
     ],
     "language": "python",
     "metadata": {},
     "outputs": [
      {
       "output_type": "pyout",
       "prompt_number": 56,
       "text": [
        "['Tuesday', 'Wednesday']"
       ]
      }
     ],
     "prompt_number": 56
    },
    {
     "cell_type": "markdown",
     "metadata": {},
     "source": [
      "Or skip along the list."
     ]
    },
    {
     "cell_type": "code",
     "collapsed": false,
     "input": [
      "days_of_the_week[1:-1:2]   #start at the 1st element, stop before the last element, and step by 2"
     ],
     "language": "python",
     "metadata": {},
     "outputs": [
      {
       "output_type": "pyout",
       "prompt_number": 57,
       "text": [
        "['Monday', 'Wednesday', 'Friday']"
       ]
      }
     ],
     "prompt_number": 57
    },
    {
     "cell_type": "markdown",
     "metadata": {},
     "source": [
      "You can add additional items to the list using the .append() command:"
     ]
    },
    {
     "cell_type": "code",
     "collapsed": false,
     "input": [
      "languages = [\"Fortran\",\"C\",\"C++\"]\n",
      "languages.append(\"Python\")\n",
      "print languages"
     ],
     "language": "python",
     "metadata": {},
     "outputs": [
      {
       "output_type": "stream",
       "stream": "stdout",
       "text": [
        "['Fortran', 'C', 'C++', 'Python']\n"
       ]
      }
     ],
     "prompt_number": 58
    },
    {
     "cell_type": "markdown",
     "metadata": {},
     "source": [
      "The **range()** command is a convenient way to make sequential lists of numbers:"
     ]
    },
    {
     "cell_type": "code",
     "collapsed": false,
     "input": [
      "range(10)"
     ],
     "language": "python",
     "metadata": {},
     "outputs": [
      {
       "output_type": "pyout",
       "prompt_number": 59,
       "text": [
        "[0, 1, 2, 3, 4, 5, 6, 7, 8, 9]"
       ]
      }
     ],
     "prompt_number": 59
    },
    {
     "cell_type": "markdown",
     "metadata": {},
     "source": [
      "Note that range(n) starts at 0 and gives the sequential list of integers less than n. If you want to start at a different number, use range(start,stop)"
     ]
    },
    {
     "cell_type": "code",
     "collapsed": false,
     "input": [
      "range(2,8)"
     ],
     "language": "python",
     "metadata": {},
     "outputs": [
      {
       "output_type": "pyout",
       "prompt_number": 60,
       "text": [
        "[2, 3, 4, 5, 6, 7]"
       ]
      }
     ],
     "prompt_number": 60
    },
    {
     "cell_type": "markdown",
     "metadata": {},
     "source": [
      "The lists created above with range have a *step* of 1 between elements. You can also give a fixed step size via a third command:"
     ]
    },
    {
     "cell_type": "code",
     "collapsed": false,
     "input": [
      "evens = range(0,20,2)\n",
      "evens"
     ],
     "language": "python",
     "metadata": {},
     "outputs": [
      {
       "output_type": "pyout",
       "prompt_number": 61,
       "text": [
        "[0, 2, 4, 6, 8, 10, 12, 14, 16, 18]"
       ]
      }
     ],
     "prompt_number": 61
    },
    {
     "cell_type": "markdown",
     "metadata": {},
     "source": [
      "Lists do not have to hold the same data type. For example,"
     ]
    },
    {
     "cell_type": "code",
     "collapsed": false,
     "input": [
      "[\"Today\",7,99.3,\"\"]"
     ],
     "language": "python",
     "metadata": {},
     "outputs": [
      {
       "output_type": "pyout",
       "prompt_number": 62,
       "text": [
        "['Today', 7, 99.3, '']"
       ]
      }
     ],
     "prompt_number": 62
    },
    {
     "cell_type": "markdown",
     "metadata": {},
     "source": [
      "## Iteration, Indentation, and Blocks\n",
      "One of the most useful things you can do with lists is to *iterate* through them, i.e. to go through each element one at a time. To do this in Python, we use the **for** statement:"
     ]
    },
    {
     "cell_type": "code",
     "collapsed": false,
     "input": [
      "for day in days_of_the_week:\n",
      "    statement = \"Today is \" + day\n",
      "    print statement"
     ],
     "language": "python",
     "metadata": {},
     "outputs": [
      {
       "output_type": "stream",
       "stream": "stdout",
       "text": [
        "Today is Sunday\n",
        "Today is Monday\n",
        "Today is Tuesday\n",
        "Today is Wednesday\n",
        "Today is Thursday\n",
        "Today is Friday\n",
        "Today is Saturday\n"
       ]
      }
     ],
     "prompt_number": 63
    },
    {
     "cell_type": "markdown",
     "metadata": {},
     "source": [
      "This code snippet goes through each element of the list called **days_of_the_week** and assigns it to the variable **day**. It then executes everything in the indented block (in this case only one line of code, the print statement) using those variable assignments. When the program has gone through every element of the list, it exists the block.\n",
      "\n",
      "(Almost) every programming language defines blocks of code in some way. In Fortran, one uses END statements (ENDDO, ENDIF, etc.) to define code blocks. In C, C++, and Perl, one uses curly braces {} to define these blocks.\n",
      "\n",
      "Python uses a colon (\":\"), followed by indentation level to define code blocks. Everything at a higher level of indentation is taken to be in the same block. \n",
      "\n",
      "## *_White space and indents matter in Python!_*"
     ]
    },
    {
     "cell_type": "markdown",
     "metadata": {},
     "source": [
      "The **range()** command is particularly useful with the **for** statement to execute loops of a specified length:"
     ]
    },
    {
     "cell_type": "code",
     "collapsed": false,
     "input": [
      "for i in range(20):\n",
      "    print \"The square of \",i,\" is \",i*i"
     ],
     "language": "python",
     "metadata": {},
     "outputs": [
      {
       "output_type": "stream",
       "stream": "stdout",
       "text": [
        "The square of  0  is  0\n",
        "The square of  1  is  1\n",
        "The square of  2  is  4\n",
        "The square of  3  is  9\n",
        "The square of  4  is  16\n",
        "The square of  5  is  25\n",
        "The square of  6  is  36\n",
        "The square of  7  is  49\n",
        "The square of  8  is  64\n",
        "The square of  9  is  81\n",
        "The square of  10  is  100\n",
        "The square of  11  is  121\n",
        "The square of  12  is  144\n",
        "The square of  13  is  169\n",
        "The square of  14  is  196\n",
        "The square of  15  is  225\n",
        "The square of  16  is  256\n",
        "The square of  17  is  289\n",
        "The square of  18  is  324\n",
        "The square of  19  is  361\n"
       ]
      }
     ],
     "prompt_number": 64
    },
    {
     "cell_type": "markdown",
     "metadata": {},
     "source": [
      "We can combine range with looping over a list with the **enumerate** command."
     ]
    },
    {
     "cell_type": "code",
     "collapsed": false,
     "input": [
      "for i, day in enumerate(days_of_the_week):\n",
      "    statement = day + \" is day \" + str(i) + \" of \" + str(len(days_of_the_week)) + \".\"\n",
      "    print statement"
     ],
     "language": "python",
     "metadata": {},
     "outputs": [
      {
       "output_type": "stream",
       "stream": "stdout",
       "text": [
        "Sunday is day 0 of 7.\n",
        "Monday is day 1 of 7.\n",
        "Tuesday is day 2 of 7.\n",
        "Wednesday is day 3 of 7.\n",
        "Thursday is day 4 of 7.\n",
        "Friday is day 5 of 7.\n",
        "Saturday is day 6 of 7.\n"
       ]
      }
     ],
     "prompt_number": 65
    },
    {
     "cell_type": "markdown",
     "metadata": {},
     "source": [
      "## Booleans and Truth Testing\n",
      "We have now learned a few data types. We have integers and floating point numbers, strings, and lists to contain them. We have also learned about lists, a container that can hold any data type. We have learned to print things out, and to iterate over items in lists. We will now learn about **boolean** variables that can be either True or False.\n",
      "\n",
      "We invariably need some concept of *conditions* in programming to control branching behavior, to allow a program to react differently to different situations. If it's Monday, I'll go to work, but if it's Sunday, I'll sleep in. To do this in Python, we use a combination of **boolean** variables, which evaluate to either True or False, and **if** statements, that control branching based on boolean values."
     ]
    },
    {
     "cell_type": "markdown",
     "metadata": {},
     "source": [
      "For example:"
     ]
    },
    {
     "cell_type": "code",
     "collapsed": false,
     "input": [
      "if day == \"Sunday\":\n",
      "    print \"Sleep in\"\n",
      "elif day == \"Saturday\":\n",
      "    print \"Do chores\"\n",
      "else:\n",
      "    print \"Go to work\""
     ],
     "language": "python",
     "metadata": {},
     "outputs": [
      {
       "output_type": "stream",
       "stream": "stdout",
       "text": [
        "Do chores\n"
       ]
      }
     ],
     "prompt_number": 66
    },
    {
     "cell_type": "markdown",
     "metadata": {},
     "source": [
      "(Quick quiz: why did the snippet print \"Go to work\" here? What is the variable \"day\" set to? \n",
      "\n",
      "Hint: When was the last time you used `day`?\n"
     ]
    },
    {
     "cell_type": "markdown",
     "metadata": {},
     "source": [
      "You can compare any data types in Python:"
     ]
    },
    {
     "cell_type": "code",
     "collapsed": false,
     "input": [
      "1 == 2"
     ],
     "language": "python",
     "metadata": {},
     "outputs": [
      {
       "output_type": "pyout",
       "prompt_number": 67,
       "text": [
        "False"
       ]
      }
     ],
     "prompt_number": 67
    },
    {
     "cell_type": "code",
     "collapsed": false,
     "input": [
      "50 == 2*25"
     ],
     "language": "python",
     "metadata": {},
     "outputs": [
      {
       "output_type": "pyout",
       "prompt_number": 68,
       "text": [
        "True"
       ]
      }
     ],
     "prompt_number": 68
    },
    {
     "cell_type": "code",
     "collapsed": false,
     "input": [
      "3 < 3.14159"
     ],
     "language": "python",
     "metadata": {},
     "outputs": [
      {
       "output_type": "pyout",
       "prompt_number": 69,
       "text": [
        "True"
       ]
      }
     ],
     "prompt_number": 69
    },
    {
     "cell_type": "code",
     "collapsed": false,
     "input": [
      "1 == 1.0"
     ],
     "language": "python",
     "metadata": {},
     "outputs": [
      {
       "output_type": "pyout",
       "prompt_number": 70,
       "text": [
        "True"
       ]
      }
     ],
     "prompt_number": 70
    },
    {
     "cell_type": "code",
     "collapsed": false,
     "input": [
      "1 != 0"
     ],
     "language": "python",
     "metadata": {},
     "outputs": [
      {
       "output_type": "pyout",
       "prompt_number": 71,
       "text": [
        "True"
       ]
      }
     ],
     "prompt_number": 71
    },
    {
     "cell_type": "code",
     "collapsed": false,
     "input": [
      "1 <= 2"
     ],
     "language": "python",
     "metadata": {},
     "outputs": [
      {
       "output_type": "pyout",
       "prompt_number": 72,
       "text": [
        "True"
       ]
      }
     ],
     "prompt_number": 72
    },
    {
     "cell_type": "code",
     "collapsed": false,
     "input": [
      "1 >= 1"
     ],
     "language": "python",
     "metadata": {},
     "outputs": [
      {
       "output_type": "pyout",
       "prompt_number": 73,
       "text": [
        "True"
       ]
      }
     ],
     "prompt_number": 73
    },
    {
     "cell_type": "markdown",
     "metadata": {},
     "source": [
      "We see a few other boolean operators here, all of which which should be self-explanatory. Less than, equality, non-equality, and so on.\n",
      "\n",
      "Particularly interesting is the 1 == 1.0 test, which is true, since even though the two objects are different data types (integer and floating point number), they have the same *value*. There is another boolean operator **is**, that tests whether two objects are the same object:"
     ]
    },
    {
     "cell_type": "code",
     "collapsed": false,
     "input": [
      "1 is 1.0"
     ],
     "language": "python",
     "metadata": {},
     "outputs": [
      {
       "output_type": "pyout",
       "prompt_number": 74,
       "text": [
        "False"
       ]
      }
     ],
     "prompt_number": 74
    },
    {
     "cell_type": "markdown",
     "metadata": {},
     "source": [
      "We can do boolean tests on lists as well:"
     ]
    },
    {
     "cell_type": "code",
     "collapsed": false,
     "input": [
      "[1,2,3] == [1,2,4]"
     ],
     "language": "python",
     "metadata": {},
     "outputs": [
      {
       "output_type": "pyout",
       "prompt_number": 75,
       "text": [
        "False"
       ]
      }
     ],
     "prompt_number": 75
    },
    {
     "cell_type": "code",
     "collapsed": false,
     "input": [
      "[1,2,3] < [1,2,4]"
     ],
     "language": "python",
     "metadata": {},
     "outputs": [
      {
       "output_type": "pyout",
       "prompt_number": 76,
       "text": [
        "True"
       ]
      }
     ],
     "prompt_number": 76
    },
    {
     "cell_type": "markdown",
     "metadata": {},
     "source": [
      "Finally, note that you can also string multiple comparisons together, which can result in very intuitive tests:"
     ]
    },
    {
     "cell_type": "code",
     "collapsed": false,
     "input": [
      "hours = 5\n",
      "0 < hours < 24"
     ],
     "language": "python",
     "metadata": {},
     "outputs": [
      {
       "output_type": "pyout",
       "prompt_number": 77,
       "text": [
        "True"
       ]
      }
     ],
     "prompt_number": 77
    },
    {
     "cell_type": "markdown",
     "metadata": {},
     "source": [
      "This is something of an advanced topic, but ordinary data types have boolean values associated with them, and, indeed, in early versions of Python there was not a separate boolean object. Essentially, anything that was a 0 value (the integer or floating point 0, an empty string \"\", or an empty list []) was False, and everything else was true. You can see the boolean value of any data object using the **bool()** function."
     ]
    },
    {
     "cell_type": "code",
     "collapsed": false,
     "input": [
      "bool(1)"
     ],
     "language": "python",
     "metadata": {},
     "outputs": [
      {
       "output_type": "pyout",
       "prompt_number": 78,
       "text": [
        "True"
       ]
      }
     ],
     "prompt_number": 78
    },
    {
     "cell_type": "code",
     "collapsed": false,
     "input": [
      "bool(0)"
     ],
     "language": "python",
     "metadata": {},
     "outputs": [
      {
       "output_type": "pyout",
       "prompt_number": 79,
       "text": [
        "False"
       ]
      }
     ],
     "prompt_number": 79
    },
    {
     "cell_type": "code",
     "collapsed": false,
     "input": [
      "bool([\"This \",\" is \",\" a \",\" list\"])"
     ],
     "language": "python",
     "metadata": {},
     "outputs": [
      {
       "output_type": "pyout",
       "prompt_number": 80,
       "text": [
        "True"
       ]
      }
     ],
     "prompt_number": 80
    },
    {
     "cell_type": "markdown",
     "metadata": {},
     "source": [
      "## Functions\n",
      "\n",
      "We have already used a number of functions, such as `range`, `len`, and `bool`. A function is a collection of code that is cann be called by typing the name of the function followed by (). To define a function, we use `def`. Lets have a look at a simple function."
     ]
    },
    {
     "cell_type": "code",
     "collapsed": false,
     "input": [
      "def sayhello():\n",
      "    print 'Hello, Python here!'"
     ],
     "language": "python",
     "metadata": {},
     "outputs": [],
     "prompt_number": 81
    },
    {
     "cell_type": "markdown",
     "metadata": {},
     "source": [
      "Once our function is defined, we can call it like any other function."
     ]
    },
    {
     "cell_type": "code",
     "collapsed": false,
     "input": [
      "sayhello()"
     ],
     "language": "python",
     "metadata": {},
     "outputs": [
      {
       "output_type": "stream",
       "stream": "stdout",
       "text": [
        "Hello, Python here!\n"
       ]
      }
     ],
     "prompt_number": 82
    },
    {
     "cell_type": "markdown",
     "metadata": {},
     "source": [
      "But so far we've always passed arguments on to the functions. For example, we typed range(10) and the function used the input, how do we do that?"
     ]
    },
    {
     "cell_type": "code",
     "collapsed": false,
     "input": [
      "def sayhello_v2(name):\n",
      "    print 'Hello %s, Python here!' % name"
     ],
     "language": "python",
     "metadata": {},
     "outputs": [],
     "prompt_number": 83
    },
    {
     "cell_type": "markdown",
     "metadata": {},
     "source": [
      "Let's see what it does."
     ]
    },
    {
     "cell_type": "code",
     "collapsed": false,
     "input": [
      "sayhello_v2('you')"
     ],
     "language": "python",
     "metadata": {},
     "outputs": [
      {
       "output_type": "stream",
       "stream": "stdout",
       "text": [
        "Hello you, Python here!\n"
       ]
      }
     ],
     "prompt_number": 84
    },
    {
     "cell_type": "markdown",
     "metadata": {},
     "source": [
      "We can also pass several parameters on to the function."
     ]
    },
    {
     "cell_type": "code",
     "collapsed": false,
     "input": [
      "def addnumbers(a, b):\n",
      "    output = a + b\n",
      "    print '%s + %s = %s' % (a, b, output)\n",
      "    return output"
     ],
     "language": "python",
     "metadata": {},
     "outputs": [],
     "prompt_number": 85
    },
    {
     "cell_type": "markdown",
     "metadata": {},
     "source": [
      "See the return on the last line? What this does is return the results, rather than just print it out so it can be used further in the code."
     ]
    },
    {
     "cell_type": "code",
     "collapsed": false,
     "input": [
      "addnumbers(12, 13)"
     ],
     "language": "python",
     "metadata": {},
     "outputs": [
      {
       "output_type": "stream",
       "stream": "stdout",
       "text": [
        "12 + 13 = 25\n"
       ]
      },
      {
       "output_type": "pyout",
       "prompt_number": 86,
       "text": [
        "25"
       ]
      }
     ],
     "prompt_number": 86
    },
    {
     "cell_type": "markdown",
     "metadata": {},
     "source": [
      "See the 'Out' showing the result, this is what return does, but we can use this in a smart way."
     ]
    },
    {
     "cell_type": "code",
     "collapsed": false,
     "input": [
      "result = addnumbers(12, 13)"
     ],
     "language": "python",
     "metadata": {},
     "outputs": [
      {
       "output_type": "stream",
       "stream": "stdout",
       "text": [
        "12 + 13 = 25\n"
       ]
      }
     ],
     "prompt_number": 87
    },
    {
     "cell_type": "code",
     "collapsed": false,
     "input": [
      "result"
     ],
     "language": "python",
     "metadata": {},
     "outputs": [
      {
       "output_type": "pyout",
       "prompt_number": 88,
       "text": [
        "25"
       ]
      }
     ],
     "prompt_number": 88
    },
    {
     "cell_type": "markdown",
     "metadata": {},
     "source": [
      "Lets see what else we can do with functions:"
     ]
    },
    {
     "cell_type": "code",
     "collapsed": false,
     "input": [
      "def linearfunct(x, slope, intercept=0):\n",
      "    y = intercept + slope * x\n",
      "    return y"
     ],
     "language": "python",
     "metadata": {},
     "outputs": [],
     "prompt_number": 89
    },
    {
     "cell_type": "markdown",
     "metadata": {},
     "source": [
      "As you see, this function now has three parameters, but one of them is set already. This can be useful for increasing the flexibility of functions without making them too difficult to use."
     ]
    },
    {
     "cell_type": "code",
     "collapsed": false,
     "input": [
      "linearfunct(2, 0.5)"
     ],
     "language": "python",
     "metadata": {},
     "outputs": [
      {
       "output_type": "pyout",
       "prompt_number": 90,
       "text": [
        "1.0"
       ]
      }
     ],
     "prompt_number": 90
    },
    {
     "cell_type": "code",
     "collapsed": false,
     "input": [
      "linearfunct(2, 0.5, 4)"
     ],
     "language": "python",
     "metadata": {},
     "outputs": [
      {
       "output_type": "pyout",
       "prompt_number": 91,
       "text": [
        "5.0"
       ]
      }
     ],
     "prompt_number": 91
    },
    {
     "cell_type": "markdown",
     "metadata": {},
     "source": [
      "We can also call the function like this:"
     ]
    },
    {
     "cell_type": "code",
     "collapsed": false,
     "input": [
      "linearfunct(x=2, slope=1.3, intercept=14)"
     ],
     "language": "python",
     "metadata": {},
     "outputs": [
      {
       "output_type": "pyout",
       "prompt_number": 92,
       "text": [
        "16.6"
       ]
      }
     ],
     "prompt_number": 92
    },
    {
     "cell_type": "code",
     "collapsed": false,
     "input": [
      "linearfunct(intercept=12, x=3.16, slope=13)"
     ],
     "language": "python",
     "metadata": {},
     "outputs": [
      {
       "output_type": "pyout",
       "prompt_number": 93,
       "text": [
        "53.08"
       ]
      }
     ],
     "prompt_number": 93
    },
    {
     "cell_type": "markdown",
     "metadata": {},
     "source": [
      "This is what happens when a function is called incorrectly:"
     ]
    },
    {
     "cell_type": "code",
     "collapsed": false,
     "input": [
      "linearfunct(intercept=14)"
     ],
     "language": "python",
     "metadata": {},
     "outputs": [
      {
       "ename": "TypeError",
       "evalue": "linearfunct() takes at least 2 arguments (1 given)",
       "output_type": "pyerr",
       "traceback": [
        "\u001b[0;31m---------------------------------------------------------------------------\u001b[0m\n\u001b[0;31mTypeError\u001b[0m                                 Traceback (most recent call last)",
        "\u001b[0;32m<ipython-input-94-5895107c3571>\u001b[0m in \u001b[0;36m<module>\u001b[0;34m()\u001b[0m\n\u001b[0;32m----> 1\u001b[0;31m \u001b[0mlinearfunct\u001b[0m\u001b[0;34m(\u001b[0m\u001b[0mintercept\u001b[0m\u001b[0;34m=\u001b[0m\u001b[0;36m14\u001b[0m\u001b[0;34m)\u001b[0m\u001b[0;34m\u001b[0m\u001b[0m\n\u001b[0m",
        "\u001b[0;31mTypeError\u001b[0m: linearfunct() takes at least 2 arguments (1 given)"
       ]
      }
     ],
     "prompt_number": 94
    },
    {
     "cell_type": "markdown",
     "metadata": {},
     "source": [
      "The function was expecting at least x and slope, but only got one argument."
     ]
    },
    {
     "cell_type": "code",
     "collapsed": false,
     "input": [
      "linearfunct(intercept=14, 7, 3.8)"
     ],
     "language": "python",
     "metadata": {},
     "outputs": [
      {
       "ename": "SyntaxError",
       "evalue": "non-keyword arg after keyword arg (<ipython-input-95-704d4cf686af>, line 1)",
       "output_type": "pyerr",
       "traceback": [
        "\u001b[0;36m  File \u001b[0;32m\"<ipython-input-95-704d4cf686af>\"\u001b[0;36m, line \u001b[0;32m1\u001b[0m\n\u001b[0;31m    linearfunct(intercept=14, 7, 3.8)\u001b[0m\n\u001b[0;31mSyntaxError\u001b[0m\u001b[0;31m:\u001b[0m non-keyword arg after keyword arg\n"
       ]
      }
     ],
     "prompt_number": 95
    },
    {
     "cell_type": "markdown",
     "metadata": {},
     "source": [
      "This does not work either because the function expects the arguments given without specifying the keyword to be given first."
     ]
    },
    {
     "cell_type": "markdown",
     "metadata": {},
     "source": [
      "#Example: The Fibonacci Sequence\n",
      "The [Fibonacci sequence](http://en.wikipedia.org/wiki/Fibonacci_number) is a sequence in math that starts with 0 and 1, and then each successive entry is the sum of the previous two. Thus, the sequence goes 0,1,1,2,3,5,8,13,21,34,55,89,...\n",
      "\n",
      "Use what you have learned to calculate the Fibonacci sequence. Write a function that takes an integer n and returns the first n elements of the Fibonacci sequence."
     ]
    },
    {
     "cell_type": "code",
     "collapsed": false,
     "input": [
      "def fibonacci(n):\n",
      "    '''Compute the fibonacci sequence : n_i = n_(i-1) + n_(i-2)'''\n",
      "\n",
      "    if n == 0:\n",
      "        return [0]\n",
      "    if n == 1:\n",
      "        return [0,1]\n",
      "    seq = [0,1]\n",
      "    for i in range(2, n):\n",
      "        seq.append(seq[-2] + seq[-1])\n",
      "        \n",
      "    return seq"
     ],
     "language": "python",
     "metadata": {},
     "outputs": [],
     "prompt_number": 96
    },
    {
     "cell_type": "code",
     "collapsed": false,
     "input": [
      "### Testing code ###\n",
      "fib10 = fibonacci(10)\n",
      "assert(type(fib10) == list and fib10 == [0,1,1,2,3,5,8,13,21,34])"
     ],
     "language": "python",
     "metadata": {},
     "outputs": [],
     "prompt_number": 97
    },
    {
     "cell_type": "markdown",
     "metadata": {},
     "source": [
      "## Two More Data Structures: Tuples and Dictionaries\n",
      "Before we end the Python overview, I wanted to touch on two more data structures that are very useful (and thus very common) in Python programs.\n",
      "\n",
      "A **tuple** is a sequence object like a list or a string. It's constructed by grouping a sequence of objects together with commas, either without brackets, or with parentheses:"
     ]
    },
    {
     "cell_type": "code",
     "collapsed": false,
     "input": [
      "t = (1,2,'hi',9.0)\n",
      "t"
     ],
     "language": "python",
     "metadata": {},
     "outputs": [
      {
       "output_type": "pyout",
       "prompt_number": 98,
       "text": [
        "(1, 2, 'hi', 9.0)"
       ]
      }
     ],
     "prompt_number": 98
    },
    {
     "cell_type": "markdown",
     "metadata": {},
     "source": [
      "Tuples are like lists, in that you can access the elements using indices:"
     ]
    },
    {
     "cell_type": "code",
     "collapsed": false,
     "input": [
      "t[1]"
     ],
     "language": "python",
     "metadata": {},
     "outputs": [
      {
       "output_type": "pyout",
       "prompt_number": 99,
       "text": [
        "2"
       ]
      }
     ],
     "prompt_number": 99
    },
    {
     "cell_type": "markdown",
     "metadata": {},
     "source": [
      "However, tuples are *immutable*, you can't append to them or change the elements of them:"
     ]
    },
    {
     "cell_type": "code",
     "collapsed": false,
     "input": [
      "t.append(7)"
     ],
     "language": "python",
     "metadata": {},
     "outputs": [
      {
       "ename": "AttributeError",
       "evalue": "'tuple' object has no attribute 'append'",
       "output_type": "pyerr",
       "traceback": [
        "\u001b[0;31m---------------------------------------------------------------------------\u001b[0m\n\u001b[0;31mAttributeError\u001b[0m                            Traceback (most recent call last)",
        "\u001b[0;32m<ipython-input-100-50c7062b1d5f>\u001b[0m in \u001b[0;36m<module>\u001b[0;34m()\u001b[0m\n\u001b[0;32m----> 1\u001b[0;31m \u001b[0mt\u001b[0m\u001b[0;34m.\u001b[0m\u001b[0mappend\u001b[0m\u001b[0;34m(\u001b[0m\u001b[0;36m7\u001b[0m\u001b[0;34m)\u001b[0m\u001b[0;34m\u001b[0m\u001b[0m\n\u001b[0m",
        "\u001b[0;31mAttributeError\u001b[0m: 'tuple' object has no attribute 'append'"
       ]
      }
     ],
     "prompt_number": 100
    },
    {
     "cell_type": "code",
     "collapsed": false,
     "input": [
      "t[1]=77"
     ],
     "language": "python",
     "metadata": {},
     "outputs": [
      {
       "ename": "TypeError",
       "evalue": "'tuple' object does not support item assignment",
       "output_type": "pyerr",
       "traceback": [
        "\u001b[0;31m---------------------------------------------------------------------------\u001b[0m\n\u001b[0;31mTypeError\u001b[0m                                 Traceback (most recent call last)",
        "\u001b[0;32m<ipython-input-101-03cc8ba9c07d>\u001b[0m in \u001b[0;36m<module>\u001b[0;34m()\u001b[0m\n\u001b[0;32m----> 1\u001b[0;31m \u001b[0mt\u001b[0m\u001b[0;34m[\u001b[0m\u001b[0;36m1\u001b[0m\u001b[0;34m]\u001b[0m\u001b[0;34m=\u001b[0m\u001b[0;36m77\u001b[0m\u001b[0;34m\u001b[0m\u001b[0m\n\u001b[0m",
        "\u001b[0;31mTypeError\u001b[0m: 'tuple' object does not support item assignment"
       ]
      }
     ],
     "prompt_number": 101
    },
    {
     "cell_type": "markdown",
     "metadata": {},
     "source": [
      "**Dictionaries** are an object called \"mappings\" or \"associative arrays\" in other languages."
     ]
    },
    {
     "cell_type": "markdown",
     "metadata": {},
     "source": [
      "The index in a dictionary is called the *key*, and the corresponding dictionary entry is the *value*. A dictionary can use (almost) anything as the key. Whereas lists are formed with square brackets [], dictionaries use curly brackets {}:"
     ]
    },
    {
     "cell_type": "code",
     "collapsed": false,
     "input": [
      "animalfood = {\"Giraffe\": \"Leaves\", \"Lion\": \"Zebras\", \"Cat\": \"Mice\"}\n"
     ],
     "language": "python",
     "metadata": {},
     "outputs": [],
     "prompt_number": 102
    },
    {
     "cell_type": "markdown",
     "metadata": {},
     "source": [
      "Lets now access one of the entries in the dictionary."
     ]
    },
    {
     "cell_type": "code",
     "collapsed": false,
     "input": [
      "animalfood[\"Lion\"]"
     ],
     "language": "python",
     "metadata": {},
     "outputs": [
      {
       "output_type": "pyout",
       "prompt_number": 103,
       "text": [
        "'Zebras'"
       ]
      }
     ],
     "prompt_number": 103
    },
    {
     "cell_type": "markdown",
     "metadata": {},
     "source": [
      "How can we figure out what is in a dictionary?"
     ]
    },
    {
     "cell_type": "code",
     "collapsed": false,
     "input": [
      "animalfood.keys()"
     ],
     "language": "python",
     "metadata": {},
     "outputs": [
      {
       "output_type": "pyout",
       "prompt_number": 104,
       "text": [
        "['Lion', 'Giraffe', 'Cat']"
       ]
      }
     ],
     "prompt_number": 104
    },
    {
     "cell_type": "markdown",
     "metadata": {},
     "source": [
      "Note that the order of the animals here is different from the order in the definition above, this is because a dictionary has no specific order. Therefore, we also cannot access the \"first\" entry in a dictionary like we would for a list or tuple."
     ]
    },
    {
     "cell_type": "code",
     "collapsed": false,
     "input": [
      "animalfood[0]"
     ],
     "language": "python",
     "metadata": {},
     "outputs": [
      {
       "ename": "KeyError",
       "evalue": "0",
       "output_type": "pyerr",
       "traceback": [
        "\u001b[0;31m---------------------------------------------------------------------------\u001b[0m\n\u001b[0;31mKeyError\u001b[0m                                  Traceback (most recent call last)",
        "\u001b[0;32m<ipython-input-105-d8fc453996f2>\u001b[0m in \u001b[0;36m<module>\u001b[0;34m()\u001b[0m\n\u001b[0;32m----> 1\u001b[0;31m \u001b[0manimalfood\u001b[0m\u001b[0;34m[\u001b[0m\u001b[0;36m0\u001b[0m\u001b[0;34m]\u001b[0m\u001b[0;34m\u001b[0m\u001b[0m\n\u001b[0m",
        "\u001b[0;31mKeyError\u001b[0m: 0"
       ]
      }
     ],
     "prompt_number": 105
    },
    {
     "cell_type": "code",
     "collapsed": false,
     "input": [
      "len(t)"
     ],
     "language": "python",
     "metadata": {},
     "outputs": [
      {
       "output_type": "pyout",
       "prompt_number": 106,
       "text": [
        "4"
       ]
      }
     ],
     "prompt_number": 106
    },
    {
     "cell_type": "code",
     "collapsed": false,
     "input": [
      "len(animalfood)"
     ],
     "language": "python",
     "metadata": {},
     "outputs": [
      {
       "output_type": "pyout",
       "prompt_number": 107,
       "text": [
        "3"
       ]
      }
     ],
     "prompt_number": 107
    },
    {
     "cell_type": "markdown",
     "metadata": {},
     "source": [
      "## Plotting with Matplotlib\n",
      "We can generally understand trends in data by using a plotting program to chart it. Python has a wonderful plotting library called [Matplotlib](http://matplotlib.sf.net). The IPython notebook interface we are using for these notes has that functionality built in.\n",
      "\n",
      "As an example, we have looked at two different functions, the Fibonacci function, and the exponential function, both of which grow faster than polynomially. Which one grows the fastest? Let's plot them. First, let's generate the Fibonacci sequence of length 20:"
     ]
    },
    {
     "cell_type": "code",
     "collapsed": false,
     "input": [
      "fibs = fibonacci(10)"
     ],
     "language": "python",
     "metadata": {},
     "outputs": [],
     "prompt_number": 108
    },
    {
     "cell_type": "markdown",
     "metadata": {},
     "source": [
      "Next lets generate the exponentials."
     ]
    },
    {
     "cell_type": "code",
     "collapsed": false,
     "input": [
      "from math import exp"
     ],
     "language": "python",
     "metadata": {},
     "outputs": [],
     "prompt_number": 109
    },
    {
     "cell_type": "code",
     "collapsed": false,
     "input": [
      "exps = [exp(i) for i in range(10)]  "
     ],
     "language": "python",
     "metadata": {},
     "outputs": [],
     "prompt_number": 110
    },
    {
     "cell_type": "markdown",
     "metadata": {},
     "source": [
      "Oh wow, that looks weird! It's called a 'list comprehension.' Think of it like mathematical set notation."
     ]
    },
    {
     "cell_type": "markdown",
     "metadata": {},
     "source": [
      "Now we use the Matplotlib function **plot** to compare the two."
     ]
    },
    {
     "cell_type": "code",
     "collapsed": false,
     "input": [
      "import pylab"
     ],
     "language": "python",
     "metadata": {},
     "outputs": [],
     "prompt_number": 111
    },
    {
     "cell_type": "code",
     "collapsed": false,
     "input": [
      "pylab.plot(exps,label=\"exponential\")\n",
      "pylab.plot(fibs,label=\"Fibonacci\")\n",
      "pylab.xlabel(\"n\")\n",
      "pylab.legend()"
     ],
     "language": "python",
     "metadata": {},
     "outputs": [
      {
       "output_type": "pyout",
       "prompt_number": 112,
       "text": [
        "<matplotlib.legend.Legend at 0x10e5a9d10>"
       ]
      },
      {
       "output_type": "display_data",
       "png": "[encoded data removed]",
       "text": [
        "<matplotlib.figure.Figure at 0x10e500e90>"
       ]
      }
     ],
     "prompt_number": 112
    },
    {
     "cell_type": "markdown",
     "metadata": {},
     "source": [
      "The exponential function grows much faster. In fact, you can barely see the Fibonacci sequence. \n",
      "Let's plot these on a semilog plot so we can see them both a little more clearly:"
     ]
    },
    {
     "cell_type": "code",
     "collapsed": false,
     "input": [
      "pylab.semilogy(exps,label=\"exponential\")\n",
      "pylab.semilogy(fibs,label=\"Fibonacci\")\n",
      "pylab.xlabel(\"n\")\n",
      "pylab.legend()"
     ],
     "language": "python",
     "metadata": {},
     "outputs": [
      {
       "output_type": "pyout",
       "prompt_number": 113,
       "text": [
        "<matplotlib.legend.Legend at 0x10e550490>"
       ]
      },
      {
       "output_type": "display_data",
       "png": "[encoded data removed]",
       "text": [
        "<matplotlib.figure.Figure at 0x10e527ad0>"
       ]
      }
     ],
     "prompt_number": 113
    },
    {
     "cell_type": "markdown",
     "metadata": {},
     "source": [
      "There are many more things you can do with Matplotlib. We'll be looking at some of them in the sections to come. In the meantime, if you want an idea of the different things you can do, look at the Matplotlib [Gallery](http://matplotlib.org/gallery.html). Rob Johansson's IPython notebook [Introduction to Matplotlib](http://nbviewer.ipython.org/urls/raw.github.com/jrjohansson/scientific-python-lectures/master/Lecture-4-Matplotlib.ipynb) is also particularly good."
     ]
    },
    {
     "cell_type": "markdown",
     "metadata": {},
     "source": [
      "# II. Numpy and Scipy\n",
      "\n",
      "[Numpy](http://numpy.org) contains core routines for doing fast vector, matrix, and linear algebra-type operations in Python. [Scipy](http://scipy) contains additional routines for optimization, special functions, and so on. Both contain modules written in C and Fortran so that they're as fast as possible. Together, they give Python roughly the same capability that the [Matlab](http://www.mathworks.com/products/matlab/) program offers. (In fact, if you're an experienced Matlab user, there a [guide to Numpy for Matlab users](http://www.scipy.org/NumPy_for_Matlab_Users) just for you.)\n",
      "\n",
      "## Making vectors and matrices\n",
      "Fundamental to both Numpy and Scipy is the ability to work with vectors and matrices. You can create vectors from lists using the **array** command. But before that, we need to import numpy."
     ]
    },
    {
     "cell_type": "code",
     "collapsed": false,
     "input": [
      "import numpy"
     ],
     "language": "python",
     "metadata": {},
     "outputs": [],
     "prompt_number": 114
    },
    {
     "cell_type": "code",
     "collapsed": false,
     "input": [
      "numpy.array([1,2,3,4,5,6])"
     ],
     "language": "python",
     "metadata": {},
     "outputs": [
      {
       "output_type": "pyout",
       "prompt_number": 115,
       "text": [
        "array([1, 2, 3, 4, 5, 6])"
       ]
      }
     ],
     "prompt_number": 115
    },
    {
     "cell_type": "markdown",
     "metadata": {},
     "source": [
      "You can pass in a second argument to **array** that gives the numeric type. There are a number of types [listed here](http://docs.scipy.org/doc/numpy/user/basics.types.html) that your matrix can be. Some of these are aliased to single character codes. The most common ones are 'd' (double precision floating point number), 'D' (double precision complex number), and 'i' (int32). Thus,"
     ]
    },
    {
     "cell_type": "code",
     "collapsed": false,
     "input": [
      "numpy.array([1,2,3,4,5,6],'d')"
     ],
     "language": "python",
     "metadata": {},
     "outputs": [
      {
       "output_type": "pyout",
       "prompt_number": 116,
       "text": [
        "array([ 1.,  2.,  3.,  4.,  5.,  6.])"
       ]
      }
     ],
     "prompt_number": 116
    },
    {
     "cell_type": "code",
     "collapsed": false,
     "input": [
      "numpy.array([1,2,3,4,5,6],'D')"
     ],
     "language": "python",
     "metadata": {},
     "outputs": [
      {
       "output_type": "pyout",
       "prompt_number": 117,
       "text": [
        "array([ 1.+0.j,  2.+0.j,  3.+0.j,  4.+0.j,  5.+0.j,  6.+0.j])"
       ]
      }
     ],
     "prompt_number": 117
    },
    {
     "cell_type": "code",
     "collapsed": false,
     "input": [
      "numpy.array([1,2,3,4,5,6],'i')"
     ],
     "language": "python",
     "metadata": {},
     "outputs": [
      {
       "output_type": "pyout",
       "prompt_number": 118,
       "text": [
        "array([1, 2, 3, 4, 5, 6], dtype=int32)"
       ]
      }
     ],
     "prompt_number": 118
    },
    {
     "cell_type": "markdown",
     "metadata": {},
     "source": [
      "To build matrices, you can either use the array command with lists of lists:"
     ]
    },
    {
     "cell_type": "code",
     "collapsed": false,
     "input": [
      "numpy.array([[0,1],[1,0]],'d')"
     ],
     "language": "python",
     "metadata": {},
     "outputs": [
      {
       "output_type": "pyout",
       "prompt_number": 119,
       "text": [
        "array([[ 0.,  1.],\n",
        "       [ 1.,  0.]])"
       ]
      }
     ],
     "prompt_number": 119
    },
    {
     "cell_type": "markdown",
     "metadata": {},
     "source": [
      "You can also form empty (zero) matrices of arbitrary shape (including vectors, which Numpy treats as vectors with one row), using the **zeros** command:"
     ]
    },
    {
     "cell_type": "code",
     "collapsed": false,
     "input": [
      "numpy.zeros((3,3),'d')"
     ],
     "language": "python",
     "metadata": {},
     "outputs": [
      {
       "output_type": "pyout",
       "prompt_number": 120,
       "text": [
        "array([[ 0.,  0.,  0.],\n",
        "       [ 0.,  0.,  0.],\n",
        "       [ 0.,  0.,  0.]])"
       ]
      }
     ],
     "prompt_number": 120
    },
    {
     "cell_type": "markdown",
     "metadata": {},
     "source": [
      "The first argument is a tuple containing the shape of the matrix, and the second optional argument is the data type argument, which follows the same conventions as in the array command. Thus, you can make vectors and columns of any size."
     ]
    },
    {
     "cell_type": "code",
     "collapsed": false,
     "input": [
      "numpy.zeros(3)"
     ],
     "language": "python",
     "metadata": {},
     "outputs": [
      {
       "output_type": "pyout",
       "prompt_number": 121,
       "text": [
        "array([ 0.,  0.,  0.])"
       ]
      }
     ],
     "prompt_number": 121
    },
    {
     "cell_type": "code",
     "collapsed": false,
     "input": [
      "numpy.zeros((2,3))"
     ],
     "language": "python",
     "metadata": {},
     "outputs": [
      {
       "output_type": "pyout",
       "prompt_number": 122,
       "text": [
        "array([[ 0.,  0.,  0.],\n",
        "       [ 0.,  0.,  0.]])"
       ]
      }
     ],
     "prompt_number": 122
    },
    {
     "cell_type": "code",
     "collapsed": false,
     "input": [
      "numpy.zeros((3,4,2))"
     ],
     "language": "python",
     "metadata": {},
     "outputs": [
      {
       "output_type": "pyout",
       "prompt_number": 123,
       "text": [
        "array([[[ 0.,  0.],\n",
        "        [ 0.,  0.],\n",
        "        [ 0.,  0.],\n",
        "        [ 0.,  0.]],\n",
        "\n",
        "       [[ 0.,  0.],\n",
        "        [ 0.,  0.],\n",
        "        [ 0.,  0.],\n",
        "        [ 0.,  0.]],\n",
        "\n",
        "       [[ 0.,  0.],\n",
        "        [ 0.,  0.],\n",
        "        [ 0.,  0.],\n",
        "        [ 0.,  0.]]])"
       ]
      }
     ],
     "prompt_number": 123
    },
    {
     "cell_type": "markdown",
     "metadata": {},
     "source": [
      "There's also an **identity** command that behaves as you'd expect:"
     ]
    },
    {
     "cell_type": "code",
     "collapsed": false,
     "input": [
      "numpy.identity(4,'d')"
     ],
     "language": "python",
     "metadata": {},
     "outputs": [
      {
       "output_type": "pyout",
       "prompt_number": 124,
       "text": [
        "array([[ 1.,  0.,  0.,  0.],\n",
        "       [ 0.,  1.,  0.,  0.],\n",
        "       [ 0.,  0.,  1.,  0.],\n",
        "       [ 0.,  0.,  0.,  1.]])"
       ]
      }
     ],
     "prompt_number": 124
    },
    {
     "cell_type": "markdown",
     "metadata": {},
     "source": [
      "as well as a **ones** command."
     ]
    },
    {
     "cell_type": "markdown",
     "metadata": {},
     "source": [
      "## Linspace, matrix functions, and plotting\n",
      "The **linspace** command makes a linear array of points from a starting to an ending value."
     ]
    },
    {
     "cell_type": "code",
     "collapsed": false,
     "input": [
      "numpy.linspace(0,1)"
     ],
     "language": "python",
     "metadata": {},
     "outputs": [
      {
       "output_type": "pyout",
       "prompt_number": 125,
       "text": [
        "array([ 0.        ,  0.02040816,  0.04081633,  0.06122449,  0.08163265,\n",
        "        0.10204082,  0.12244898,  0.14285714,  0.16326531,  0.18367347,\n",
        "        0.20408163,  0.2244898 ,  0.24489796,  0.26530612,  0.28571429,\n",
        "        0.30612245,  0.32653061,  0.34693878,  0.36734694,  0.3877551 ,\n",
        "        0.40816327,  0.42857143,  0.44897959,  0.46938776,  0.48979592,\n",
        "        0.51020408,  0.53061224,  0.55102041,  0.57142857,  0.59183673,\n",
        "        0.6122449 ,  0.63265306,  0.65306122,  0.67346939,  0.69387755,\n",
        "        0.71428571,  0.73469388,  0.75510204,  0.7755102 ,  0.79591837,\n",
        "        0.81632653,  0.83673469,  0.85714286,  0.87755102,  0.89795918,\n",
        "        0.91836735,  0.93877551,  0.95918367,  0.97959184,  1.        ])"
       ]
      }
     ],
     "prompt_number": 125
    },
    {
     "cell_type": "markdown",
     "metadata": {},
     "source": [
      "If you provide a third argument, it takes that as the number of points in the space. If you don't provide the argument, it gives a length 50 linear space."
     ]
    },
    {
     "cell_type": "code",
     "collapsed": false,
     "input": [
      "numpy.linspace(0,1,11)"
     ],
     "language": "python",
     "metadata": {},
     "outputs": [
      {
       "output_type": "pyout",
       "prompt_number": 126,
       "text": [
        "array([ 0. ,  0.1,  0.2,  0.3,  0.4,  0.5,  0.6,  0.7,  0.8,  0.9,  1. ])"
       ]
      }
     ],
     "prompt_number": 126
    },
    {
     "cell_type": "markdown",
     "metadata": {},
     "source": [
      "**linspace** is an easy way to make coordinates for plotting. Functions in the numpy library (all of which are imported into IPython notebook) can act on an entire vector (or even a matrix) of points at once. Thus,"
     ]
    },
    {
     "cell_type": "code",
     "collapsed": false,
     "input": [
      "x = numpy.linspace(0,2*pi)\n",
      "numpy.sin(x)"
     ],
     "language": "python",
     "metadata": {},
     "outputs": [
      {
       "output_type": "pyout",
       "prompt_number": 127,
       "text": [
        "array([  0.00000000e+00,   1.27877162e-01,   2.53654584e-01,\n",
        "         3.75267005e-01,   4.90717552e-01,   5.98110530e-01,\n",
        "         6.95682551e-01,   7.81831482e-01,   8.55142763e-01,\n",
        "         9.14412623e-01,   9.58667853e-01,   9.87181783e-01,\n",
        "         9.99486216e-01,   9.95379113e-01,   9.74927912e-01,\n",
        "         9.38468422e-01,   8.86599306e-01,   8.20172255e-01,\n",
        "         7.40277997e-01,   6.48228395e-01,   5.45534901e-01,\n",
        "         4.33883739e-01,   3.15108218e-01,   1.91158629e-01,\n",
        "         6.40702200e-02,  -6.40702200e-02,  -1.91158629e-01,\n",
        "        -3.15108218e-01,  -4.33883739e-01,  -5.45534901e-01,\n",
        "        -6.48228395e-01,  -7.40277997e-01,  -8.20172255e-01,\n",
        "        -8.86599306e-01,  -9.38468422e-01,  -9.74927912e-01,\n",
        "        -9.95379113e-01,  -9.99486216e-01,  -9.87181783e-01,\n",
        "        -9.58667853e-01,  -9.14412623e-01,  -8.55142763e-01,\n",
        "        -7.81831482e-01,  -6.95682551e-01,  -5.98110530e-01,\n",
        "        -4.90717552e-01,  -3.75267005e-01,  -2.53654584e-01,\n",
        "        -1.27877162e-01,  -2.44929360e-16])"
       ]
      }
     ],
     "prompt_number": 127
    },
    {
     "cell_type": "markdown",
     "metadata": {},
     "source": [
      "In conjunction with **matplotlib**, this is a nice way to plot things:"
     ]
    },
    {
     "cell_type": "code",
     "collapsed": false,
     "input": [
      "pylab.plot(x,sin(x))"
     ],
     "language": "python",
     "metadata": {},
     "outputs": [
      {
       "output_type": "pyout",
       "prompt_number": 128,
       "text": [
        "[<matplotlib.lines.Line2D at 0x10e9f41d0>]"
       ]
      },
      {
       "output_type": "display_data",
       "png": "[encoded data removed]",
       "text": [
        "<matplotlib.figure.Figure at 0x10e523650>"
       ]
      }
     ],
     "prompt_number": 128
    },
    {
     "cell_type": "markdown",
     "metadata": {},
     "source": [
      "## Array operations\n",
      "Array objects act sensibly when multiplied by scalars:"
     ]
    },
    {
     "cell_type": "code",
     "collapsed": false,
     "input": [
      "0.125*numpy.identity(3,'d')"
     ],
     "language": "python",
     "metadata": {},
     "outputs": [
      {
       "output_type": "pyout",
       "prompt_number": 129,
       "text": [
        "array([[ 0.125,  0.   ,  0.   ],\n",
        "       [ 0.   ,  0.125,  0.   ],\n",
        "       [ 0.   ,  0.   ,  0.125]])"
       ]
      }
     ],
     "prompt_number": 129
    },
    {
     "cell_type": "markdown",
     "metadata": {},
     "source": [
      "as well as when you add two arrays together. (However, the arrays have to be the same shape.)"
     ]
    },
    {
     "cell_type": "code",
     "collapsed": false,
     "input": [
      "numpy.identity(2,'d') + numpy.array([[1,1],[1,2]])"
     ],
     "language": "python",
     "metadata": {},
     "outputs": [
      {
       "output_type": "pyout",
       "prompt_number": 130,
       "text": [
        "array([[ 2.,  1.],\n",
        "       [ 1.,  3.]])"
       ]
      }
     ],
     "prompt_number": 130
    },
    {
     "cell_type": "markdown",
     "metadata": {},
     "source": [
      "Something that confuses Matlab users is that the times (*) operator give element-wise multiplication rather than matrix multiplication:"
     ]
    },
    {
     "cell_type": "code",
     "collapsed": false,
     "input": [
      "numpy.identity(2)*numpy.ones((2,2))"
     ],
     "language": "python",
     "metadata": {},
     "outputs": [
      {
       "output_type": "pyout",
       "prompt_number": 131,
       "text": [
        "array([[ 1.,  0.],\n",
        "       [ 0.,  1.]])"
       ]
      }
     ],
     "prompt_number": 131
    },
    {
     "cell_type": "markdown",
     "metadata": {},
     "source": [
      "# *_Note: Numpy does 'by element' operations, not linear algebra!_*\n",
      "(unless you tell it do do linear algebra)"
     ]
    },
    {
     "cell_type": "markdown",
     "metadata": {},
     "source": [
      "Let's see whether this works for our sin example from above:"
     ]
    },
    {
     "cell_type": "markdown",
     "metadata": {},
     "source": [
      "# III. Intermediate Python\n",
      "\n",
      "\n",
      "## Input Parsing\n",
      "Let us read in a text file. Included with this notebook is a text file containing the quasar catalog."
     ]
    },
    {
     "cell_type": "code",
     "collapsed": false,
     "input": [
      "data = numpy.loadtxt('/Users/cvillforth/Teaching/PythonTutorial/FirstYearTutorial/PythonTutorial_Data.txt')"
     ],
     "language": "python",
     "metadata": {},
     "outputs": [],
     "prompt_number": 132
    },
    {
     "cell_type": "markdown",
     "metadata": {},
     "source": [
      "numpy.loadtxt is a function that loads text files.\n",
      "\n",
      "Have a look at the file you loaded. You'll see it contains several lines starting with '#'. numpy.loadtxt ignores all those lines and treats them as comments, rather than data.\n",
      "\n",
      "Let's see how the data got stored in memory:"
     ]
    },
    {
     "cell_type": "code",
     "collapsed": false,
     "input": [
      "data"
     ],
     "language": "python",
     "metadata": {},
     "outputs": [
      {
       "output_type": "pyout",
       "prompt_number": 133,
       "text": [
        "array([[ -2.32500000e+01,   0.00000000e+00,   0.00000000e+00, ...,\n",
        "          3.17486000e+03,   5.45700000e-01,   1.99000000e+01],\n",
        "       [ -2.27126000e+01,   0.00000000e+00,   0.00000000e+00, ...,\n",
        "          4.35346000e+03,   5.51200000e-01,   2.01990000e+01],\n",
        "       [ -2.51981000e+01,   0.00000000e+00,   0.00000000e+00, ...,\n",
        "          4.80353000e+03,   5.28200000e-01,   1.76740000e+01],\n",
        "       ..., \n",
        "       [ -2.25556000e+01,   0.00000000e+00,   0.00000000e+00, ...,\n",
        "          3.80426000e+03,   5.41200000e-01,   2.12340000e+01],\n",
        "       [ -2.35384000e+01,   0.00000000e+00,   0.00000000e+00, ...,\n",
        "          2.76996000e+03,   5.70000000e-01,   1.94240000e+01],\n",
        "       [ -2.40940000e+01,   0.00000000e+00,   0.00000000e+00, ...,\n",
        "          2.79901000e+03,   5.70200000e-01,   1.89700000e+01]])"
       ]
      }
     ],
     "prompt_number": 133
    },
    {
     "cell_type": "markdown",
     "metadata": {},
     "source": [
      "The function stored all the information in the file into a numpy array. But how can we access a line or column?\n",
      "\n",
      "First, let's see how many lines and columns there are."
     ]
    },
    {
     "cell_type": "code",
     "collapsed": false,
     "input": [
      "numpy.shape(data)"
     ],
     "language": "python",
     "metadata": {},
     "outputs": [
      {
       "output_type": "pyout",
       "prompt_number": 134,
       "text": [
        "(7211, 9)"
       ]
      }
     ],
     "prompt_number": 134
    },
    {
     "cell_type": "markdown",
     "metadata": {},
     "source": [
      "What does this mean? numpy.shape shows us the shape of the array. The first number indicates the number of lines, the second number is the number of columns.\n",
      "\n",
      "Now let's have a look at the first line."
     ]
    },
    {
     "cell_type": "code",
     "collapsed": false,
     "input": [
      "data[0]"
     ],
     "language": "python",
     "metadata": {},
     "outputs": [
      {
       "output_type": "pyout",
       "prompt_number": 135,
       "text": [
        "array([ -2.32500000e+01,   0.00000000e+00,   0.00000000e+00,\n",
        "        -1.00000000e+00,   4.44274000e+01,   4.42860000e+01,\n",
        "         3.17486000e+03,   5.45700000e-01,   1.99000000e+01])"
       ]
      }
     ],
     "prompt_number": 135
    },
    {
     "cell_type": "markdown",
     "metadata": {},
     "source": [
      "Remember that Python counts from 0, so this is the first line. Now lets access the first entry of the first line."
     ]
    },
    {
     "cell_type": "code",
     "collapsed": false,
     "input": [
      "data[0,0]"
     ],
     "language": "python",
     "metadata": {},
     "outputs": [
      {
       "output_type": "pyout",
       "prompt_number": 136,
       "text": [
        "-23.25"
       ]
      }
     ],
     "prompt_number": 136
    },
    {
     "cell_type": "markdown",
     "metadata": {},
     "source": [
      "What did we do here?\n",
      "\n",
      "The [] indicates that we are accessing parts of the array, the number before the comma is the index of the line we have choosen, the number after the comma is the index of the column we have choosen.\n",
      "\n",
      "So, how do we choose all data in the first column?"
     ]
    },
    {
     "cell_type": "code",
     "collapsed": false,
     "input": [
      "data[:,0]"
     ],
     "language": "python",
     "metadata": {},
     "outputs": [
      {
       "output_type": "pyout",
       "prompt_number": 137,
       "text": [
        "array([-23.25  , -22.7126, -25.1981, ..., -22.5556, -23.5384, -24.094 ])"
       ]
      }
     ],
     "prompt_number": 137
    },
    {
     "cell_type": "markdown",
     "metadata": {},
     "source": [
      "Compare this to the syntax in the line above. We now replaced the 0 before the comma with a ':'. The ':' means 'all entries'. So, to choose the first line, we could also do this:"
     ]
    },
    {
     "cell_type": "code",
     "collapsed": false,
     "input": [
      "data[0,:]"
     ],
     "language": "python",
     "metadata": {},
     "outputs": [
      {
       "output_type": "pyout",
       "prompt_number": 138,
       "text": [
        "array([ -2.32500000e+01,   0.00000000e+00,   0.00000000e+00,\n",
        "        -1.00000000e+00,   4.44274000e+01,   4.42860000e+01,\n",
        "         3.17486000e+03,   5.45700000e-01,   1.99000000e+01])"
       ]
      }
     ],
     "prompt_number": 138
    },
    {
     "cell_type": "markdown",
     "metadata": {},
     "source": [
      "We can also choose data in a more complex manner. For example, lets choose the first three columns and the last line."
     ]
    },
    {
     "cell_type": "code",
     "collapsed": false,
     "input": [
      "data[0:3,-1]"
     ],
     "language": "python",
     "metadata": {},
     "outputs": [
      {
       "output_type": "pyout",
       "prompt_number": 139,
       "text": [
        "array([ 19.9  ,  20.199,  17.674])"
       ]
      }
     ],
     "prompt_number": 139
    },
    {
     "cell_type": "markdown",
     "metadata": {},
     "source": [
      "Now we have learned how to access the data. Lets now plot it! "
     ]
    },
    {
     "cell_type": "code",
     "collapsed": false,
     "input": [
      "pylab.plot(data[:,7], data[:,0], 'bo')\n",
      "pylab.xlabel('Redshift')\n",
      "pylab.ylabel('Absolute Magnitude')\n",
      "pylab.title('SDSS Quasars')"
     ],
     "language": "python",
     "metadata": {},
     "outputs": [
      {
       "output_type": "pyout",
       "prompt_number": 140,
       "text": [
        "<matplotlib.text.Text at 0x10e9a2b90>"
       ]
      },
      {
       "output_type": "display_data",
       "png": "[encoded data removed]",
       "text": [
        "<matplotlib.figure.Figure at 0x10e512dd0>"
       ]
      }
     ],
     "prompt_number": 140
    },
    {
     "cell_type": "markdown",
     "metadata": {},
     "source": [
      "## Smart Array Access\n",
      "\n",
      "Here is a great feature of working with Numpy arrays. What if we want to look at only part of the data? Let's print out all redshifts z > 0.6 in the table."
     ]
    },
    {
     "cell_type": "code",
     "collapsed": false,
     "input": [
      "data[:,7][data[:,7] > 0.6]"
     ],
     "language": "python",
     "metadata": {},
     "outputs": [
      {
       "output_type": "pyout",
       "prompt_number": 141,
       "text": [
        "array([ 0.6521,  0.6513,  0.6598, ...,  0.6965,  0.6912,  0.683 ])"
       ]
      }
     ],
     "prompt_number": 141
    },
    {
     "cell_type": "markdown",
     "metadata": {},
     "source": [
      "What happened here?\n",
      "\n",
      "data[:,7] is the column containing the redshift data. But what does the expression [data[:,7] > 0.6] mean? Let's have a look."
     ]
    },
    {
     "cell_type": "code",
     "collapsed": false,
     "input": [
      "data[:,7] > 0.6"
     ],
     "language": "python",
     "metadata": {},
     "outputs": [
      {
       "output_type": "pyout",
       "prompt_number": 142,
       "text": [
        "array([False, False, False, ..., False, False, False], dtype=bool)"
       ]
      }
     ],
     "prompt_number": 142
    },
    {
     "cell_type": "markdown",
     "metadata": {},
     "source": [
      "This expression return an array which contains a 'False' value for every entry for which the expression is true and a 'True' value for every entry for which the expression is true. This array acts as a mask. When we write it after the redshift array, all the values that are not > 0.6 are masked out.\n",
      "\n",
      "This is a powerful tool we can use to deal with data.\n",
      "\n",
      "Let's have a look at a simple example."
     ]
    },
    {
     "cell_type": "code",
     "collapsed": false,
     "input": [
      "maskarray = numpy.array([0,14,0,13,25,79,0])\n",
      "maskarray"
     ],
     "language": "python",
     "metadata": {},
     "outputs": [
      {
       "output_type": "pyout",
       "prompt_number": 143,
       "text": [
        "array([ 0, 14,  0, 13, 25, 79,  0])"
       ]
      }
     ],
     "prompt_number": 143
    },
    {
     "cell_type": "markdown",
     "metadata": {},
     "source": [
      "We now have an array that contains some zeros. First, let's create a mask for the zeros."
     ]
    },
    {
     "cell_type": "code",
     "collapsed": false,
     "input": [
      "mask = maskarray == 0\n",
      "mask"
     ],
     "language": "python",
     "metadata": {},
     "outputs": [
      {
       "output_type": "pyout",
       "prompt_number": 144,
       "text": [
        "array([ True, False,  True, False, False, False,  True], dtype=bool)"
       ]
      }
     ],
     "prompt_number": 144
    },
    {
     "cell_type": "code",
     "collapsed": false,
     "input": [
      "maskarray[mask]"
     ],
     "language": "python",
     "metadata": {},
     "outputs": [
      {
       "output_type": "pyout",
       "prompt_number": 145,
       "text": [
        "array([0, 0, 0])"
       ]
      }
     ],
     "prompt_number": 145
    },
    {
     "cell_type": "markdown",
     "metadata": {},
     "source": [
      "Great! It worked. But we can use this also to replace all '0' entries in the array with another value, like this:"
     ]
    },
    {
     "cell_type": "code",
     "collapsed": false,
     "input": [
      "maskarray[mask] = -999\n",
      "maskarray"
     ],
     "language": "python",
     "metadata": {},
     "outputs": [
      {
       "output_type": "pyout",
       "prompt_number": 146,
       "text": [
        "array([-999,   14, -999,   13,   25,   79, -999])"
       ]
      }
     ],
     "prompt_number": 146
    },
    {
     "cell_type": "markdown",
     "metadata": {},
     "source": [
      "## Basic Statistics\n",
      "\n",
      "We've learned to plot and manipulate data. Now we can do some simple calculations:\n",
      "\n",
      "numpy and scipy have a large number of functions for statistics. \n",
      "\n",
      "Let's start with something simple. What is the mean and standard deviation of the data in an array? What is the minimum and maximum?"
     ]
    },
    {
     "cell_type": "code",
     "collapsed": false,
     "input": [
      "numpy.min(data[:, 7])"
     ],
     "language": "python",
     "metadata": {},
     "outputs": [
      {
       "output_type": "pyout",
       "prompt_number": 147,
       "text": [
        "0.5"
       ]
      }
     ],
     "prompt_number": 147
    },
    {
     "cell_type": "code",
     "collapsed": false,
     "input": [
      "numpy.max(data[:,7])"
     ],
     "language": "python",
     "metadata": {},
     "outputs": [
      {
       "output_type": "pyout",
       "prompt_number": 148,
       "text": [
        "0.69999999999999996"
       ]
      }
     ],
     "prompt_number": 148
    },
    {
     "cell_type": "code",
     "collapsed": false,
     "input": [
      "numpy.mean(data[:,7])"
     ],
     "language": "python",
     "metadata": {},
     "outputs": [
      {
       "output_type": "pyout",
       "prompt_number": 149,
       "text": [
        "0.60053003744279465"
       ]
      }
     ],
     "prompt_number": 149
    },
    {
     "cell_type": "code",
     "collapsed": false,
     "input": [
      "numpy.std(data[:,7])"
     ],
     "language": "python",
     "metadata": {},
     "outputs": [
      {
       "output_type": "pyout",
       "prompt_number": 150,
       "text": [
        "0.056896074602847943"
       ]
      }
     ],
     "prompt_number": 150
    },
    {
     "cell_type": "markdown",
     "metadata": {},
     "source": [
      "We can also do more complex things. Let's fit a line using numpy.polyfit (check the documentation here http://docs.scipy.org/doc/numpy/reference/generated/numpy.polyfit.html)"
     ]
    },
    {
     "cell_type": "code",
     "collapsed": false,
     "input": [
      "fitline =numpy.polyfit(data[:,7], data[:,0], 1)\n",
      "fitline"
     ],
     "language": "python",
     "metadata": {},
     "outputs": [
      {
       "output_type": "pyout",
       "prompt_number": 151,
       "text": [
        "array([ -3.39636304, -22.12638289])"
       ]
      }
     ],
     "prompt_number": 151
    },
    {
     "cell_type": "markdown",
     "metadata": {},
     "source": [
      "Let's have a look at the fit we made to the data:"
     ]
    },
    {
     "cell_type": "code",
     "collapsed": false,
     "input": [
      "x = numpy.arange(0.5, 0.7, 0.01)\n",
      "pylab.plot(data[:,7], data[:,0], 'bo')\n",
      "pylab.plot(x, fitline[1] + x*fitline[0], ls='-', c='r', lw=4)\n",
      "pylab.xlabel('Redshift')\n",
      "pylab.ylabel('Absolute Magnitude')\n",
      "pylab.title('SDSS Quasars')"
     ],
     "language": "python",
     "metadata": {},
     "outputs": [
      {
       "output_type": "pyout",
       "prompt_number": 152,
       "text": [
        "<matplotlib.text.Text at 0x10ef2d450>"
       ]
      },
      {
       "output_type": "display_data",
       "png": "[encoded data removed]",
       "text": [
        "<matplotlib.figure.Figure at 0x10e9fb250>"
       ]
      }
     ],
     "prompt_number": 152
    },
    {
     "cell_type": "markdown",
     "metadata": {},
     "source": [
      "## Advanced Plotting\n",
      "\n",
      "matplotlib is a powerful plotting tool. \n",
      "\n",
      "Here are a few examples. Let's start with a histogram."
     ]
    },
    {
     "cell_type": "code",
     "collapsed": false,
     "input": [
      "pylab.hist(data[:,0])"
     ],
     "language": "python",
     "metadata": {},
     "outputs": [
      {
       "output_type": "pyout",
       "prompt_number": 153,
       "text": [
        "(array([  2.00000000e+00,   5.00000000e+00,   5.40000000e+01,\n",
        "         1.42000000e+02,   3.86000000e+02,   9.67000000e+02,\n",
        "         2.13900000e+03,   2.13800000e+03,   9.76000000e+02,\n",
        "         4.02000000e+02]),\n",
        " array([-27.9568 , -27.40772, -26.85864, -26.30956, -25.76048, -25.2114 ,\n",
        "       -24.66232, -24.11324, -23.56416, -23.01508, -22.466  ]),\n",
        " <a list of 10 Patch objects>)"
       ]
      },
      {
       "output_type": "display_data",
       "png": "[encoded data removed]",
       "text": [
        "<matplotlib.figure.Figure at 0x10e9b4910>"
       ]
      }
     ],
     "prompt_number": 153
    },
    {
     "cell_type": "markdown",
     "metadata": {},
     "source": [
      "The histogram looks nice, but the bins are a bit large for my taste, we can adjust them manually like this:"
     ]
    },
    {
     "cell_type": "code",
     "collapsed": false,
     "input": [
      "pylab.hist(data[:,0], numpy.arange(-28.1, -22, 0.1))"
     ],
     "language": "python",
     "metadata": {},
     "outputs": [
      {
       "output_type": "pyout",
       "prompt_number": 154,
       "text": [
        "(array([   0.,    1.,    0.,    0.,    0.,    0.,    1.,    1.,    1.,\n",
        "          1.,    2.,    0.,    5.,    7.,    9.,   10.,    9.,   17.,\n",
        "         24.,   21.,   20.,   25.,   32.,   48.,   44.,   53.,   74.,\n",
        "         84.,  112.,  116.,  135.,  160.,  201.,  245.,  279.,  303.,\n",
        "        379.,  419.,  431.,  491.,  447.,  448.,  408.,  367.,  308.,\n",
        "        254.,  200.,  166.,  164.,  169.,  143.,  117.,   97.,   67.,\n",
        "         56.,   35.,    5.,    0.,    0.,    0.,    0.]),\n",
        " array([-28.1, -28. , -27.9, -27.8, -27.7, -27.6, -27.5, -27.4, -27.3,\n",
        "       -27.2, -27.1, -27. , -26.9, -26.8, -26.7, -26.6, -26.5, -26.4,\n",
        "       -26.3, -26.2, -26.1, -26. , -25.9, -25.8, -25.7, -25.6, -25.5,\n",
        "       -25.4, -25.3, -25.2, -25.1, -25. , -24.9, -24.8, -24.7, -24.6,\n",
        "       -24.5, -24.4, -24.3, -24.2, -24.1, -24. , -23.9, -23.8, -23.7,\n",
        "       -23.6, -23.5, -23.4, -23.3, -23.2, -23.1, -23. , -22.9, -22.8,\n",
        "       -22.7, -22.6, -22.5, -22.4, -22.3, -22.2, -22.1, -22. ]),\n",
        " <a list of 61 Patch objects>)"
       ]
      },
      {
       "output_type": "display_data",
       "png": "[encoded data removed]",
       "text": [
        "<matplotlib.figure.Figure at 0x10e5669d0>"
       ]
      }
     ],
     "prompt_number": 154
    },
    {
     "cell_type": "markdown",
     "metadata": {},
     "source": [
      "Much better!\n",
      "\n",
      "And finally, let's do something really exciting, a 3D plot!\n",
      "We'll first need to import a special set of functions."
     ]
    },
    {
     "cell_type": "code",
     "collapsed": false,
     "input": [
      "from mpl_toolkits.mplot3d import Axes3D"
     ],
     "language": "python",
     "metadata": {},
     "outputs": [],
     "prompt_number": 155
    },
    {
     "cell_type": "markdown",
     "metadata": {},
     "source": [
      "This will look a bit more complicated, we'll first have to create a figure (that is basically just an empty canvas). Then we can add an axes to that figure. Finally, we can plot the data."
     ]
    },
    {
     "cell_type": "code",
     "collapsed": false,
     "input": [
      "fig = pylab.figure()\n",
      "ax = fig.add_subplot(111, projection='3d')\n",
      "ax.scatter(data[:,0], data[:,7], data[:,6])"
     ],
     "language": "python",
     "metadata": {},
     "outputs": [
      {
       "output_type": "pyout",
       "prompt_number": 156,
       "text": [
        "<mpl_toolkits.mplot3d.art3d.Path3DCollection at 0x1111c4890>"
       ]
      },
      {
       "output_type": "display_data",
       "png": "[encoded data removed]",
       "text": [
        "<matplotlib.figure.Figure at 0x10e52c410>"
       ]
      }
     ],
     "prompt_number": 156
    },
    {
     "cell_type": "markdown",
     "metadata": {},
     "source": [
      "# V. License\n",
      "\n",
      "This work is licensed under a [Creative Commons Attribution-ShareAlike 3.0 Unported License](http://creativecommons.org/licenses/by-sa/3.0/deed.en_US). The work is offered for free, with the hope that it will be useful. Please consider making a donation to the [John Hunter Memorial Fund](http://numfocus.org/johnhunter/).\n",
      "\n",
      "![CC BY SA](http://i.creativecommons.org/l/by-sa/3.0/88x31.png)"
     ]
    }
   ],
   "metadata": {}
  }
 ]
}