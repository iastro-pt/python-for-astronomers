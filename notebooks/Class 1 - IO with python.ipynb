{
 "metadata": {
  "name": "",
  "signature": "sha256:c8619b1b75b7afbf2043e4128c2bdc430cc589f15741b124adbb4519d69108b1"
 },
 "nbformat": 3,
 "nbformat_minor": 0,
 "worksheets": [
  {
   "cells": [
    {
     "cell_type": "heading",
     "level": 1,
     "metadata": {},
     "source": [
      "Input and Output (IO) with Python"
     ]
    },
    {
     "cell_type": "markdown",
     "metadata": {},
     "source": [
      "Python can be used to read many different kind of files.\n",
      "Most common is the CSV files (comma separated values which extend to other data formats as well as tabular separated), but normal text files can also be read.\n",
      "\n",
      "There are two files prepared `data_tabular.dat` and `data_csv.csv`. Let's take a look at them..."
     ]
    },
    {
     "cell_type": "code",
     "collapsed": false,
     "input": [
      "!more data_tabular.dat"
     ],
     "language": "python",
     "metadata": {},
     "outputs": []
    },
    {
     "cell_type": "code",
     "collapsed": false,
     "input": [
      "!more data_csv.csv"
     ],
     "language": "python",
     "metadata": {},
     "outputs": []
    },
    {
     "cell_type": "heading",
     "level": 2,
     "metadata": {},
     "source": [
      "numpy.loadtxt"
     ]
    },
    {
     "cell_type": "markdown",
     "metadata": {},
     "source": [
      "This function will read nearly every file containing tabular data (data in columns).\n",
      "\n",
      "There is another function called `numpy.genfromtxt` with a few more advanced features (which are usually not needed)."
     ]
    },
    {
     "cell_type": "code",
     "collapsed": false,
     "input": [
      "import numpy as np\n",
      "\n",
      "data_tab = np.loadtxt('data_tabular.dat', delimiter='\\t', comments='#')  # The last two arguments are also the default parameters.\n",
      "data_csv = np.loadtxt('data_csv.csv', delimiter=',')  # Here the delimiter is changed\n",
      "\n",
      "print data_tab"
     ],
     "language": "python",
     "metadata": {},
     "outputs": []
    },
    {
     "cell_type": "code",
     "collapsed": false,
     "input": [
      "# There is an optional argument which transposes the output array\n",
      "# this allows for each column to be retrieved separately\n",
      "data_tab = np.loadtxt('data_tabular.dat', unpack=True)\n",
      "c1, c2, c3, c4 = np.loadtxt('data_tabular.dat', unpack=True)\n",
      "print data_tab"
     ],
     "language": "python",
     "metadata": {},
     "outputs": []
    },
    {
     "cell_type": "code",
     "collapsed": false,
     "input": [
      "c1"
     ],
     "language": "python",
     "metadata": {},
     "outputs": []
    },
    {
     "cell_type": "heading",
     "level": 2,
     "metadata": {},
     "source": [
      "ADVANCED: Speed when reading big csv files"
     ]
    },
    {
     "cell_type": "markdown",
     "metadata": {},
     "source": [
      "It turns out that `numpy` is pretty slow when reading very big csv files. If that is the case, we can use other solutions like the built-in `csv` module or the `pandas` package."
     ]
    },
    {
     "cell_type": "code",
     "collapsed": false,
     "input": [
      "# Create a very big file\n",
      "#my_data = np.random.rand(150000, 3)*10\n",
      "#np.savetxt('./test.csv', my_data, delimiter=',', fmt='%.2f')\n",
      "\n",
      "# Import numpy and pandas\n",
      "import numpy as np, pandas as pd\n",
      "%time d = np.genfromtxt(\"./test.csv\", delimiter=\",\")\n",
      "%time d = np.loadtxt(\"./test.csv\", delimiter=\",\")\n",
      "%time d = pd.read_csv(\"./test.csv\", delimiter=\",\").values"
     ],
     "language": "python",
     "metadata": {},
     "outputs": []
    },
    {
     "cell_type": "code",
     "collapsed": false,
     "input": [
      "# solution with csv module\n",
      "import csv"
     ],
     "language": "python",
     "metadata": {},
     "outputs": []
    },
    {
     "cell_type": "code",
     "collapsed": false,
     "input": [
      "%%time\n",
      "with open('test.csv', 'r') as f:\n",
      "    reader = csv.reader(f)\n",
      "    data = []\n",
      "    for row in reader:\n",
      "        data.append(row)\n",
      "# DO NOT print data in the notebook! Learned the hard way..."
     ],
     "language": "python",
     "metadata": {},
     "outputs": []
    },
    {
     "cell_type": "heading",
     "level": 2,
     "metadata": {},
     "source": [
      "The builtin `open`"
     ]
    },
    {
     "cell_type": "markdown",
     "metadata": {},
     "source": [
      "This function should be able to handle it all, but lacks the \"one-liner\" for tabular data files.\n",
      "This is probably the way to go, if you want or need to edit a parameter file or something similar.\n",
      "\n",
      "Let us take a look at a parameter file here: `parameter.par`"
     ]
    },
    {
     "cell_type": "code",
     "collapsed": false,
     "input": [
      "!cat parameter.par"
     ],
     "language": "python",
     "metadata": {},
     "outputs": []
    },
    {
     "cell_type": "markdown",
     "metadata": {},
     "source": [
      "I see three mistake in the parameter file, \n",
      "\n",
      "   - first we must turn on `Funny info` by setting the value to `True`\n",
      "   - second the `Universe` must be set to real\n",
      "   - last, the `lecturer` should be `sergio` instead of `nuno`\n",
      "\n",
      "Let us try to open the file and print every line (the `,` at the end of the print statement removes the `\\n` in the line, which would have put extra space."
     ]
    },
    {
     "cell_type": "code",
     "collapsed": false,
     "input": [
      "with open('parameter.par', 'r') as lines:\n",
      "    for line in lines:\n",
      "        print line,"
     ],
     "language": "python",
     "metadata": {},
     "outputs": []
    },
    {
     "cell_type": "markdown",
     "metadata": {},
     "source": [
      "This is exactly equivalent to."
     ]
    },
    {
     "cell_type": "code",
     "collapsed": false,
     "input": [
      "lines = open('parameter.par', 'r')\n",
      "for line in lines:\n",
      "    print line,\n",
      "lines.close()"
     ],
     "language": "python",
     "metadata": {},
     "outputs": []
    },
    {
     "cell_type": "markdown",
     "metadata": {},
     "source": [
      "But we say the first solution is more pythonic"
     ]
    },
    {
     "cell_type": "markdown",
     "metadata": {},
     "source": [
      "Several things are going on here. The builtin `open` function takes two arguments\n",
      "   1. The filename\n",
      "   2. The mode the file will be read, this can be `w`, `r`, `a`, `b`, or a combination of these. More information can be found here:"
     ]
    },
    {
     "cell_type": "code",
     "collapsed": false,
     "input": [
      "print file.__doc__"
     ],
     "language": "python",
     "metadata": {},
     "outputs": []
    },
    {
     "cell_type": "markdown",
     "metadata": {},
     "source": [
      "Next, we used the other builtin function `with` (it is oficially called a context manager). When a file is opened with the `with` function it will automatically be closed at the end. The file is saved in the variable `lines`.\n",
      "Thereafter we `print` each `line` in `lines`. The `,` at the end of the `print` function remove the newline character (try without if you are in doubt).\n",
      "\n",
      "Now let's change the parameters in the file."
     ]
    },
    {
     "cell_type": "code",
     "collapsed": false,
     "input": [
      "with open('parameter.par', 'rb') as f:\n",
      "    for line in f:\n",
      "        # split each line by the = symbol\n",
      "        par, val = line.split('=')  # This returns a list with first item the parameter, and second item the value\n",
      "        par, val = par.strip(' '), val.strip(' ')  # Remove whitespaces from start and end\n",
      "        print par, val,  # before the changes\n",
      "        if par == 'Funny info':\n",
      "            val = True\n",
      "        elif par == 'Universe':\n",
      "            val = 'real'\n",
      "        elif par == 'lecturer':\n",
      "            val = 'sergio, joao, daniel'\n",
      "        print par, val  # after the changes\n",
      "        "
     ],
     "language": "python",
     "metadata": {},
     "outputs": []
    },
    {
     "cell_type": "markdown",
     "metadata": {},
     "source": [
      "The updated values can be saved in a string and saved to a file like this:"
     ]
    },
    {
     "cell_type": "code",
     "collapsed": false,
     "input": [
      "new_parameters = ''\n",
      "with open('parameter.par', 'rb') as f:\n",
      "    for line in f:\n",
      "        par, val = line.split('=')  # A list with first item as the parameter, and second item the value\n",
      "        par, val = par.strip(' '), val.strip(' ')  # Strip whitespaces\n",
      "        if par == 'Funny info':\n",
      "            val = 'True\\n'  # Adding a newline character is important (already there when loaded)\n",
      "        elif par == 'Universe':\n",
      "            val = 'real\\n'\n",
      "        elif par == 'lecturer':\n",
      "            val = 'sergio, joao, daniel\\n'\n",
      "        new_parameters += ' = '.join([par, val])\n",
      "\n",
      "with open('new_parameter.txt', 'w') as f:\n",
      "    f.write(new_parameters)\n",
      "\n",
      "!cat new_parameter.txt"
     ],
     "language": "python",
     "metadata": {},
     "outputs": []
    },
    {
     "cell_type": "markdown",
     "metadata": {},
     "source": [
      "This is very useful if one wants to change the `stars` parameter many times. The above snippet can be saved as a function with the `def` statement, and the `stars` can be an argument to the function call."
     ]
    },
    {
     "cell_type": "code",
     "collapsed": false,
     "input": [
      "def change_stars_in_par_file(n_stars):\n",
      "    new_parameters = ''\n",
      "    with open('parameter.par', 'rb') as f:\n",
      "        for line in f:\n",
      "            par, val = line.split('=')  # A list with first item as the parameter, and second item the value\n",
      "            par, val = par.strip(' '), val.strip(' ')  # Strip whitespaces\n",
      "            if par == 'Funny info':\n",
      "                val = 'True\\n'  # Adding a newline character is important (already there when loaded)\n",
      "            elif par == 'Universe':\n",
      "                val = 'real\\n'\n",
      "            elif par == 'lecturer':\n",
      "                val = 'sergio, joao, daniel\\n'\n",
      "            elif par == 'stars':\n",
      "                val = str(n_stars) + '\\n'\n",
      "            new_parameters += ' = '.join([par, val])\n",
      "\n",
      "    with open('new_parameter.txt', 'w') as f:\n",
      "        f.write(new_parameters)"
     ],
     "language": "python",
     "metadata": {},
     "outputs": []
    },
    {
     "cell_type": "code",
     "collapsed": false,
     "input": [
      "change_stars_in_par_file(10)\n",
      "!cat new_parameter.txt"
     ],
     "language": "python",
     "metadata": {},
     "outputs": []
    },
    {
     "cell_type": "heading",
     "level": 2,
     "metadata": {},
     "source": [
      "Writting to files"
     ]
    },
    {
     "cell_type": "markdown",
     "metadata": {},
     "source": [
      "We already saw one way of writting to a file"
     ]
    },
    {
     "cell_type": "code",
     "collapsed": false,
     "input": [
      "text = 'This will appear in the file\\nWith two lines'\n",
      "\n",
      "with open('temporary.txt', 'w') as f:\n",
      "    f.write(text)"
     ],
     "language": "python",
     "metadata": {},
     "outputs": []
    },
    {
     "cell_type": "markdown",
     "metadata": {},
     "source": [
      "There is also another way to do the same"
     ]
    },
    {
     "cell_type": "code",
     "collapsed": false,
     "input": [
      "with open('temporary.txt', 'w') as f:\n",
      "    print >>f, text"
     ],
     "language": "python",
     "metadata": {},
     "outputs": []
    },
    {
     "cell_type": "code",
     "collapsed": false,
     "input": [
      "!more temporary.txt"
     ],
     "language": "python",
     "metadata": {},
     "outputs": []
    },
    {
     "cell_type": "heading",
     "level": 3,
     "metadata": {},
     "source": [
      "numpy.savetxt"
     ]
    },
    {
     "cell_type": "markdown",
     "metadata": {},
     "source": [
      "To write tabular data into files we use the `savetxt` function which is basically the inverse of `loadtxt`"
     ]
    },
    {
     "cell_type": "code",
     "collapsed": false,
     "input": [
      "# read data from one file\n",
      "c1, c2, c3, c4 = np.loadtxt('data_tabular.dat', unpack=True)\n",
      "\n",
      "# write part of it to another file\n",
      "np.savetxt('data_tabular_3col.dat', zip(c1,c2,c3), fmt='%6.2f', header='Comment at the beginning of the file')"
     ],
     "language": "python",
     "metadata": {},
     "outputs": []
    },
    {
     "cell_type": "code",
     "collapsed": false,
     "input": [
      "!more data_tabular_3col.dat"
     ],
     "language": "python",
     "metadata": {},
     "outputs": []
    },
    {
     "cell_type": "code",
     "collapsed": false,
     "input": [],
     "language": "python",
     "metadata": {},
     "outputs": []
    }
   ],
   "metadata": {}
  }
 ]
}