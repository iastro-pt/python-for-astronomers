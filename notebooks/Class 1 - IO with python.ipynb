{
 "metadata": {
  "name": "",
  "signature": "sha256:e81084d484ba64a8d700baeda09ce597fce2696b0845c6ee1dd8cda18597ff36"
 },
 "nbformat": 3,
 "nbformat_minor": 0,
 "worksheets": [
  {
   "cells": [
    {
     "cell_type": "heading",
     "level": 1,
     "metadata": {},
     "source": [
      "Input and Output (IO) with Python"
     ]
    },
    {
     "cell_type": "markdown",
     "metadata": {},
     "source": [
      "Python can be used to read many different kind of files.\n",
      "Most common is the CSV files (comma separated values which extend to other data formats as well as tabular separated), but normal text files can also be read.\n",
      "\n",
      "There are two files prepared `data_tabular.dat` and `data_csv.csv`. Let's take a look at them..."
     ]
    },
    {
     "cell_type": "code",
     "collapsed": false,
     "input": [
      "!more data_tabular.dat"
     ],
     "language": "python",
     "metadata": {},
     "outputs": [
      {
       "output_type": "stream",
       "stream": "stdout",
       "text": [
        "#   lam     depth       FWHM       EW\r\n",
        "7504.23\t0.04758\t0.12852\t6.509960\r\n",
        "7515.09\t0.02124\t0.12858\t2.906420\r\n",
        "7515.83\t0.10727\t0.11850\t13.53087\r\n",
        "7515.90\t0.10732\t0.11898\t13.59263\r\n",
        "7522.73\t0.51513\t0.13063\t71.63131\r\n",
        "7523.17\t0.10325\t0.12242\t13.45447\r\n",
        "7523.29\t0.10310\t0.12179\t13.36595\r\n",
        "7525.10\t0.49421\t0.13354\t70.24878\r\n",
        "7533.37\t0.12350\t0.13955\t18.34531\r\n"
       ]
      }
     ],
     "prompt_number": 15
    },
    {
     "cell_type": "code",
     "collapsed": false,
     "input": [
      "!more data_csv.csv"
     ],
     "language": "python",
     "metadata": {},
     "outputs": [
      {
       "output_type": "stream",
       "stream": "stdout",
       "text": [
        "# lam   depth   FWHM    EW\r\n",
        "7504.23,0.04758,0.12852,6.509960\r\n",
        "7515.09,0.02124,0.12858,2.906420\r\n",
        "7515.83,0.10727,0.11850,13.53087\r\n",
        "7515.90,0.10732,0.11898,13.59263\r\n",
        "7522.73,0.51513,0.13063,71.63131\r\n",
        "7523.17,0.10325,0.12242,13.45447\r\n",
        "7523.29,0.10310,0.12179,13.36595\r\n",
        "7525.10,0.49421,0.13354,70.24878\r\n",
        "7533.37,0.12350,0.13955,18.34531\r\n"
       ]
      }
     ],
     "prompt_number": 16
    },
    {
     "cell_type": "heading",
     "level": 2,
     "metadata": {},
     "source": [
      "numpy.loadtxt"
     ]
    },
    {
     "cell_type": "markdown",
     "metadata": {},
     "source": [
      "This function will read nearly every file containing tabular data (data in columns).\n",
      "\n",
      "There is another function called `numpy.genfromtxt` with a few more advanced features (which are usually not needed)."
     ]
    },
    {
     "cell_type": "code",
     "collapsed": false,
     "input": [
      "%pylab inline\n",
      "import numpy as np\n",
      "\n",
      "data_tab = np.loadtxt('data_tabular.dat', delimiter='\\t', comments='#')  # The last two arguments are also the default parameters.\n",
      "data_csv = np.loadtxt('data_csv.csv', delimiter=',')  # Here the delimiter is changed\n",
      "\n",
      "print data_tab"
     ],
     "language": "python",
     "metadata": {},
     "outputs": [
      {
       "output_type": "stream",
       "stream": "stdout",
       "text": [
        "Populating the interactive namespace from numpy and matplotlib\n",
        "[[  7.50423000e+03   4.75800000e-02   1.28520000e-01   6.50996000e+00]\n",
        " [  7.51509000e+03   2.12400000e-02   1.28580000e-01   2.90642000e+00]\n",
        " [  7.51583000e+03   1.07270000e-01   1.18500000e-01   1.35308700e+01]\n",
        " [  7.51590000e+03   1.07320000e-01   1.18980000e-01   1.35926300e+01]\n",
        " [  7.52273000e+03   5.15130000e-01   1.30630000e-01   7.16313100e+01]\n",
        " [  7.52317000e+03   1.03250000e-01   1.22420000e-01   1.34544700e+01]\n",
        " [  7.52329000e+03   1.03100000e-01   1.21790000e-01   1.33659500e+01]\n",
        " [  7.52510000e+03   4.94210000e-01   1.33540000e-01   7.02487800e+01]\n",
        " [  7.53337000e+03   1.23500000e-01   1.39550000e-01   1.83453100e+01]]\n"
       ]
      }
     ],
     "prompt_number": 8
    },
    {
     "cell_type": "code",
     "collapsed": false,
     "input": [
      "# There is an optional argument which transposes the output array\n",
      "# this allows for each column to be retrieved separately\n",
      "data_tab = np.loadtxt('data_tabular.dat', unpack=True)\n",
      "c1, c2, c3, c4 = np.loadtxt('data_tabular.dat', unpack=True)\n",
      "print data_tab"
     ],
     "language": "python",
     "metadata": {},
     "outputs": [
      {
       "output_type": "stream",
       "stream": "stdout",
       "text": [
        "[[  7.50423000e+03   7.51509000e+03   7.51583000e+03   7.51590000e+03\n",
        "    7.52273000e+03   7.52317000e+03   7.52329000e+03   7.52510000e+03\n",
        "    7.53337000e+03]\n",
        " [  4.75800000e-02   2.12400000e-02   1.07270000e-01   1.07320000e-01\n",
        "    5.15130000e-01   1.03250000e-01   1.03100000e-01   4.94210000e-01\n",
        "    1.23500000e-01]\n",
        " [  1.28520000e-01   1.28580000e-01   1.18500000e-01   1.18980000e-01\n",
        "    1.30630000e-01   1.22420000e-01   1.21790000e-01   1.33540000e-01\n",
        "    1.39550000e-01]\n",
        " [  6.50996000e+00   2.90642000e+00   1.35308700e+01   1.35926300e+01\n",
        "    7.16313100e+01   1.34544700e+01   1.33659500e+01   7.02487800e+01\n",
        "    1.83453100e+01]]\n"
       ]
      }
     ],
     "prompt_number": 5
    },
    {
     "cell_type": "code",
     "collapsed": false,
     "input": [
      "c1"
     ],
     "language": "python",
     "metadata": {},
     "outputs": [
      {
       "metadata": {},
       "output_type": "pyout",
       "prompt_number": 6,
       "text": [
        "array([ 7504.23,  7515.09,  7515.83,  7515.9 ,  7522.73,  7523.17,\n",
        "        7523.29,  7525.1 ,  7533.37])"
       ]
      }
     ],
     "prompt_number": 6
    },
    {
     "cell_type": "heading",
     "level": 2,
     "metadata": {},
     "source": [
      "ADVANCED: Speed when reading big csv files"
     ]
    },
    {
     "cell_type": "markdown",
     "metadata": {},
     "source": [
      "It turns out that `numpy` is pretty slow when reading very big csv files. If that is the case, we can use other solutions like the built-in `csv` module or the `pandas` package."
     ]
    },
    {
     "cell_type": "code",
     "collapsed": false,
     "input": [
      "# Create a very big file\n",
      "my_data = numpy.random.rand(1500000, 3)*10\n",
      "#numpy.savetxt('./test.csv', my_data, delimiter=',', fmt='%.2f')\n",
      "\n",
      "# Import numpy and pandas\n",
      "import numpy as np, pandas as pd\n",
      "%time d = np.genfromtxt(\"./test.csv\", delimiter=\",\")\n",
      "%time d = np.loadtxt(\"./test.csv\", delimiter=\",\")\n",
      "%time d = pd.read_csv(\"./test.csv\", delimiter=\",\").values"
     ],
     "language": "python",
     "metadata": {},
     "outputs": [
      {
       "output_type": "stream",
       "stream": "stdout",
       "text": [
        "CPU times: user 7.18 s, sys: 92 ms, total: 7.27 s\n",
        "Wall time: 7.31 s\n",
        "CPU times: user 9.28 s, sys: 104 ms, total: 9.38 s"
       ]
      },
      {
       "output_type": "stream",
       "stream": "stdout",
       "text": [
        "\n",
        "Wall time: 9.39 s\n",
        "CPU times: user 376 ms, sys: 52 ms, total: 428 ms"
       ]
      },
      {
       "output_type": "stream",
       "stream": "stdout",
       "text": [
        "\n",
        "Wall time: 429 ms\n"
       ]
      }
     ],
     "prompt_number": 16
    },
    {
     "cell_type": "code",
     "collapsed": false,
     "input": [
      "# solution with csv module\n",
      "import csv"
     ],
     "language": "python",
     "metadata": {},
     "outputs": [],
     "prompt_number": 17
    },
    {
     "cell_type": "code",
     "collapsed": false,
     "input": [
      "%%time\n",
      "with open('test.csv', 'r') as f:\n",
      "   reader = csv.reader(f)\n",
      "   data = []\n",
      "   for row in reader:\n",
      "      data.append(row)"
     ],
     "language": "python",
     "metadata": {},
     "outputs": [
      {
       "output_type": "stream",
       "stream": "stdout",
       "text": [
        "CPU times: user 2.3 s, sys: 96 ms, total: 2.4 s\n",
        "Wall time: 2.41 s\n"
       ]
      }
     ],
     "prompt_number": 18
    },
    {
     "cell_type": "heading",
     "level": 2,
     "metadata": {},
     "source": [
      "The builtin `open`"
     ]
    },
    {
     "cell_type": "markdown",
     "metadata": {},
     "source": [
      "This function should be able to handle it all, but lacks the \"one-liner\" for tabular data files.\n",
      "This is probably the way to go, if you want or need to edit a parameter file or something similar.\n",
      "\n",
      "Let us take a look at a parameter file here: `parameter.par`"
     ]
    },
    {
     "cell_type": "code",
     "collapsed": false,
     "input": [
      "!cat parameter.par"
     ],
     "language": "python",
     "metadata": {},
     "outputs": [
      {
       "output_type": "stream",
       "stream": "stdout",
       "text": [
        "Parameter 1 = 42\r\n",
        "Funny info = False\r\n",
        "Universe = imag\r\n",
        "stars=1e6\r\n",
        "lecturer=nuno, joao, daniel\r\n"
       ]
      }
     ],
     "prompt_number": 9
    },
    {
     "cell_type": "markdown",
     "metadata": {},
     "source": [
      "I see three mistake in the parameter file, \n",
      "\n",
      "   - first we must turn on `Funny info` by setting the value to `True`\n",
      "   - second the `Universe` must be set to real\n",
      "   - last, the `lecturer` should be `sergio` instead of `nuno`\n",
      "\n",
      "Let us try to open the file and print every line."
     ]
    },
    {
     "cell_type": "code",
     "collapsed": false,
     "input": [
      "with open('parameter.par', 'r') as f:\n",
      "    for line in f:\n",
      "        print line,"
     ],
     "language": "python",
     "metadata": {},
     "outputs": [
      {
       "output_type": "stream",
       "stream": "stdout",
       "text": [
        "parameter1 = 42\n",
        "Funny info = False\n",
        "Universe = imag\n",
        "stars = 1e6\n",
        "lecturer = nuno, joao, daniel\n"
       ]
      }
     ],
     "prompt_number": 1
    },
    {
     "cell_type": "markdown",
     "metadata": {},
     "source": [
      "This is exactly equivalent to"
     ]
    },
    {
     "cell_type": "code",
     "collapsed": false,
     "input": [
      "f = open('parameter.par', 'r')\n",
      "for line in f:\n",
      "    print line,\n",
      "f.close()"
     ],
     "language": "python",
     "metadata": {},
     "outputs": [
      {
       "output_type": "stream",
       "stream": "stdout",
       "text": [
        "parameter1 = 42\n",
        "Funny info = False\n",
        "Universe = imag\n",
        "stars = 1e6\n",
        "lecturer = nuno, joao, daniel\n"
       ]
      }
     ],
     "prompt_number": 2
    },
    {
     "cell_type": "markdown",
     "metadata": {},
     "source": [
      "But we say the first solution is more pythonic"
     ]
    },
    {
     "cell_type": "markdown",
     "metadata": {},
     "source": [
      "Several things are going on here. The builtin `open` function takes two arguments\n",
      "   1. The filename\n",
      "   2. The mode the file will be read, this can be `w`, `r`, `a`, `b`, or a combination of these. More information can be found here:"
     ]
    },
    {
     "cell_type": "code",
     "collapsed": false,
     "input": [
      "print file.__doc__"
     ],
     "language": "python",
     "metadata": {},
     "outputs": []
    },
    {
     "cell_type": "markdown",
     "metadata": {},
     "source": [
      "Next, we used the other builtin function `with` (it is oficially called a context manager). When a file is openned with the `with` function it will automatically be closed at the end. The file is saved in the variable `f`.\n",
      "Thereafter we `print` each `line` in `f`. The `,` at the end of the `print` function remove the newline character (try without if you are in doubt).\n",
      "\n",
      "Now let's change the parameters in the file."
     ]
    },
    {
     "cell_type": "code",
     "collapsed": false,
     "input": [
      "with open('parameter.par', 'rb') as f:\n",
      "    for line in f:\n",
      "        # split each line by the = symbol\n",
      "        par, val = line.split('=')  # This returns a list with first item the parameter, and second item the value\n",
      "        par, val = par.strip(' '), val.strip(' ')  # Remove whitespaces from start and end\n",
      "        print par, val,  # before the changes\n",
      "        if par == 'Funny info':\n",
      "            val = True\n",
      "        elif par == 'Universe':\n",
      "            val = 'real'\n",
      "        elif par == 'lecturer':\n",
      "            val = 'sergio, joao, daniel'\n",
      "        print par, val  # after the changes\n",
      "        "
     ],
     "language": "python",
     "metadata": {},
     "outputs": [
      {
       "output_type": "stream",
       "stream": "stdout",
       "text": [
        "parameter1 42\n",
        "parameter1 42\n",
        "\n",
        "Funny info False\n",
        "Funny info True\n",
        "Universe imag\n",
        "Universe real\n",
        "stars 1e6\n",
        "stars 1e6\n",
        "\n",
        "lecturer nuno, joao, daniel\n",
        "lecturer sergio, joao, daniel\n"
       ]
      }
     ],
     "prompt_number": 34
    },
    {
     "cell_type": "markdown",
     "metadata": {},
     "source": [
      "The updated values can be saved in a string and saved to a file like this:"
     ]
    },
    {
     "cell_type": "code",
     "collapsed": false,
     "input": [
      "new_parameters = ''\n",
      "with open('parameter.par', 'rb') as f:\n",
      "    for line in f:\n",
      "        par, val = line.split('=')  # A list with first item as the parameter, and second item the value\n",
      "        par, val = par.strip(' '), val.strip(' ')  # Strip whitespaces\n",
      "        if par == 'Funny info':\n",
      "            val = 'True\\n'  # Adding a newline character is important (already there when loaded)\n",
      "        elif par == 'Universe':\n",
      "            val = 'real\\n'\n",
      "        elif par == 'lecturer':\n",
      "            val = 'sergio, joao, daniel\\n'\n",
      "        new_parameters += ' = '.join([par, val])\n",
      "\n",
      "with open('new_parameter.txt', 'w') as f:\n",
      "    f.write(new_parameters)\n",
      "\n",
      "!cat new_parameter.txt"
     ],
     "language": "python",
     "metadata": {},
     "outputs": [
      {
       "output_type": "stream",
       "stream": "stdout",
       "text": [
        "parameter1 = 42\r\n",
        "Funny info = True\r\n",
        "Universe = real\r\n",
        "stars = 1e6\r\n",
        "lecturer = sergio, joao, daniel\r\n"
       ]
      }
     ],
     "prompt_number": 35
    },
    {
     "cell_type": "markdown",
     "metadata": {},
     "source": [
      "This is very useful if one wants to change the `stars` parameter many times. The above snippet can be saved as a function with the `def` statement, and the `stars` can be an argument to the function call."
     ]
    },
    {
     "cell_type": "code",
     "collapsed": false,
     "input": [
      "def change_stars_in_par_file(n_stars):\n",
      "    new_parameters = ''\n",
      "    with open('parameter.par', 'rb') as f:\n",
      "        for line in f:\n",
      "            par, val = line.split('=')  # A list with first item as the parameter, and second item the value\n",
      "            par, val = par.strip(' '), val.strip(' ')  # Strip whitespaces\n",
      "            if par == 'Funny info':\n",
      "                val = 'True\\n'  # Adding a newline character is important (already there when loaded)\n",
      "            elif par == 'Universe':\n",
      "                val = 'real\\n'\n",
      "            elif par == 'lecturer':\n",
      "                val = 'sergio, joao, daniel\\n'\n",
      "            elif par == 'stars':\n",
      "                val = str(n_stars) + '\\n'\n",
      "            new_parameters += ' = '.join([par, val])\n",
      "\n",
      "    with open('new_parameter.txt', 'w') as f:\n",
      "        f.write(new_parameters)"
     ],
     "language": "python",
     "metadata": {},
     "outputs": [],
     "prompt_number": 44
    },
    {
     "cell_type": "code",
     "collapsed": false,
     "input": [
      "change_stars_in_par_file(10)\n",
      "!cat new_parameter.txt"
     ],
     "language": "python",
     "metadata": {},
     "outputs": [
      {
       "output_type": "stream",
       "stream": "stdout",
       "text": [
        "parameter1 = 42\r\n",
        "Funny info = True\r\n",
        "Universe = real\r\n",
        "stars = 10\r\n",
        "lecturer = sergio, joao, daniel\r\n"
       ]
      }
     ],
     "prompt_number": 47
    },
    {
     "cell_type": "heading",
     "level": 2,
     "metadata": {},
     "source": [
      "Writting to files"
     ]
    },
    {
     "cell_type": "markdown",
     "metadata": {},
     "source": [
      "We already saw one way of writting to a file"
     ]
    },
    {
     "cell_type": "code",
     "collapsed": false,
     "input": [
      "text = 'This will appear in the file\\nWith two lines'\n",
      "\n",
      "with open('temporary.txt', 'w') as f:\n",
      "    f.write(text)"
     ],
     "language": "python",
     "metadata": {},
     "outputs": [],
     "prompt_number": 9
    },
    {
     "cell_type": "markdown",
     "metadata": {},
     "source": [
      "There is also another way to do the same"
     ]
    },
    {
     "cell_type": "code",
     "collapsed": false,
     "input": [
      "with open('temporary.txt', 'w') as f:\n",
      "    print >>f, text"
     ],
     "language": "python",
     "metadata": {},
     "outputs": [],
     "prompt_number": 7
    },
    {
     "cell_type": "code",
     "collapsed": false,
     "input": [
      "!more temporary.txt"
     ],
     "language": "python",
     "metadata": {},
     "outputs": [
      {
       "output_type": "stream",
       "stream": "stdout",
       "text": [
        "This will appear in the file\r\n",
        "With two lines\r\n"
       ]
      }
     ],
     "prompt_number": 10
    },
    {
     "cell_type": "heading",
     "level": 3,
     "metadata": {},
     "source": [
      "numpy.savetxt"
     ]
    },
    {
     "cell_type": "markdown",
     "metadata": {},
     "source": [
      "To write tabular data into files we use the `savetxt` function which is basically the inverse of `loadtxt`"
     ]
    },
    {
     "cell_type": "code",
     "collapsed": false,
     "input": [
      "# read data from one file\n",
      "c1, c2, c3, c4 = np.loadtxt('data_tabular.dat', unpack=True)\n",
      "\n",
      "# write part of it to another file\n",
      "np.savetxt('data_tabular_3col.dat', zip(c1,c2,c3), fmt='%6.2f', header='Comment at the beginning of the file')"
     ],
     "language": "python",
     "metadata": {},
     "outputs": [],
     "prompt_number": 13
    },
    {
     "cell_type": "code",
     "collapsed": false,
     "input": [
      "!more data_tabular_3col.dat"
     ],
     "language": "python",
     "metadata": {},
     "outputs": [
      {
       "output_type": "stream",
       "stream": "stdout",
       "text": [
        "# Comment at the beginning of the file\r\n",
        "7504.23   0.05   0.13\r\n",
        "7515.09   0.02   0.13\r\n",
        "7515.83   0.11   0.12\r\n",
        "7515.90   0.11   0.12\r\n",
        "7522.73   0.52   0.13\r\n",
        "7523.17   0.10   0.12\r\n",
        "7523.29   0.10   0.12\r\n",
        "7525.10   0.49   0.13\r\n",
        "7533.37   0.12   0.14\r\n"
       ]
      }
     ],
     "prompt_number": 14
    },
    {
     "cell_type": "code",
     "collapsed": false,
     "input": [],
     "language": "python",
     "metadata": {},
     "outputs": []
    }
   ],
   "metadata": {}
  }
 ]
}