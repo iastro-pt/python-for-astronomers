{
 "metadata": {
  "name": "",
  "signature": "sha256:6e5741dd827f87e850bae8e1d8885bb2f52f469c4a14aa34b5a31230286825f2"
 },
 "nbformat": 3,
 "nbformat_minor": 0,
 "worksheets": [
  {
   "cells": [
    {
     "cell_type": "heading",
     "level": 1,
     "metadata": {},
     "source": [
      "Matplotlib and scipy"
     ]
    },
    {
     "cell_type": "code",
     "collapsed": false,
     "input": [
      "%pylab inline\n",
      "# Gives us\n",
      "# import matplotlib.pyplot as plt\n",
      "# import numpy as np\n",
      "# from pylab import *\n",
      "# from numpy import *"
     ],
     "language": "python",
     "metadata": {},
     "outputs": []
    },
    {
     "cell_type": "heading",
     "level": 2,
     "metadata": {},
     "source": [
      "A lot of examples"
     ]
    },
    {
     "cell_type": "code",
     "collapsed": false,
     "input": [
      "from IPython.display import HTML\n",
      "print 'http://matplotlib.org/gallery.html'\n",
      "HTML('<iframe src=http://matplotlib.org/gallery.html width=900 height=350></iframe>')"
     ],
     "language": "python",
     "metadata": {},
     "outputs": []
    },
    {
     "cell_type": "heading",
     "level": 2,
     "metadata": {},
     "source": [
      "Very basic plots"
     ]
    },
    {
     "cell_type": "code",
     "collapsed": false,
     "input": [
      "import matplotlib.pyplot as plt\n",
      "plt.plot([1,2,3,4])\n",
      "plt.ylabel('some numbers')\n",
      "plt.show()"
     ],
     "language": "python",
     "metadata": {},
     "outputs": []
    },
    {
     "cell_type": "heading",
     "level": 3,
     "metadata": {},
     "source": [
      "Legends and multiple plots"
     ]
    },
    {
     "cell_type": "code",
     "collapsed": false,
     "input": [
      "import numpy as np\n",
      "import matplotlib.pyplot as plt\n",
      "\n",
      "# evenly sampled time at 200ms intervals\n",
      "t = np.arange(0., 5., 0.2)\n",
      "\n",
      "# red dashes, blue squares and green triangles\n",
      "plt.plot(t, t, 'r--', t, t**2, 'bs', t, t**3, 'g^')\n",
      "plt.legend(('$t$', '$t^2$', '$t^3$'), loc='best')\n",
      "plt.show()"
     ],
     "language": "python",
     "metadata": {},
     "outputs": []
    },
    {
     "cell_type": "heading",
     "level": 3,
     "metadata": {},
     "source": [
      "Subplots"
     ]
    },
    {
     "cell_type": "code",
     "collapsed": false,
     "input": [
      "import numpy as np\n",
      "import matplotlib.pyplot as plt\n",
      "\n",
      "def f(t):\n",
      "    return np.exp(-t) * np.cos(2*np.pi*t)\n",
      "\n",
      "t1 = np.arange(0.0, 5.0, 0.1)\n",
      "t2 = np.arange(0.0, 5.0, 0.02)\n",
      "\n",
      "plt.figure(1)\n",
      "plt.subplot(211)\n",
      "plt.plot(t1, f(t1), 'bo', t2, f(t2), 'k')\n",
      "\n",
      "plt.subplot(212)\n",
      "plt.plot(t2, np.cos(2*np.pi*t2), 'r--')\n",
      "plt.show()"
     ],
     "language": "python",
     "metadata": {},
     "outputs": []
    },
    {
     "cell_type": "heading",
     "level": 3,
     "metadata": {},
     "source": [
      "Histograms"
     ]
    },
    {
     "cell_type": "code",
     "collapsed": false,
     "input": [
      "import numpy as np\n",
      "import matplotlib.pyplot as plt\n",
      "\n",
      "mu, sigma = 100, 15\n",
      "x1 = mu + sigma * np.random.randn(10000)\n",
      "x2 = 60 + 18 * np.random.randn(10000)\n",
      "\n",
      "# the histogram of the data\n",
      "n, bins, patches = plt.hist(x1, 50, normed=1, facecolor='g', alpha=0.50)\n",
      "n, bins, patches = plt.hist(x2, 50, normed=1, facecolor='r', alpha=0.50)\n",
      "\n",
      "\n",
      "plt.xlabel('IQ')\n",
      "plt.ylabel('Probability')\n",
      "plt.title('Histogram of IQ')\n",
      "plt.text(120, .025, r'$\\mu=100,\\ \\sigma=15$')\n",
      "plt.text(10, .020, r'$\\mu=60,\\ \\sigma=18$')\n",
      "plt.axis([0, 160, 0, 0.03])\n",
      "plt.grid(True)\n",
      "plt.show()"
     ],
     "language": "python",
     "metadata": {},
     "outputs": []
    },
    {
     "cell_type": "code",
     "collapsed": false,
     "input": [
      "n = 1024\n",
      "X = np.random.normal(0, 1, n)\n",
      "Y = np.random.normal(0, 1, n)\n",
      "T = np.arctan2(Y, X)\n",
      "\n",
      "pl.axes([0.025, 0.025, 0.95, 0.95])\n",
      "pl.scatter(X, Y, s=75, c=T, alpha=.5)\n",
      "\n",
      "pl.xlim(-1.5, 1.5)\n",
      "pl.xticks(())\n",
      "pl.ylim(-1.5, 1.5)\n",
      "pl.yticks(())\n",
      "\n",
      "pl.show()"
     ],
     "language": "python",
     "metadata": {},
     "outputs": []
    },
    {
     "cell_type": "heading",
     "level": 2,
     "metadata": {},
     "source": [
      "The object-oriented approach"
     ]
    },
    {
     "cell_type": "code",
     "collapsed": false,
     "input": [
      "from pylab import figure, show\n",
      "from numpy import arange, sin, pi\n",
      "\n",
      "t = arange(0.0, pi, 0.01)\n",
      "\n",
      "fig = figure(1)  # fig is a Figure object\n",
      "\n",
      "ax1 = fig.add_subplot(211)  # add a subplot to fig\n",
      "                            # ax1 is a subplot object with methods such as plot\n",
      "ax1.plot(t, sin(2*pi*t))\n",
      "ax1.set_xticks((0, 1, 2), ('0', '1', '2'))\n",
      "ax1.grid(True)\n",
      "ax1.set_xlim(0, pi)\n",
      "ax1.set_ylim(-2,2)\n",
      "ax1.set_ylabel('Hz')\n",
      "ax1.set_title('A sine wave or two')\n",
      "\n",
      "\n",
      "for label in ax1.get_xticklabels():\n",
      "    label.set_color('r')\n",
      "\n",
      "\n",
      "ax2 = fig.add_subplot(212)  # add another subplot\n",
      "ax2.plot(t, sin(2*2*pi*t))\n",
      "ax2.grid(False)\n",
      "ax2.axis((0, pi, -2, 2))\n",
      "ax2.set_xticks((0, pi/2, pi), ('0', '1', '2'))\n",
      "#l = ax2.set_xlabel('XX axis')\n",
      "#l.set_color('g')\n",
      "#l.set_fontsize('xx-large')\n",
      "\n",
      "show()"
     ],
     "language": "python",
     "metadata": {},
     "outputs": []
    },
    {
     "cell_type": "heading",
     "level": 3,
     "metadata": {},
     "source": [
      "Ticks (user defined things on axis) and XKCD"
     ]
    },
    {
     "cell_type": "code",
     "collapsed": false,
     "input": [
      "t = arange(0, 3.5, 0.1)\n",
      "plt.xkcd()  # For fun\n",
      "fig = plt.figure(1)\n",
      "ax = fig.add_subplot(111)\n",
      "\n",
      "ax.plot(t, np.exp(t), linewidth=5, color='r', alpha=0.7)\n",
      "ax.set_xticks((0, 1, 2), ('0', '1', '2'))\n",
      "ax.set_xlim(0, pi)\n",
      "ax.set_title('Christmas spirit', size='x-large', color='g')\n",
      "ax.hlines([2, 5, 10, 20], 0, 5, color='g', linestyle='--', alpha=0.5)\n",
      "plt.xticks((0.5, 1.5, 2.5, 3.45), ('October', 'November', 'December', 'Christmas'), rotation=315, size='xx-large', color='g')\n",
      "plt.yticks((2, 5, 10, 20), ('Not at all', 'Listen to songs', 'Baking cookies', 'GIFTS!!!'), size='x-large', color='g')\n",
      "show()"
     ],
     "language": "python",
     "metadata": {},
     "outputs": []
    }
   ],
   "metadata": {}
  }
 ]
}