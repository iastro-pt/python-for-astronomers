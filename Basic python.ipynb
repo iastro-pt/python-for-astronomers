{
 "metadata": {
  "name": "",
  "signature": "sha256:bfc628c17a03506539f7abb2e4d84ef93e5dbd497b850a6115024fb63631a211"
 },
 "nbformat": 3,
 "nbformat_minor": 0,
 "worksheets": []
}